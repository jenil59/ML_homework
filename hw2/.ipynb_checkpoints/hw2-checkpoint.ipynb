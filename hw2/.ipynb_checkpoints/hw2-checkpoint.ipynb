{
 "cells": [
  {
   "cell_type": "markdown",
   "metadata": {},
   "source": [
    "# Applied Machine Learning \n",
    "\n",
    "## Homework 2: Decision trees and machine learning fundamentals \n"
   ]
  },
  {
   "cell_type": "code",
<<<<<<< HEAD
   "execution_count": 123,
=======
   "execution_count": 1,
>>>>>>> 46369d6193687bfa3113b0bb09e9ea33804f2bee
   "metadata": {},
   "outputs": [],
   "source": [
    "import matplotlib.pyplot as plt\n",
    "import numpy as np\n",
    "import pandas as pd\n",
    "import random as rd\n",
    "\n",
    "plt.rcParams[\"font.size\"] = 16\n",
    "\n",
    "from sklearn.model_selection import cross_val_score, cross_validate, train_test_split\n",
    "from sklearn.tree import DecisionTreeClassifier"
   ]
  },
  {
   "cell_type": "markdown",
   "metadata": {},
   "source": [
    "## Introducing the data set\n",
    " \n",
    "For this  assignment you'll be looking at Kaggle's [Spotify Song Attributes](https://www.kaggle.com/geomack/spotifyclassification/) dataset.\n",
    "The dataset contains a number of features of songs from 2017 and a binary variable `target` that represents whether the user liked the song (encoded as 1) or not (encoded as 0). See the documentation of all the features [here](https://developer.spotify.com/documentation/web-api/reference/tracks/get-audio-features/). \n",
    "\n",
    "This dataset is publicly available on Kaggle, and you will have to download it yourself. Follow the steps below to get the data CSV. \n",
    "\n",
    "1. If you do not have an account with [Kaggle](https://www.kaggle.com/), you will first need to create one (it's free).\n",
    "2. Login to your account and [download](https://www.kaggle.com/geomack/spotifyclassification/download) the dataset.\n",
    "3. Unzip the data file if needed, then rename it to `spotify.csv`, and move it to the same directory as this notebook."
   ]
  },
  {
   "cell_type": "markdown",
   "metadata": {},
   "source": [
    "## Exercise 1: Exploratory data analysis"
   ]
  },
  {
   "cell_type": "markdown",
   "metadata": {
    "nbgrader": {
     "grade": false,
     "grade_id": "cell-d4d478b6cdc9bf88",
     "locked": true,
     "schema_version": 3,
     "solution": false
    }
   },
   "source": [
    "#### 1(a) \n",
    "rubric={points:2}\n",
    "\n",
    "Read in the data CSV and store it as a pandas dataframe named `spotify_df`. The first column of the .csv file should be set as the index."
   ]
  },
  {
   "cell_type": "code",
   "execution_count": 124,
   "metadata": {
    "nbgrader": {
     "grade": true,
     "grade_id": "cell-4f3f14b59fd7e6b8",
     "locked": false,
     "points": 0,
     "schema_version": 3,
     "solution": true,
     "task": false
    }
   },
   "outputs": [],
   "source": [
    "spotify_df = pd.read_csv('data.csv',index_col=0)"
   ]
  },
  {
   "cell_type": "code",
   "execution_count": 125,
   "metadata": {},
   "outputs": [
    {
     "data": {
      "text/html": [
       "<div>\n",
       "<style scoped>\n",
       "    .dataframe tbody tr th:only-of-type {\n",
       "        vertical-align: middle;\n",
       "    }\n",
       "\n",
       "    .dataframe tbody tr th {\n",
       "        vertical-align: top;\n",
       "    }\n",
       "\n",
       "    .dataframe thead th {\n",
       "        text-align: right;\n",
       "    }\n",
       "</style>\n",
       "<table border=\"1\" class=\"dataframe\">\n",
       "  <thead>\n",
       "    <tr style=\"text-align: right;\">\n",
       "      <th></th>\n",
       "      <th>acousticness</th>\n",
       "      <th>danceability</th>\n",
       "      <th>duration_ms</th>\n",
       "      <th>energy</th>\n",
       "      <th>instrumentalness</th>\n",
       "      <th>key</th>\n",
       "      <th>liveness</th>\n",
       "      <th>loudness</th>\n",
       "      <th>mode</th>\n",
       "      <th>speechiness</th>\n",
       "      <th>tempo</th>\n",
       "      <th>time_signature</th>\n",
       "      <th>valence</th>\n",
       "      <th>target</th>\n",
       "      <th>song_title</th>\n",
       "      <th>artist</th>\n",
       "    </tr>\n",
       "  </thead>\n",
       "  <tbody>\n",
       "    <tr>\n",
       "      <th>0</th>\n",
       "      <td>0.0102</td>\n",
       "      <td>0.833</td>\n",
       "      <td>204600</td>\n",
       "      <td>0.434</td>\n",
       "      <td>0.021900</td>\n",
       "      <td>2</td>\n",
       "      <td>0.1650</td>\n",
       "      <td>-8.795</td>\n",
       "      <td>1</td>\n",
       "      <td>0.4310</td>\n",
       "      <td>150.062</td>\n",
       "      <td>4.0</td>\n",
       "      <td>0.286</td>\n",
       "      <td>1</td>\n",
       "      <td>Mask Off</td>\n",
       "      <td>Future</td>\n",
       "    </tr>\n",
       "    <tr>\n",
       "      <th>1</th>\n",
       "      <td>0.1990</td>\n",
       "      <td>0.743</td>\n",
       "      <td>326933</td>\n",
       "      <td>0.359</td>\n",
       "      <td>0.006110</td>\n",
       "      <td>1</td>\n",
       "      <td>0.1370</td>\n",
       "      <td>-10.401</td>\n",
       "      <td>1</td>\n",
       "      <td>0.0794</td>\n",
       "      <td>160.083</td>\n",
       "      <td>4.0</td>\n",
       "      <td>0.588</td>\n",
       "      <td>1</td>\n",
       "      <td>Redbone</td>\n",
       "      <td>Childish Gambino</td>\n",
       "    </tr>\n",
       "    <tr>\n",
       "      <th>2</th>\n",
       "      <td>0.0344</td>\n",
       "      <td>0.838</td>\n",
       "      <td>185707</td>\n",
       "      <td>0.412</td>\n",
       "      <td>0.000234</td>\n",
       "      <td>2</td>\n",
       "      <td>0.1590</td>\n",
       "      <td>-7.148</td>\n",
       "      <td>1</td>\n",
       "      <td>0.2890</td>\n",
       "      <td>75.044</td>\n",
       "      <td>4.0</td>\n",
       "      <td>0.173</td>\n",
       "      <td>1</td>\n",
       "      <td>Xanny Family</td>\n",
       "      <td>Future</td>\n",
       "    </tr>\n",
       "    <tr>\n",
       "      <th>3</th>\n",
       "      <td>0.6040</td>\n",
       "      <td>0.494</td>\n",
       "      <td>199413</td>\n",
       "      <td>0.338</td>\n",
       "      <td>0.510000</td>\n",
       "      <td>5</td>\n",
       "      <td>0.0922</td>\n",
       "      <td>-15.236</td>\n",
       "      <td>1</td>\n",
       "      <td>0.0261</td>\n",
       "      <td>86.468</td>\n",
       "      <td>4.0</td>\n",
       "      <td>0.230</td>\n",
       "      <td>1</td>\n",
       "      <td>Master Of None</td>\n",
       "      <td>Beach House</td>\n",
       "    </tr>\n",
       "    <tr>\n",
       "      <th>4</th>\n",
       "      <td>0.1800</td>\n",
       "      <td>0.678</td>\n",
       "      <td>392893</td>\n",
       "      <td>0.561</td>\n",
       "      <td>0.512000</td>\n",
       "      <td>5</td>\n",
       "      <td>0.4390</td>\n",
       "      <td>-11.648</td>\n",
       "      <td>0</td>\n",
       "      <td>0.0694</td>\n",
       "      <td>174.004</td>\n",
       "      <td>4.0</td>\n",
       "      <td>0.904</td>\n",
       "      <td>1</td>\n",
       "      <td>Parallel Lines</td>\n",
       "      <td>Junior Boys</td>\n",
       "    </tr>\n",
       "  </tbody>\n",
       "</table>\n",
       "</div>"
      ],
      "text/plain": [
       "   acousticness  danceability  duration_ms  energy  instrumentalness  key  \\\n",
       "0        0.0102         0.833       204600   0.434          0.021900    2   \n",
       "1        0.1990         0.743       326933   0.359          0.006110    1   \n",
       "2        0.0344         0.838       185707   0.412          0.000234    2   \n",
       "3        0.6040         0.494       199413   0.338          0.510000    5   \n",
       "4        0.1800         0.678       392893   0.561          0.512000    5   \n",
       "\n",
       "   liveness  loudness  mode  speechiness    tempo  time_signature  valence  \\\n",
       "0    0.1650    -8.795     1       0.4310  150.062             4.0    0.286   \n",
       "1    0.1370   -10.401     1       0.0794  160.083             4.0    0.588   \n",
       "2    0.1590    -7.148     1       0.2890   75.044             4.0    0.173   \n",
       "3    0.0922   -15.236     1       0.0261   86.468             4.0    0.230   \n",
       "4    0.4390   -11.648     0       0.0694  174.004             4.0    0.904   \n",
       "\n",
       "   target      song_title            artist  \n",
       "0       1        Mask Off            Future  \n",
       "1       1         Redbone  Childish Gambino  \n",
       "2       1    Xanny Family            Future  \n",
       "3       1  Master Of None       Beach House  \n",
       "4       1  Parallel Lines       Junior Boys  "
      ]
     },
     "execution_count": 125,
     "metadata": {},
     "output_type": "execute_result"
    }
   ],
   "source": [
    "spotify_df.head()"
   ]
  },
  {
   "cell_type": "markdown",
   "metadata": {},
   "source": [
    "#### 1(b)\n",
    "rubric={points:2}\n",
    "\n",
    "Run the following line of code to split the data. How many training and test examples do we have?\n",
    "\n",
    "> Note: we are setting the `random_state` so that everyone has the same split on their assignments. This will make it easier for the TAs to grade."
   ]
  },
  {
   "cell_type": "code",
   "execution_count": 126,
   "metadata": {},
   "outputs": [],
   "source": [
    "df_train, df_test = train_test_split(spotify_df, test_size=0.2, random_state=321)"
   ]
  },
  {
   "cell_type": "markdown",
   "metadata": {},
   "source": [
    "Type *Markdown* and LaTeX:  $\\alpha ^ 2 $"
   ]
  },
  {
   "cell_type": "markdown",
   "metadata": {},
   "source": [
    "#### 1(c)\n",
    "rubric={points:3}\n",
    "\n",
    "- Print out the output of `describe()` **on the training split**. This will compute some summary statistics of the numeric columns.\n",
    "- Which feature has the smallest range? \n",
    "\n",
    "> Hint: You can subtract the min value from the max value of the column to get the range.\n",
    "\n",
    "Note that `describe` returns another DataFrame."
   ]
  },
  {
   "cell_type": "code",
   "execution_count": 127,
   "metadata": {},
   "outputs": [
    {
     "data": {
      "text/html": [
       "<div>\n",
       "<style scoped>\n",
       "    .dataframe tbody tr th:only-of-type {\n",
       "        vertical-align: middle;\n",
       "    }\n",
       "\n",
       "    .dataframe tbody tr th {\n",
       "        vertical-align: top;\n",
       "    }\n",
       "\n",
       "    .dataframe thead th {\n",
       "        text-align: right;\n",
       "    }\n",
       "</style>\n",
       "<table border=\"1\" class=\"dataframe\">\n",
       "  <thead>\n",
       "    <tr style=\"text-align: right;\">\n",
       "      <th></th>\n",
       "      <th>acousticness</th>\n",
       "      <th>danceability</th>\n",
       "      <th>duration_ms</th>\n",
       "      <th>energy</th>\n",
       "      <th>instrumentalness</th>\n",
       "      <th>key</th>\n",
       "      <th>liveness</th>\n",
       "      <th>loudness</th>\n",
       "      <th>mode</th>\n",
       "      <th>speechiness</th>\n",
       "      <th>tempo</th>\n",
       "      <th>time_signature</th>\n",
       "      <th>valence</th>\n",
       "      <th>target</th>\n",
       "    </tr>\n",
       "  </thead>\n",
       "  <tbody>\n",
       "    <tr>\n",
       "      <th>count</th>\n",
       "      <td>1613.000000</td>\n",
       "      <td>1613.000000</td>\n",
       "      <td>1.613000e+03</td>\n",
       "      <td>1613.000000</td>\n",
       "      <td>1613.000000</td>\n",
       "      <td>1613.000000</td>\n",
       "      <td>1613.000000</td>\n",
       "      <td>1613.000000</td>\n",
       "      <td>1613.000000</td>\n",
       "      <td>1613.000000</td>\n",
       "      <td>1613.000000</td>\n",
       "      <td>1613.000000</td>\n",
       "      <td>1613.000000</td>\n",
       "      <td>1613.000000</td>\n",
       "    </tr>\n",
       "    <tr>\n",
       "      <th>mean</th>\n",
       "      <td>0.185067</td>\n",
       "      <td>0.620076</td>\n",
       "      <td>2.462533e+05</td>\n",
       "      <td>0.681315</td>\n",
       "      <td>0.134317</td>\n",
       "      <td>5.384377</td>\n",
       "      <td>0.191317</td>\n",
       "      <td>-7.095272</td>\n",
       "      <td>0.619343</td>\n",
       "      <td>0.092119</td>\n",
       "      <td>121.310311</td>\n",
       "      <td>3.975201</td>\n",
       "      <td>0.495891</td>\n",
       "      <td>0.512089</td>\n",
       "    </tr>\n",
       "    <tr>\n",
       "      <th>std</th>\n",
       "      <td>0.255838</td>\n",
       "      <td>0.161152</td>\n",
       "      <td>8.056740e+04</td>\n",
       "      <td>0.206964</td>\n",
       "      <td>0.274217</td>\n",
       "      <td>3.653722</td>\n",
       "      <td>0.156071</td>\n",
       "      <td>3.678993</td>\n",
       "      <td>0.485699</td>\n",
       "      <td>0.088007</td>\n",
       "      <td>26.431574</td>\n",
       "      <td>0.247829</td>\n",
       "      <td>0.244267</td>\n",
       "      <td>0.500009</td>\n",
       "    </tr>\n",
       "    <tr>\n",
       "      <th>min</th>\n",
       "      <td>0.000003</td>\n",
       "      <td>0.148000</td>\n",
       "      <td>1.604200e+04</td>\n",
       "      <td>0.015600</td>\n",
       "      <td>0.000000</td>\n",
       "      <td>0.000000</td>\n",
       "      <td>0.018800</td>\n",
       "      <td>-31.082000</td>\n",
       "      <td>0.000000</td>\n",
       "      <td>0.023100</td>\n",
       "      <td>47.859000</td>\n",
       "      <td>1.000000</td>\n",
       "      <td>0.037300</td>\n",
       "      <td>0.000000</td>\n",
       "    </tr>\n",
       "    <tr>\n",
       "      <th>25%</th>\n",
       "      <td>0.010000</td>\n",
       "      <td>0.514000</td>\n",
       "      <td>1.999040e+05</td>\n",
       "      <td>0.564000</td>\n",
       "      <td>0.000000</td>\n",
       "      <td>2.000000</td>\n",
       "      <td>0.092200</td>\n",
       "      <td>-8.388000</td>\n",
       "      <td>0.000000</td>\n",
       "      <td>0.037500</td>\n",
       "      <td>100.221000</td>\n",
       "      <td>4.000000</td>\n",
       "      <td>0.298000</td>\n",
       "      <td>0.000000</td>\n",
       "    </tr>\n",
       "    <tr>\n",
       "      <th>50%</th>\n",
       "      <td>0.062600</td>\n",
       "      <td>0.634000</td>\n",
       "      <td>2.298590e+05</td>\n",
       "      <td>0.712000</td>\n",
       "      <td>0.000088</td>\n",
       "      <td>6.000000</td>\n",
       "      <td>0.125000</td>\n",
       "      <td>-6.298000</td>\n",
       "      <td>1.000000</td>\n",
       "      <td>0.055300</td>\n",
       "      <td>121.241000</td>\n",
       "      <td>4.000000</td>\n",
       "      <td>0.492000</td>\n",
       "      <td>1.000000</td>\n",
       "    </tr>\n",
       "    <tr>\n",
       "      <th>75%</th>\n",
       "      <td>0.260000</td>\n",
       "      <td>0.739000</td>\n",
       "      <td>2.703330e+05</td>\n",
       "      <td>0.841000</td>\n",
       "      <td>0.055900</td>\n",
       "      <td>9.000000</td>\n",
       "      <td>0.250000</td>\n",
       "      <td>-4.833000</td>\n",
       "      <td>1.000000</td>\n",
       "      <td>0.107000</td>\n",
       "      <td>136.894000</td>\n",
       "      <td>4.000000</td>\n",
       "      <td>0.689000</td>\n",
       "      <td>1.000000</td>\n",
       "    </tr>\n",
       "    <tr>\n",
       "      <th>max</th>\n",
       "      <td>0.994000</td>\n",
       "      <td>0.984000</td>\n",
       "      <td>1.004627e+06</td>\n",
       "      <td>0.997000</td>\n",
       "      <td>0.976000</td>\n",
       "      <td>11.000000</td>\n",
       "      <td>0.969000</td>\n",
       "      <td>-0.718000</td>\n",
       "      <td>1.000000</td>\n",
       "      <td>0.622000</td>\n",
       "      <td>219.331000</td>\n",
       "      <td>5.000000</td>\n",
       "      <td>0.974000</td>\n",
       "      <td>1.000000</td>\n",
       "    </tr>\n",
       "  </tbody>\n",
       "</table>\n",
       "</div>"
      ],
      "text/plain": [
       "       acousticness  danceability   duration_ms       energy  \\\n",
       "count   1613.000000   1613.000000  1.613000e+03  1613.000000   \n",
       "mean       0.185067      0.620076  2.462533e+05     0.681315   \n",
       "std        0.255838      0.161152  8.056740e+04     0.206964   \n",
       "min        0.000003      0.148000  1.604200e+04     0.015600   \n",
       "25%        0.010000      0.514000  1.999040e+05     0.564000   \n",
       "50%        0.062600      0.634000  2.298590e+05     0.712000   \n",
       "75%        0.260000      0.739000  2.703330e+05     0.841000   \n",
       "max        0.994000      0.984000  1.004627e+06     0.997000   \n",
       "\n",
       "       instrumentalness          key     liveness     loudness         mode  \\\n",
       "count       1613.000000  1613.000000  1613.000000  1613.000000  1613.000000   \n",
       "mean           0.134317     5.384377     0.191317    -7.095272     0.619343   \n",
       "std            0.274217     3.653722     0.156071     3.678993     0.485699   \n",
       "min            0.000000     0.000000     0.018800   -31.082000     0.000000   \n",
       "25%            0.000000     2.000000     0.092200    -8.388000     0.000000   \n",
       "50%            0.000088     6.000000     0.125000    -6.298000     1.000000   \n",
       "75%            0.055900     9.000000     0.250000    -4.833000     1.000000   \n",
       "max            0.976000    11.000000     0.969000    -0.718000     1.000000   \n",
       "\n",
       "       speechiness        tempo  time_signature      valence       target  \n",
       "count  1613.000000  1613.000000     1613.000000  1613.000000  1613.000000  \n",
       "mean      0.092119   121.310311        3.975201     0.495891     0.512089  \n",
       "std       0.088007    26.431574        0.247829     0.244267     0.500009  \n",
       "min       0.023100    47.859000        1.000000     0.037300     0.000000  \n",
       "25%       0.037500   100.221000        4.000000     0.298000     0.000000  \n",
       "50%       0.055300   121.241000        4.000000     0.492000     1.000000  \n",
       "75%       0.107000   136.894000        4.000000     0.689000     1.000000  \n",
       "max       0.622000   219.331000        5.000000     0.974000     1.000000  "
      ]
     },
     "execution_count": 127,
     "metadata": {},
     "output_type": "execute_result"
    }
   ],
   "source": [
    "df_train_stat = df_train.describe()\n",
    "df_train_stat"
   ]
  },
  {
   "cell_type": "code",
<<<<<<< HEAD
   "execution_count": 128,
=======
   "execution_count": 23,
>>>>>>> 46369d6193687bfa3113b0bb09e9ea33804f2bee
   "metadata": {},
   "outputs": [
    {
     "data": {
      "text/plain": [
       "'speechiness'"
      ]
     },
<<<<<<< HEAD
     "execution_count": 128,
=======
     "execution_count": 23,
>>>>>>> 46369d6193687bfa3113b0bb09e9ea33804f2bee
     "metadata": {},
     "output_type": "execute_result"
    }
   ],
   "source": [
    "(df_train.max(numeric_only=True) - df_train.min(numeric_only=True)).sort_values().index[0]"
   ]
  },
  {
   "cell_type": "markdown",
   "metadata": {},
   "source": [
    "type *Markdown* and LaTeX: $ \\alpha ^ 2  $"
   ]
  },
  {
   "cell_type": "markdown",
   "metadata": {
    "nbgrader": {
     "grade": false,
     "grade_id": "cell-b33320bcf667584a",
     "locked": true,
     "schema_version": 3,
     "solution": false
    }
   },
   "source": [
    "#### 1(d) \n",
    "rubric={points:5}\n",
    "\n",
    "Let's focus on the following features:\n",
    "\n",
    "- danceability\n",
    "- tempo\n",
    "- energy\n",
    "- valence\n",
    "\n",
    "For each of these features (in order), produce a histogram that shows the distribution of the feature values in the training set, **separated for positive and negative examples**. \n",
    "By \"positive examples\" we mean target = 1 (user liked the song, positive sentiment) and by \"negative examples\" we mean target = 0 (used disliked the song, negative sentiment). As an example, here is what the histogram would look like for a different feature, loudness:\n",
    "\n"
   ]
  },
  {
   "cell_type": "markdown",
   "metadata": {},
   "source": [
    "<img src='loudness.png' width=\"400\">\n",
    "\n",
    "(You don't have to match all the details exactly, such as colour, but your histograms should look something like this, with a reasonable number of bins to see the shape of the distribution.) As shown above, there are two different histograms, one for target = 0 and one for target = 1, and they are overlaid on top of each other. The histogram above shows that extremely quiet songs tend to be disliked (more blue bars than orange on the left) and very loud songs also tend to be disliked (more blue than orange on the far right).\n",
    "\n",
    "To adhere to the [DRY (Don't Repeat Yourself)](https://en.wikipedia.org/wiki/Don%27t_repeat_yourself) principle, make sure you use a `for` loop for your plotting, rather than repeating the plotting code 4 times. For this to work, I used `plt.show()` at the end of your loop, which draws the figure and resets the canvas for your next plot."
   ]
  },
  {
   "cell_type": "markdown",
   "metadata": {},
   "source": [
    "Here is some code that separates out the dataset into positive and negative examples, to help you get started:"
   ]
  },
  {
   "cell_type": "code",
   "execution_count": 129,
   "metadata": {},
   "outputs": [],
   "source": [
    "negative_examples = df_train.query(\"target == 0\")\n",
    "positive_examples = df_train.query(\"target == 1\")"
   ]
  },
  {
   "cell_type": "code",
   "execution_count": 130,
   "metadata": {},
   "outputs": [],
   "source": [
    "cols = ['danceability','tempo','energy','valence']\n"
   ]
  },
  {
   "cell_type": "code",
   "execution_count": null,
   "metadata": {},
   "outputs": [],
   "source": []
  },
  {
   "cell_type": "code",
   "execution_count": 131,
   "metadata": {},
   "outputs": [
    {
     "data": {
      "image/png": "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\n",
      "text/plain": [
       "<Figure size 640x480 with 1 Axes>"
      ]
     },
     "metadata": {},
     "output_type": "display_data"
    },
    {
     "data": {
      "image/png": "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\n",
      "text/plain": [
       "<Figure size 640x480 with 1 Axes>"
      ]
     },
     "metadata": {},
     "output_type": "display_data"
    },
    {
     "data": {
      "image/png": "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\n",
      "text/plain": [
       "<Figure size 640x480 with 1 Axes>"
      ]
     },
     "metadata": {},
     "output_type": "display_data"
    },
    {
     "data": {
      "image/png": "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\n",
      "text/plain": [
       "<Figure size 640x480 with 1 Axes>"
      ]
     },
     "metadata": {},
     "output_type": "display_data"
    }
   ],
   "source": [
    "for i in cols:\n",
    "    plt.hist(negative_examples[i])\n",
    "    plt.hist(positive_examples[i],alpha=0.5)\n",
    "    plt.title(i)\n",
    "    plt.legend(('negative','positive'))\n",
    "    plt.show()\n",
    "\n",
    "    "
   ]
  },
  {
   "cell_type": "markdown",
   "metadata": {},
   "source": []
  },
  {
   "cell_type": "markdown",
   "metadata": {},
   "source": [
    "#### 1(e)\n",
    "rubric={points:4}\n",
    "\n",
    "Let's say you had to make a decision stump (decision tree with depth 1), _by hand_, to predict the target class. Just from looking at the plots above, describe a reasonable split (feature name and threshold) and what class you would predict in the two cases. For example, in the loudness histogram provided earlier on, it seems that very large values of loudness are generally disliked (more blue on the right side of the histogram), so you might answer something like this: \"A reasonable split would be to predict 0 if loudness > -5 (and predict 1 otherwise).\""
   ]
  },
  {
   "cell_type": "code",
   "execution_count": 132,
   "metadata": {},
   "outputs": [],
   "source": [
    "# as per graph shown ubove from those graphs we can use dancebility feature for classification \n",
    "\n",
    "# and threshold value should be  ->  0.6 \n",
    "\n",
    "#                                 danceability  < 0.6    -->  negative\n",
    "#                                 danceability  > 0.6    -->  positive\n"
   ]
  },
  {
   "cell_type": "markdown",
   "metadata": {},
   "source": []
  },
  {
   "cell_type": "markdown",
   "metadata": {},
   "source": [
    "#### 1(f)\n",
    "rubric={points:2}\n",
    "\n",
    "Let's say that, for a particular feature, the histograms of that feature are identical for the two target classes. Does that mean the feature is not useful for predicting the target class?\n",
    "\n"
   ]
  },
  {
   "cell_type": "code",
   "execution_count": 133,
   "metadata": {},
   "outputs": [],
   "source": [
    "# Yes, this selected features from histogram is not useful when we predicting target class because in histogram there are so \n",
    "# many  values are present in favour of '< 0.6' but they belongs to postive class rather then  negative"
   ]
  },
  {
   "cell_type": "markdown",
   "metadata": {
    "nbgrader": {
     "grade": false,
     "grade_id": "cell-86f9e0c649669daf",
     "locked": true,
     "schema_version": 3,
     "solution": false,
     "task": false
    }
   },
   "source": [
    "#### 1(g) \n",
    "rubric={points:2}\n",
    "\n",
    "Note that the dataset includes two free text features labeled `song_title` and `artist`:"
   ]
  },
  {
   "cell_type": "code",
<<<<<<< HEAD
   "execution_count": 134,
=======
   "execution_count": 50,
>>>>>>> 46369d6193687bfa3113b0bb09e9ea33804f2bee
   "metadata": {},
   "outputs": [
    {
     "data": {
      "text/html": [
       "<div>\n",
       "<style scoped>\n",
       "    .dataframe tbody tr th:only-of-type {\n",
       "        vertical-align: middle;\n",
       "    }\n",
       "\n",
       "    .dataframe tbody tr th {\n",
       "        vertical-align: top;\n",
       "    }\n",
       "\n",
       "    .dataframe thead th {\n",
       "        text-align: right;\n",
       "    }\n",
       "</style>\n",
       "<table border=\"1\" class=\"dataframe\">\n",
       "  <thead>\n",
       "    <tr style=\"text-align: right;\">\n",
       "      <th></th>\n",
       "      <th>song_title</th>\n",
       "      <th>artist</th>\n",
       "    </tr>\n",
       "  </thead>\n",
       "  <tbody>\n",
       "    <tr>\n",
       "      <th>260</th>\n",
       "      <td>WTF (Where They From) [feat. Pharrell Williams]</td>\n",
       "      <td>Missy Elliott</td>\n",
       "    </tr>\n",
       "    <tr>\n",
       "      <th>1286</th>\n",
       "      <td>10,000 Reasons (Bless the Lord) [Radio Version]</td>\n",
       "      <td>Matt Redman</td>\n",
       "    </tr>\n",
       "    <tr>\n",
       "      <th>1344</th>\n",
       "      <td>American Dream</td>\n",
       "      <td>Chelsea Grin</td>\n",
       "    </tr>\n",
       "    <tr>\n",
       "      <th>1197</th>\n",
       "      <td>Feel This Moment</td>\n",
       "      <td>Pitbull</td>\n",
       "    </tr>\n",
       "    <tr>\n",
       "      <th>119</th>\n",
       "      <td>Trap Queen</td>\n",
       "      <td>Fetty Wap</td>\n",
       "    </tr>\n",
       "    <tr>\n",
       "      <th>...</th>\n",
       "      <td>...</td>\n",
       "      <td>...</td>\n",
       "    </tr>\n",
       "    <tr>\n",
       "      <th>1833</th>\n",
       "      <td>Ultimate</td>\n",
       "      <td>Lindsay Lohan</td>\n",
       "    </tr>\n",
       "    <tr>\n",
       "      <th>799</th>\n",
       "      <td>18 With A Bullet</td>\n",
       "      <td>Pete Wingfield</td>\n",
       "    </tr>\n",
       "    <tr>\n",
       "      <th>124</th>\n",
       "      <td>Danger and Dread</td>\n",
       "      <td>Brown Bird</td>\n",
       "    </tr>\n",
       "    <tr>\n",
       "      <th>538</th>\n",
       "      <td>Pale Flesh</td>\n",
       "      <td>Crystal Castles</td>\n",
       "    </tr>\n",
       "    <tr>\n",
       "      <th>1012</th>\n",
       "      <td>Bad Boys (feat. Ghetts and J Hus)</td>\n",
       "      <td>Stormzy</td>\n",
       "    </tr>\n",
       "  </tbody>\n",
       "</table>\n",
       "<p>1613 rows × 2 columns</p>\n",
       "</div>"
      ],
      "text/plain": [
       "                                           song_title           artist\n",
       "260   WTF (Where They From) [feat. Pharrell Williams]    Missy Elliott\n",
       "1286  10,000 Reasons (Bless the Lord) [Radio Version]      Matt Redman\n",
       "1344                                   American Dream     Chelsea Grin\n",
       "1197                                 Feel This Moment          Pitbull\n",
       "119                                        Trap Queen        Fetty Wap\n",
       "...                                               ...              ...\n",
       "1833                                         Ultimate    Lindsay Lohan\n",
       "799                                  18 With A Bullet   Pete Wingfield\n",
       "124                                  Danger and Dread       Brown Bird\n",
       "538                                        Pale Flesh  Crystal Castles\n",
       "1012                Bad Boys (feat. Ghetts and J Hus)          Stormzy\n",
       "\n",
       "[1613 rows x 2 columns]"
      ]
     },
<<<<<<< HEAD
     "execution_count": 134,
=======
     "execution_count": 50,
>>>>>>> 46369d6193687bfa3113b0bb09e9ea33804f2bee
     "metadata": {},
     "output_type": "execute_result"
    }
   ],
   "source": [
    "df_train[[\"song_title\", \"artist\"]]"
   ]
  },
  {
   "cell_type": "code",
   "execution_count": null,
   "metadata": {},
   "outputs": [],
   "source": []
  },
  {
   "cell_type": "markdown",
   "metadata": {},
   "source": [
    "- Do you think these features could be useful in predicting whether the user liked the song or not? \n",
    "- Would there be any difficulty in using them in your model?   "
   ]
  },
  {
   "cell_type": "code",
   "execution_count": null,
   "metadata": {},
   "outputs": [],
   "source": [
    "these feature are not properly distributed so that we can't use this features\n",
    "as we can see above the columns values are string values that is one of reason that we can't use those columnsb"
   ]
  },
  {
   "cell_type": "code",
   "execution_count": 52,
   "metadata": {
    "nbgrader": {
     "grade": true,
     "grade_id": "cell-dce517defdc16360",
     "locked": false,
     "points": 0,
     "schema_version": 3,
     "solution": true,
     "task": false
    }
   },
   "outputs": [
    {
     "ename": "ValueError",
     "evalue": "could not convert string to float: 'WTF (Where They From) [feat. Pharrell Williams]'",
     "output_type": "error",
     "traceback": [
      "\u001b[1;31m---------------------------------------------------------------------------\u001b[0m",
      "\u001b[1;31mValueError\u001b[0m                                Traceback (most recent call last)",
      "\u001b[1;32m~\\AppData\\Local\\Temp\\ipykernel_3480\\1160303059.py\u001b[0m in \u001b[0;36m<module>\u001b[1;34m\u001b[0m\n\u001b[1;32m----> 1\u001b[1;33m \u001b[0mDecisionTreeClassifier\u001b[0m\u001b[1;33m(\u001b[0m\u001b[1;33m)\u001b[0m\u001b[1;33m.\u001b[0m\u001b[0mfit\u001b[0m\u001b[1;33m(\u001b[0m\u001b[0mdf_train\u001b[0m\u001b[1;33m.\u001b[0m\u001b[0mdrop\u001b[0m\u001b[1;33m(\u001b[0m\u001b[0mcolumns\u001b[0m\u001b[1;33m=\u001b[0m\u001b[1;33m[\u001b[0m\u001b[1;34m'target'\u001b[0m\u001b[1;33m]\u001b[0m\u001b[1;33m)\u001b[0m\u001b[1;33m,\u001b[0m\u001b[0mdf_train\u001b[0m\u001b[1;33m[\u001b[0m\u001b[1;34m'target'\u001b[0m\u001b[1;33m]\u001b[0m\u001b[1;33m)\u001b[0m\u001b[1;33m\u001b[0m\u001b[1;33m\u001b[0m\u001b[0m\n\u001b[0m",
      "\u001b[1;32m~\\AppData\\Roaming\\Python\\Python39\\site-packages\\sklearn\\tree\\_classes.py\u001b[0m in \u001b[0;36mfit\u001b[1;34m(self, X, y, sample_weight, check_input)\u001b[0m\n\u001b[0;32m    967\u001b[0m         \"\"\"\n\u001b[0;32m    968\u001b[0m \u001b[1;33m\u001b[0m\u001b[0m\n\u001b[1;32m--> 969\u001b[1;33m         super().fit(\n\u001b[0m\u001b[0;32m    970\u001b[0m             \u001b[0mX\u001b[0m\u001b[1;33m,\u001b[0m\u001b[1;33m\u001b[0m\u001b[1;33m\u001b[0m\u001b[0m\n\u001b[0;32m    971\u001b[0m             \u001b[0my\u001b[0m\u001b[1;33m,\u001b[0m\u001b[1;33m\u001b[0m\u001b[1;33m\u001b[0m\u001b[0m\n",
      "\u001b[1;32m~\\AppData\\Roaming\\Python\\Python39\\site-packages\\sklearn\\tree\\_classes.py\u001b[0m in \u001b[0;36mfit\u001b[1;34m(self, X, y, sample_weight, check_input)\u001b[0m\n\u001b[0;32m    170\u001b[0m             \u001b[0mcheck_X_params\u001b[0m \u001b[1;33m=\u001b[0m \u001b[0mdict\u001b[0m\u001b[1;33m(\u001b[0m\u001b[0mdtype\u001b[0m\u001b[1;33m=\u001b[0m\u001b[0mDTYPE\u001b[0m\u001b[1;33m,\u001b[0m \u001b[0maccept_sparse\u001b[0m\u001b[1;33m=\u001b[0m\u001b[1;34m\"csc\"\u001b[0m\u001b[1;33m)\u001b[0m\u001b[1;33m\u001b[0m\u001b[1;33m\u001b[0m\u001b[0m\n\u001b[0;32m    171\u001b[0m             \u001b[0mcheck_y_params\u001b[0m \u001b[1;33m=\u001b[0m \u001b[0mdict\u001b[0m\u001b[1;33m(\u001b[0m\u001b[0mensure_2d\u001b[0m\u001b[1;33m=\u001b[0m\u001b[1;32mFalse\u001b[0m\u001b[1;33m,\u001b[0m \u001b[0mdtype\u001b[0m\u001b[1;33m=\u001b[0m\u001b[1;32mNone\u001b[0m\u001b[1;33m)\u001b[0m\u001b[1;33m\u001b[0m\u001b[1;33m\u001b[0m\u001b[0m\n\u001b[1;32m--> 172\u001b[1;33m             X, y = self._validate_data(\n\u001b[0m\u001b[0;32m    173\u001b[0m                 \u001b[0mX\u001b[0m\u001b[1;33m,\u001b[0m \u001b[0my\u001b[0m\u001b[1;33m,\u001b[0m \u001b[0mvalidate_separately\u001b[0m\u001b[1;33m=\u001b[0m\u001b[1;33m(\u001b[0m\u001b[0mcheck_X_params\u001b[0m\u001b[1;33m,\u001b[0m \u001b[0mcheck_y_params\u001b[0m\u001b[1;33m)\u001b[0m\u001b[1;33m\u001b[0m\u001b[1;33m\u001b[0m\u001b[0m\n\u001b[0;32m    174\u001b[0m             )\n",
      "\u001b[1;32m~\\AppData\\Roaming\\Python\\Python39\\site-packages\\sklearn\\base.py\u001b[0m in \u001b[0;36m_validate_data\u001b[1;34m(self, X, y, reset, validate_separately, **check_params)\u001b[0m\n\u001b[0;32m    589\u001b[0m                 \u001b[1;32mif\u001b[0m \u001b[1;34m\"estimator\"\u001b[0m \u001b[1;32mnot\u001b[0m \u001b[1;32min\u001b[0m \u001b[0mcheck_X_params\u001b[0m\u001b[1;33m:\u001b[0m\u001b[1;33m\u001b[0m\u001b[1;33m\u001b[0m\u001b[0m\n\u001b[0;32m    590\u001b[0m                     \u001b[0mcheck_X_params\u001b[0m \u001b[1;33m=\u001b[0m \u001b[1;33m{\u001b[0m\u001b[1;33m**\u001b[0m\u001b[0mdefault_check_params\u001b[0m\u001b[1;33m,\u001b[0m \u001b[1;33m**\u001b[0m\u001b[0mcheck_X_params\u001b[0m\u001b[1;33m}\u001b[0m\u001b[1;33m\u001b[0m\u001b[1;33m\u001b[0m\u001b[0m\n\u001b[1;32m--> 591\u001b[1;33m                 \u001b[0mX\u001b[0m \u001b[1;33m=\u001b[0m \u001b[0mcheck_array\u001b[0m\u001b[1;33m(\u001b[0m\u001b[0mX\u001b[0m\u001b[1;33m,\u001b[0m \u001b[0minput_name\u001b[0m\u001b[1;33m=\u001b[0m\u001b[1;34m\"X\"\u001b[0m\u001b[1;33m,\u001b[0m \u001b[1;33m**\u001b[0m\u001b[0mcheck_X_params\u001b[0m\u001b[1;33m)\u001b[0m\u001b[1;33m\u001b[0m\u001b[1;33m\u001b[0m\u001b[0m\n\u001b[0m\u001b[0;32m    592\u001b[0m                 \u001b[1;32mif\u001b[0m \u001b[1;34m\"estimator\"\u001b[0m \u001b[1;32mnot\u001b[0m \u001b[1;32min\u001b[0m \u001b[0mcheck_y_params\u001b[0m\u001b[1;33m:\u001b[0m\u001b[1;33m\u001b[0m\u001b[1;33m\u001b[0m\u001b[0m\n\u001b[0;32m    593\u001b[0m                     \u001b[0mcheck_y_params\u001b[0m \u001b[1;33m=\u001b[0m \u001b[1;33m{\u001b[0m\u001b[1;33m**\u001b[0m\u001b[0mdefault_check_params\u001b[0m\u001b[1;33m,\u001b[0m \u001b[1;33m**\u001b[0m\u001b[0mcheck_y_params\u001b[0m\u001b[1;33m}\u001b[0m\u001b[1;33m\u001b[0m\u001b[1;33m\u001b[0m\u001b[0m\n",
      "\u001b[1;32m~\\AppData\\Roaming\\Python\\Python39\\site-packages\\sklearn\\utils\\validation.py\u001b[0m in \u001b[0;36mcheck_array\u001b[1;34m(array, accept_sparse, accept_large_sparse, dtype, order, copy, force_all_finite, ensure_2d, allow_nd, ensure_min_samples, ensure_min_features, estimator, input_name)\u001b[0m\n\u001b[0;32m    854\u001b[0m                     \u001b[0marray\u001b[0m \u001b[1;33m=\u001b[0m \u001b[0marray\u001b[0m\u001b[1;33m.\u001b[0m\u001b[0mastype\u001b[0m\u001b[1;33m(\u001b[0m\u001b[0mdtype\u001b[0m\u001b[1;33m,\u001b[0m \u001b[0mcasting\u001b[0m\u001b[1;33m=\u001b[0m\u001b[1;34m\"unsafe\"\u001b[0m\u001b[1;33m,\u001b[0m \u001b[0mcopy\u001b[0m\u001b[1;33m=\u001b[0m\u001b[1;32mFalse\u001b[0m\u001b[1;33m)\u001b[0m\u001b[1;33m\u001b[0m\u001b[1;33m\u001b[0m\u001b[0m\n\u001b[0;32m    855\u001b[0m                 \u001b[1;32melse\u001b[0m\u001b[1;33m:\u001b[0m\u001b[1;33m\u001b[0m\u001b[1;33m\u001b[0m\u001b[0m\n\u001b[1;32m--> 856\u001b[1;33m                     \u001b[0marray\u001b[0m \u001b[1;33m=\u001b[0m \u001b[0mnp\u001b[0m\u001b[1;33m.\u001b[0m\u001b[0masarray\u001b[0m\u001b[1;33m(\u001b[0m\u001b[0marray\u001b[0m\u001b[1;33m,\u001b[0m \u001b[0morder\u001b[0m\u001b[1;33m=\u001b[0m\u001b[0morder\u001b[0m\u001b[1;33m,\u001b[0m \u001b[0mdtype\u001b[0m\u001b[1;33m=\u001b[0m\u001b[0mdtype\u001b[0m\u001b[1;33m)\u001b[0m\u001b[1;33m\u001b[0m\u001b[1;33m\u001b[0m\u001b[0m\n\u001b[0m\u001b[0;32m    857\u001b[0m             \u001b[1;32mexcept\u001b[0m \u001b[0mComplexWarning\u001b[0m \u001b[1;32mas\u001b[0m \u001b[0mcomplex_warning\u001b[0m\u001b[1;33m:\u001b[0m\u001b[1;33m\u001b[0m\u001b[1;33m\u001b[0m\u001b[0m\n\u001b[0;32m    858\u001b[0m                 raise ValueError(\n",
      "\u001b[1;32m~\\AppData\\Roaming\\Python\\Python39\\site-packages\\pandas\\core\\generic.py\u001b[0m in \u001b[0;36m__array__\u001b[1;34m(self, dtype)\u001b[0m\n\u001b[0;32m   2062\u001b[0m \u001b[1;33m\u001b[0m\u001b[0m\n\u001b[0;32m   2063\u001b[0m     \u001b[1;32mdef\u001b[0m \u001b[0m__array__\u001b[0m\u001b[1;33m(\u001b[0m\u001b[0mself\u001b[0m\u001b[1;33m,\u001b[0m \u001b[0mdtype\u001b[0m\u001b[1;33m:\u001b[0m \u001b[0mnpt\u001b[0m\u001b[1;33m.\u001b[0m\u001b[0mDTypeLike\u001b[0m \u001b[1;33m|\u001b[0m \u001b[1;32mNone\u001b[0m \u001b[1;33m=\u001b[0m \u001b[1;32mNone\u001b[0m\u001b[1;33m)\u001b[0m \u001b[1;33m->\u001b[0m \u001b[0mnp\u001b[0m\u001b[1;33m.\u001b[0m\u001b[0mndarray\u001b[0m\u001b[1;33m:\u001b[0m\u001b[1;33m\u001b[0m\u001b[1;33m\u001b[0m\u001b[0m\n\u001b[1;32m-> 2064\u001b[1;33m         \u001b[1;32mreturn\u001b[0m \u001b[0mnp\u001b[0m\u001b[1;33m.\u001b[0m\u001b[0masarray\u001b[0m\u001b[1;33m(\u001b[0m\u001b[0mself\u001b[0m\u001b[1;33m.\u001b[0m\u001b[0m_values\u001b[0m\u001b[1;33m,\u001b[0m \u001b[0mdtype\u001b[0m\u001b[1;33m=\u001b[0m\u001b[0mdtype\u001b[0m\u001b[1;33m)\u001b[0m\u001b[1;33m\u001b[0m\u001b[1;33m\u001b[0m\u001b[0m\n\u001b[0m\u001b[0;32m   2065\u001b[0m \u001b[1;33m\u001b[0m\u001b[0m\n\u001b[0;32m   2066\u001b[0m     def __array_wrap__(\n",
      "\u001b[1;31mValueError\u001b[0m: could not convert string to float: 'WTF (Where They From) [feat. Pharrell Williams]'"
     ]
    }
   ],
   "source": [
    "DecisionTreeClassifier().fit(df_train.drop(columns=['target']),df_train['target'])\n",
    "\n",
    "# -> if we use it wiil give us fantastic error"
   ]
  },
  {
   "cell_type": "markdown",
   "metadata": {},
   "source": [
    "<br><br>"
   ]
  },
  {
   "cell_type": "markdown",
   "metadata": {
    "nbgrader": {
     "grade": false,
     "grade_id": "cell-1440876fbc49ead5",
     "locked": true,
     "schema_version": 3,
     "solution": false,
     "task": false
    }
   },
   "source": [
    "## Exercise 2: Using sklearn to build a decision tree classifier"
   ]
  },
  {
   "cell_type": "markdown",
   "metadata": {
    "nbgrader": {
     "grade": false,
     "grade_id": "cell-706403e72adade4b",
     "locked": true,
     "schema_version": 3,
     "solution": false
    }
   },
   "source": [
    "#### 2(a) \n",
    "rubric={points:2}\n",
    "\n",
    "- Create `X_train` and `y_train` and `X_test` and `y_test` from `df_train` and `df_test` above. Skip the `song_title` and `artist` features for now. \n",
    "- Fit a `DecisionTreeClassifier` on the train set."
   ]
  },
  {
   "cell_type": "code",
   "execution_count": 135,
   "metadata": {},
   "outputs": [],
   "source": [
    "# df_train.head()"
   ]
  },
  {
   "cell_type": "code",
   "execution_count": 136,
   "metadata": {
    "nbgrader": {
     "grade": true,
     "grade_id": "cell-859d4a70667da85d",
     "locked": false,
     "points": 0,
     "schema_version": 3,
     "solution": true,
     "task": false
    }
   },
   "outputs": [
    {
     "data": {
      "text/html": [
       "<style>#sk-container-id-3 {color: black;background-color: white;}#sk-container-id-3 pre{padding: 0;}#sk-container-id-3 div.sk-toggleable {background-color: white;}#sk-container-id-3 label.sk-toggleable__label {cursor: pointer;display: block;width: 100%;margin-bottom: 0;padding: 0.3em;box-sizing: border-box;text-align: center;}#sk-container-id-3 label.sk-toggleable__label-arrow:before {content: \"▸\";float: left;margin-right: 0.25em;color: #696969;}#sk-container-id-3 label.sk-toggleable__label-arrow:hover:before {color: black;}#sk-container-id-3 div.sk-estimator:hover label.sk-toggleable__label-arrow:before {color: black;}#sk-container-id-3 div.sk-toggleable__content {max-height: 0;max-width: 0;overflow: hidden;text-align: left;background-color: #f0f8ff;}#sk-container-id-3 div.sk-toggleable__content pre {margin: 0.2em;color: black;border-radius: 0.25em;background-color: #f0f8ff;}#sk-container-id-3 input.sk-toggleable__control:checked~div.sk-toggleable__content {max-height: 200px;max-width: 100%;overflow: auto;}#sk-container-id-3 input.sk-toggleable__control:checked~label.sk-toggleable__label-arrow:before {content: \"▾\";}#sk-container-id-3 div.sk-estimator input.sk-toggleable__control:checked~label.sk-toggleable__label {background-color: #d4ebff;}#sk-container-id-3 div.sk-label input.sk-toggleable__control:checked~label.sk-toggleable__label {background-color: #d4ebff;}#sk-container-id-3 input.sk-hidden--visually {border: 0;clip: rect(1px 1px 1px 1px);clip: rect(1px, 1px, 1px, 1px);height: 1px;margin: -1px;overflow: hidden;padding: 0;position: absolute;width: 1px;}#sk-container-id-3 div.sk-estimator {font-family: monospace;background-color: #f0f8ff;border: 1px dotted black;border-radius: 0.25em;box-sizing: border-box;margin-bottom: 0.5em;}#sk-container-id-3 div.sk-estimator:hover {background-color: #d4ebff;}#sk-container-id-3 div.sk-parallel-item::after {content: \"\";width: 100%;border-bottom: 1px solid gray;flex-grow: 1;}#sk-container-id-3 div.sk-label:hover label.sk-toggleable__label {background-color: #d4ebff;}#sk-container-id-3 div.sk-serial::before {content: \"\";position: absolute;border-left: 1px solid gray;box-sizing: border-box;top: 0;bottom: 0;left: 50%;z-index: 0;}#sk-container-id-3 div.sk-serial {display: flex;flex-direction: column;align-items: center;background-color: white;padding-right: 0.2em;padding-left: 0.2em;position: relative;}#sk-container-id-3 div.sk-item {position: relative;z-index: 1;}#sk-container-id-3 div.sk-parallel {display: flex;align-items: stretch;justify-content: center;background-color: white;position: relative;}#sk-container-id-3 div.sk-item::before, #sk-container-id-3 div.sk-parallel-item::before {content: \"\";position: absolute;border-left: 1px solid gray;box-sizing: border-box;top: 0;bottom: 0;left: 50%;z-index: -1;}#sk-container-id-3 div.sk-parallel-item {display: flex;flex-direction: column;z-index: 1;position: relative;background-color: white;}#sk-container-id-3 div.sk-parallel-item:first-child::after {align-self: flex-end;width: 50%;}#sk-container-id-3 div.sk-parallel-item:last-child::after {align-self: flex-start;width: 50%;}#sk-container-id-3 div.sk-parallel-item:only-child::after {width: 0;}#sk-container-id-3 div.sk-dashed-wrapped {border: 1px dashed gray;margin: 0 0.4em 0.5em 0.4em;box-sizing: border-box;padding-bottom: 0.4em;background-color: white;}#sk-container-id-3 div.sk-label label {font-family: monospace;font-weight: bold;display: inline-block;line-height: 1.2em;}#sk-container-id-3 div.sk-label-container {text-align: center;}#sk-container-id-3 div.sk-container {/* jupyter's `normalize.less` sets `[hidden] { display: none; }` but bootstrap.min.css set `[hidden] { display: none !important; }` so we also need the `!important` here to be able to override the default hidden behavior on the sphinx rendered scikit-learn.org. See: https://github.com/scikit-learn/scikit-learn/issues/21755 */display: inline-block !important;position: relative;}#sk-container-id-3 div.sk-text-repr-fallback {display: none;}</style><div id=\"sk-container-id-3\" class=\"sk-top-container\"><div class=\"sk-text-repr-fallback\"><pre>DecisionTreeClassifier()</pre><b>In a Jupyter environment, please rerun this cell to show the HTML representation or trust the notebook. <br />On GitHub, the HTML representation is unable to render, please try loading this page with nbviewer.org.</b></div><div class=\"sk-container\" hidden><div class=\"sk-item\"><div class=\"sk-estimator sk-toggleable\"><input class=\"sk-toggleable__control sk-hidden--visually\" id=\"sk-estimator-id-3\" type=\"checkbox\" checked><label for=\"sk-estimator-id-3\" class=\"sk-toggleable__label sk-toggleable__label-arrow\">DecisionTreeClassifier</label><div class=\"sk-toggleable__content\"><pre>DecisionTreeClassifier()</pre></div></div></div></div></div>"
      ],
      "text/plain": [
       "DecisionTreeClassifier()"
      ]
     },
     "execution_count": 136,
     "metadata": {},
     "output_type": "execute_result"
    }
   ],
   "source": [
    "\n",
    "x_train,y_train = df_train.drop(columns=['song_title','artist','target']),df_train['target']\n",
    "\n",
    "x_test,y_test = df_test.drop(columns=['song_title','artist','target']),df_test['target']\n",
    "\n",
    "tree_model = DecisionTreeClassifier() \n",
    "\n",
    "tree_model.fit(x_train,y_train)"
   ]
  },
  {
   "cell_type": "markdown",
   "metadata": {
    "nbgrader": {
     "grade": false,
     "grade_id": "cell-43ac6f91bc3bd9da",
     "locked": true,
     "schema_version": 3,
     "solution": false
    }
   },
   "source": [
    "#### 2(b)\n",
    "rubric={points:2}\n",
    "\n",
    "Use the `predict` method to predict the class of the first example in your `X_train`. Is the prediction correct? That is, does it match with the corresponding class in `y_train`?  \n",
    "\n",
    "> Hint: you can grab the first example with `X_train.iloc[[0]]`."
   ]
  },
  {
   "cell_type": "code",
   "execution_count": 137,
   "metadata": {},
   "outputs": [
    {
     "data": {
      "text/plain": [
       "1286    0\n",
       "Name: target, dtype: int64"
      ]
     },
     "execution_count": 137,
     "metadata": {},
     "output_type": "execute_result"
    }
   ],
   "source": [
    "y_train.iloc[[1]]"
   ]
  },
  {
   "cell_type": "code",
   "execution_count": 138,
   "metadata": {},
   "outputs": [
    {
     "data": {
      "text/plain": [
       "array([0], dtype=int64)"
      ]
     },
     "execution_count": 138,
     "metadata": {},
     "output_type": "execute_result"
    }
   ],
   "source": [
    "tree_model.predict(x_train.iloc[[1]])"
   ]
  },
  {
   "cell_type": "markdown",
   "metadata": {},
   "source": []
  },
  {
   "cell_type": "markdown",
   "metadata": {},
   "source": [
    "#### 2(c) \n",
    "rubric={points:2}\n",
    "\n",
    "Use  **`cross_val_score`** function on your training set to compute the 10-fold cross-validation accuracy of your tree. "
   ]
  },
  {
   "cell_type": "code",
   "execution_count": 139,
   "metadata": {},
   "outputs": [
    {
     "data": {
      "text/html": [
       "<div>\n",
       "<style scoped>\n",
       "    .dataframe tbody tr th:only-of-type {\n",
       "        vertical-align: middle;\n",
       "    }\n",
       "\n",
       "    .dataframe tbody tr th {\n",
       "        vertical-align: top;\n",
       "    }\n",
       "\n",
       "    .dataframe thead th {\n",
       "        text-align: right;\n",
       "    }\n",
       "</style>\n",
       "<table border=\"1\" class=\"dataframe\">\n",
       "  <thead>\n",
       "    <tr style=\"text-align: right;\">\n",
       "      <th></th>\n",
       "      <th>0</th>\n",
       "    </tr>\n",
       "  </thead>\n",
       "  <tbody>\n",
       "    <tr>\n",
       "      <th>0</th>\n",
       "      <td>0.697531</td>\n",
       "    </tr>\n",
       "    <tr>\n",
       "      <th>1</th>\n",
       "      <td>0.635802</td>\n",
       "    </tr>\n",
       "    <tr>\n",
       "      <th>2</th>\n",
       "      <td>0.660494</td>\n",
       "    </tr>\n",
       "    <tr>\n",
       "      <th>3</th>\n",
       "      <td>0.701863</td>\n",
       "    </tr>\n",
       "    <tr>\n",
       "      <th>4</th>\n",
       "      <td>0.708075</td>\n",
       "    </tr>\n",
       "    <tr>\n",
       "      <th>5</th>\n",
       "      <td>0.621118</td>\n",
       "    </tr>\n",
       "    <tr>\n",
       "      <th>6</th>\n",
       "      <td>0.726708</td>\n",
       "    </tr>\n",
       "    <tr>\n",
       "      <th>7</th>\n",
       "      <td>0.739130</td>\n",
       "    </tr>\n",
       "    <tr>\n",
       "      <th>8</th>\n",
       "      <td>0.639752</td>\n",
       "    </tr>\n",
       "    <tr>\n",
       "      <th>9</th>\n",
       "      <td>0.708075</td>\n",
       "    </tr>\n",
       "  </tbody>\n",
       "</table>\n",
       "</div>"
      ],
      "text/plain": [
       "          0\n",
       "0  0.697531\n",
       "1  0.635802\n",
       "2  0.660494\n",
       "3  0.701863\n",
       "4  0.708075\n",
       "5  0.621118\n",
       "6  0.726708\n",
       "7  0.739130\n",
       "8  0.639752\n",
       "9  0.708075"
      ]
     },
     "execution_count": 139,
     "metadata": {},
     "output_type": "execute_result"
    }
   ],
   "source": [
    "score = cross_val_score(tree_model,x_train,y_train,cv=10)\n",
    "\n",
    "pd.DataFrame(score)"
   ]
  },
  {
   "cell_type": "markdown",
   "metadata": {},
   "source": [
    "#### 2(d)\n",
    "rubric={points:2}\n",
    "\n",
    "The above is useful, but we would like to see the training accuracy as well. \n",
    "\n",
    "- Compute the 10-fold cross-validation again but this time using the `cross_validate` function with `return_train_score=True`. \n",
    "- Print out both the cross-validation score and the training score.\n",
    "- Is your cross-validation score exactly the same as what you got in the previous part? Very briefly discuss."
   ]
  },
  {
   "cell_type": "code",
   "execution_count": 140,
   "metadata": {},
   "outputs": [],
   "source": [
    "scores = cross_validate(tree_model,x_train,y_train,cv=10,return_train_score=True)\n",
    "\n",
    "df_scrs= pd.DataFrame(scores)"
   ]
  },
  {
   "cell_type": "code",
   "execution_count": 141,
   "metadata": {},
   "outputs": [
    {
     "data": {
      "text/html": [
       "<div>\n",
       "<style scoped>\n",
       "    .dataframe tbody tr th:only-of-type {\n",
       "        vertical-align: middle;\n",
       "    }\n",
       "\n",
       "    .dataframe tbody tr th {\n",
       "        vertical-align: top;\n",
       "    }\n",
       "\n",
       "    .dataframe thead th {\n",
       "        text-align: right;\n",
       "    }\n",
       "</style>\n",
       "<table border=\"1\" class=\"dataframe\">\n",
       "  <thead>\n",
       "    <tr style=\"text-align: right;\">\n",
       "      <th></th>\n",
       "      <th>fit_time</th>\n",
       "      <th>score_time</th>\n",
       "      <th>test_score</th>\n",
       "      <th>train_score</th>\n",
       "    </tr>\n",
       "  </thead>\n",
       "  <tbody>\n",
       "    <tr>\n",
       "      <th>0</th>\n",
       "      <td>0.027027</td>\n",
       "      <td>0.002002</td>\n",
       "      <td>0.679012</td>\n",
       "      <td>0.999311</td>\n",
       "    </tr>\n",
       "    <tr>\n",
       "      <th>1</th>\n",
       "      <td>0.027003</td>\n",
       "      <td>0.002999</td>\n",
       "      <td>0.635802</td>\n",
       "      <td>0.998622</td>\n",
       "    </tr>\n",
       "    <tr>\n",
       "      <th>2</th>\n",
       "      <td>0.023998</td>\n",
       "      <td>0.004000</td>\n",
       "      <td>0.666667</td>\n",
       "      <td>0.999311</td>\n",
       "    </tr>\n",
       "    <tr>\n",
       "      <th>3</th>\n",
       "      <td>0.027002</td>\n",
       "      <td>0.003000</td>\n",
       "      <td>0.720497</td>\n",
       "      <td>0.998623</td>\n",
       "    </tr>\n",
       "    <tr>\n",
       "      <th>4</th>\n",
       "      <td>0.025002</td>\n",
       "      <td>0.004000</td>\n",
       "      <td>0.739130</td>\n",
       "      <td>0.998623</td>\n",
       "    </tr>\n",
       "    <tr>\n",
       "      <th>5</th>\n",
       "      <td>0.025003</td>\n",
       "      <td>0.003000</td>\n",
       "      <td>0.627329</td>\n",
       "      <td>0.998623</td>\n",
       "    </tr>\n",
       "    <tr>\n",
       "      <th>6</th>\n",
       "      <td>0.027001</td>\n",
       "      <td>0.003002</td>\n",
       "      <td>0.751553</td>\n",
       "      <td>0.998623</td>\n",
       "    </tr>\n",
       "    <tr>\n",
       "      <th>7</th>\n",
       "      <td>0.023000</td>\n",
       "      <td>0.003001</td>\n",
       "      <td>0.763975</td>\n",
       "      <td>0.999311</td>\n",
       "    </tr>\n",
       "    <tr>\n",
       "      <th>8</th>\n",
       "      <td>0.024000</td>\n",
       "      <td>0.003000</td>\n",
       "      <td>0.645963</td>\n",
       "      <td>0.999311</td>\n",
       "    </tr>\n",
       "    <tr>\n",
       "      <th>9</th>\n",
       "      <td>0.027002</td>\n",
       "      <td>0.004001</td>\n",
       "      <td>0.714286</td>\n",
       "      <td>0.998623</td>\n",
       "    </tr>\n",
       "  </tbody>\n",
       "</table>\n",
       "</div>"
      ],
      "text/plain": [
       "   fit_time  score_time  test_score  train_score\n",
       "0  0.027027    0.002002    0.679012     0.999311\n",
       "1  0.027003    0.002999    0.635802     0.998622\n",
       "2  0.023998    0.004000    0.666667     0.999311\n",
       "3  0.027002    0.003000    0.720497     0.998623\n",
       "4  0.025002    0.004000    0.739130     0.998623\n",
       "5  0.025003    0.003000    0.627329     0.998623\n",
       "6  0.027001    0.003002    0.751553     0.998623\n",
       "7  0.023000    0.003001    0.763975     0.999311\n",
       "8  0.024000    0.003000    0.645963     0.999311\n",
       "9  0.027002    0.004001    0.714286     0.998623"
      ]
     },
     "execution_count": 141,
     "metadata": {},
     "output_type": "execute_result"
    }
   ],
   "source": [
    "df_scrs"
   ]
  },
  {
   "cell_type": "code",
   "execution_count": 142,
   "metadata": {},
   "outputs": [
    {
     "data": {
      "text/plain": [
       "0.9988978817686291"
      ]
     },
     "execution_count": 142,
     "metadata": {},
     "output_type": "execute_result"
    }
   ],
   "source": [
    "df_scrs.train_score.mean()"
   ]
  },
  {
   "cell_type": "code",
   "execution_count": 143,
   "metadata": {},
   "outputs": [
    {
     "data": {
      "text/plain": [
       "0.6944214400736141"
      ]
     },
     "execution_count": 143,
     "metadata": {},
     "output_type": "execute_result"
    }
   ],
   "source": [
    "df_scrs.test_score.mean()"
   ]
  },
  {
   "cell_type": "markdown",
   "metadata": {},
   "source": [
    "#### 2(e)\n",
    "rubric={points:1}\n",
    "\n",
    "Do you see a significant difference between the training score and the cross-validation score? Briefly discuss."
   ]
  },
  {
   "cell_type": "code",
   "execution_count": 144,
   "metadata": {},
   "outputs": [],
   "source": [
    "# yes three is significant diffrence between training score and validation score\n",
    "\n",
    "# average training score :- 0.99\n",
    "\n",
    "# average validation score :- 0.68"
   ]
  },
  {
   "cell_type": "markdown",
   "metadata": {
    "nbgrader": {
     "grade": true,
     "grade_id": "cell-a89757274fc5586f",
     "locked": false,
     "points": 0,
     "schema_version": 3,
     "solution": true,
     "task": false
    }
   },
   "source": []
  },
  {
   "cell_type": "markdown",
   "metadata": {},
   "source": [
    "#### 2(f)\n",
    "rubric={points:1}\n",
    "\n",
    "Inspect the 10 sub-scores from the 10 folds of cross-validation. How does this inform the trustworthiness of your cross validation score?"
   ]
  },
  {
   "cell_type": "code",
   "execution_count": null,
   "metadata": {},
   "outputs": [],
   "source": []
  },
  {
   "cell_type": "markdown",
   "metadata": {
    "nbgrader": {
     "grade": true,
     "grade_id": "cell-a89757274fc5586f",
     "locked": false,
     "points": 0,
     "schema_version": 3,
     "solution": true,
     "task": false
    }
   },
   "source": []
  },
  {
   "cell_type": "markdown",
   "metadata": {
    "nbgrader": {
     "grade": false,
     "grade_id": "cell-4150979c1845a18c",
     "locked": true,
     "schema_version": 3,
     "solution": false,
     "task": false
    }
   },
   "source": [
    "## Exercise 3: Hyperparameters \n",
    "rubric={points:10}\n",
    "\n",
    "In this exercise, you'll experiment with the `max_depth` hyperparameter of the decision tree classifier. See the [`DecisionTreeClassifier` documentation](https://scikit-learn.org/stable/modules/generated/sklearn.tree.DecisionTreeClassifier.html) for more details.\n",
    "\n",
    "- Explore the `max_depth` hyperparameter. Run 10-fold cross-validation for trees with different values of `max_depth` (at least 10 different values in the range 1 to 25).\n",
    "- For each `max_depth`, get both the train accuracy and the cross-validation accuracy.\n",
    "- Make a plot with `max_depth` on the *x*-axis and the train and cross-validation scores on the *y*-axis. That is, your plot should have two curves, one for train and one for cross-validation. Include a legend to specify which is which.\n",
    "- Discuss how changing the `max_depth` hyperparameter affects the training and cross-validation accuracy. From these results, what depth would you pick as the optimal depth? \n",
    "- Do you think that the depth you chose would generalize to other \"spotify\" datasets (i.e., data on other spotify users)?\n",
    "\n",
    "> Note: generally speaking (for all assignments) you are welcome to copy/paste code directly from the lecture notes, though I ask that you add a small citation (e.g. \"Adapted from lecture 2\") if you do so."
   ]
  },
  {
   "cell_type": "code",
   "execution_count": 145,
   "metadata": {},
   "outputs": [
    {
     "data": {
      "text/plain": [
       "Index(['fit_time', 'score_time', 'test_score', 'train_score'], dtype='object')"
      ]
     },
     "execution_count": 145,
     "metadata": {},
     "output_type": "execute_result"
    }
   ],
   "source": [
    "df_scrs.columns"
   ]
  },
  {
   "cell_type": "code",
   "execution_count": 146,
   "metadata": {},
   "outputs": [
    {
     "data": {
      "text/plain": [
       "5"
      ]
     },
     "execution_count": 146,
     "metadata": {},
     "output_type": "execute_result"
    }
   ],
   "source": [
    "dsdmodel = DecisionTreeClassifier(max_depth=5)\n",
    "dasdm_score =  cross_validate(dsdmodel,x_train,y_train,cv=10,return_train_score=True)\n",
    "\n",
    "dsdmodel.fit(x_train,y_train).get_depth()"
   ]
  },
  {
   "cell_type": "code",
   "execution_count": 147,
   "metadata": {},
   "outputs": [
    {
     "name": "stdout",
     "output_type": "stream",
     "text": [
      "   max_depth  mean_cv_score  mean_train_score\n",
      "0          2       0.710505          0.717986\n",
      "4          3       0.709888          0.731625\n",
      "9          4       0.732781          0.764345\n",
      "3          7       0.712990          0.858236\n",
      "8          9       0.712376          0.914582\n",
      "1         10       0.703094          0.937727\n",
      "6         13       0.696887          0.981470\n",
      "2         17       0.686343          0.997520\n",
      "5         18       0.673940          0.998209\n",
      "7         20       0.683230          0.998760\n"
     ]
    },
    {
     "data": {
      "text/plain": [
       "<AxesSubplot:xlabel='max_depth'>"
      ]
     },
     "execution_count": 147,
     "metadata": {},
     "output_type": "execute_result"
    },
    {
     "data": {
      "image/png": "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\n",
      "text/plain": [
       "<Figure size 640x480 with 1 Axes>"
      ]
     },
     "metadata": {},
     "output_type": "display_data"
    }
   ],
   "source": [
    "def get_train_test_score(max_depth,x_train,y_train,cv=5,return_train_score=True):\n",
    "    model = DecisionTreeClassifier(max_depth=max_depth)\n",
    "    m_score =  cross_validate(model,x_train,y_train,cv=cv,return_train_score=return_train_score)\n",
    "    dic = {}\n",
    "    \n",
    "    dic['max_depth'] = max_depth\n",
    "    dic['mean_cv_score'] = m_score['test_score'].mean()\n",
    "    dic['mean_train_score'] = m_score['train_score'].mean()\n",
    "    return dic\n",
    "\n",
    "\n",
    "\n",
    "\n",
    "df_scored = {\n",
    "    'max_depth':[],\n",
    "    'mean_cv_score':[],\n",
    "    'mean_train_score':[],\n",
    "}\n",
    "\n",
    "max_deth_list = rd.sample(range(1,25),10)\n",
    "\n",
    "for depth in max_deth_list:\n",
    "    ret_scr = get_train_test_score(depth,x_train,y_train,cv=10)\n",
    "    df_scored['max_depth'].append(ret_scr['max_depth'])\n",
    "    df_scored['mean_cv_score'].append(ret_scr['mean_cv_score'])\n",
    "    df_scored['mean_train_score'].append(ret_scr['mean_train_score'])\n",
    "\n",
    "df_scored = pd.DataFrame(df_scored).sort_values(by='max_depth')\n",
    "print(df_scored)\n",
    "df_scored.plot(x='max_depth')"
   ]
  },
  {
   "cell_type": "markdown",
   "metadata": {},
   "source": []
  },
  {
   "cell_type": "markdown",
   "metadata": {},
   "source": [
    "## Exercise 4: Test set\n",
    "rubric={points:4}\n",
    "\n",
    "Remember the test set you created way back at the beginning of this assignment? Let's use it now to see if our cross-validation score from the previous exercise is trustworthy. \n",
    "\n",
    "- Select your favorite `max_depth` from the previous part.\n",
    "- Train a decision tree classifier using that `max_depth` on the _entire training set_.\n",
    "- Compute and display the test score. \n",
    "- How does it compare to the cross-validation score from the previous exercise? Briefly discuss. "
   ]
  },
  {
   "cell_type": "code",
   "execution_count": 148,
   "metadata": {},
   "outputs": [
    {
     "data": {
      "text/plain": [
       "0.6683168316831684"
      ]
     },
     "execution_count": 148,
     "metadata": {},
     "output_type": "execute_result"
    }
   ],
   "source": [
    "# from previous step i choose max depth 3 \n",
    "\n",
    "model1 = DecisionTreeClassifier(max_depth=3)\n",
    "model1.fit(x_train,y_train)\n",
    "\n",
    "model1.score(x_test,y_test)"
   ]
  },
  {
   "cell_type": "code",
   "execution_count": 149,
   "metadata": {},
   "outputs": [
    {
     "data": {
      "text/html": [
       "<div>\n",
       "<style scoped>\n",
       "    .dataframe tbody tr th:only-of-type {\n",
       "        vertical-align: middle;\n",
       "    }\n",
       "\n",
       "    .dataframe tbody tr th {\n",
       "        vertical-align: top;\n",
       "    }\n",
       "\n",
       "    .dataframe thead th {\n",
       "        text-align: right;\n",
       "    }\n",
       "</style>\n",
       "<table border=\"1\" class=\"dataframe\">\n",
       "  <thead>\n",
       "    <tr style=\"text-align: right;\">\n",
       "      <th></th>\n",
       "      <th>mean_cv_score</th>\n",
       "      <th>mean_train_score</th>\n",
       "      <th>test_score</th>\n",
       "    </tr>\n",
       "    <tr>\n",
       "      <th>max_depth</th>\n",
       "      <th></th>\n",
       "      <th></th>\n",
       "      <th></th>\n",
       "    </tr>\n",
       "  </thead>\n",
       "  <tbody>\n",
       "    <tr>\n",
       "      <th>1</th>\n",
       "      <td>0.641063</td>\n",
       "      <td>0.645519</td>\n",
       "      <td>0.626238</td>\n",
       "    </tr>\n",
       "    <tr>\n",
       "      <th>2</th>\n",
       "      <td>0.710505</td>\n",
       "      <td>0.717986</td>\n",
       "      <td>0.668317</td>\n",
       "    </tr>\n",
       "    <tr>\n",
       "      <th>3</th>\n",
       "      <td>0.709888</td>\n",
       "      <td>0.731625</td>\n",
       "      <td>0.668317</td>\n",
       "    </tr>\n",
       "    <tr>\n",
       "      <th>4</th>\n",
       "      <td>0.733402</td>\n",
       "      <td>0.764345</td>\n",
       "      <td>0.693069</td>\n",
       "    </tr>\n",
       "    <tr>\n",
       "      <th>5</th>\n",
       "      <td>0.709278</td>\n",
       "      <td>0.792589</td>\n",
       "      <td>0.705446</td>\n",
       "    </tr>\n",
       "    <tr>\n",
       "      <th>6</th>\n",
       "      <td>0.716092</td>\n",
       "      <td>0.823174</td>\n",
       "      <td>0.695545</td>\n",
       "    </tr>\n",
       "    <tr>\n",
       "      <th>7</th>\n",
       "      <td>0.710505</td>\n",
       "      <td>0.857823</td>\n",
       "      <td>0.680693</td>\n",
       "    </tr>\n",
       "    <tr>\n",
       "      <th>8</th>\n",
       "      <td>0.713611</td>\n",
       "      <td>0.887649</td>\n",
       "      <td>0.693069</td>\n",
       "    </tr>\n",
       "    <tr>\n",
       "      <th>9</th>\n",
       "      <td>0.705559</td>\n",
       "      <td>0.914582</td>\n",
       "      <td>0.665842</td>\n",
       "    </tr>\n",
       "    <tr>\n",
       "      <th>10</th>\n",
       "      <td>0.709888</td>\n",
       "      <td>0.937245</td>\n",
       "      <td>0.663366</td>\n",
       "    </tr>\n",
       "    <tr>\n",
       "      <th>11</th>\n",
       "      <td>0.699981</td>\n",
       "      <td>0.958875</td>\n",
       "      <td>0.663366</td>\n",
       "    </tr>\n",
       "    <tr>\n",
       "      <th>12</th>\n",
       "      <td>0.706200</td>\n",
       "      <td>0.972928</td>\n",
       "      <td>0.660891</td>\n",
       "    </tr>\n",
       "    <tr>\n",
       "      <th>13</th>\n",
       "      <td>0.695645</td>\n",
       "      <td>0.981745</td>\n",
       "      <td>0.658416</td>\n",
       "    </tr>\n",
       "    <tr>\n",
       "      <th>14</th>\n",
       "      <td>0.696868</td>\n",
       "      <td>0.987876</td>\n",
       "      <td>0.675743</td>\n",
       "    </tr>\n",
       "    <tr>\n",
       "      <th>15</th>\n",
       "      <td>0.689449</td>\n",
       "      <td>0.993387</td>\n",
       "      <td>0.660891</td>\n",
       "    </tr>\n",
       "    <tr>\n",
       "      <th>16</th>\n",
       "      <td>0.675190</td>\n",
       "      <td>0.995729</td>\n",
       "      <td>0.675743</td>\n",
       "    </tr>\n",
       "    <tr>\n",
       "      <th>17</th>\n",
       "      <td>0.681409</td>\n",
       "      <td>0.997589</td>\n",
       "      <td>0.650990</td>\n",
       "    </tr>\n",
       "    <tr>\n",
       "      <th>18</th>\n",
       "      <td>0.687601</td>\n",
       "      <td>0.998278</td>\n",
       "      <td>0.648515</td>\n",
       "    </tr>\n",
       "    <tr>\n",
       "      <th>19</th>\n",
       "      <td>0.682643</td>\n",
       "      <td>0.998622</td>\n",
       "      <td>0.690594</td>\n",
       "    </tr>\n",
       "    <tr>\n",
       "      <th>20</th>\n",
       "      <td>0.678901</td>\n",
       "      <td>0.998760</td>\n",
       "      <td>0.670792</td>\n",
       "    </tr>\n",
       "    <tr>\n",
       "      <th>21</th>\n",
       "      <td>0.681999</td>\n",
       "      <td>0.998829</td>\n",
       "      <td>0.665842</td>\n",
       "    </tr>\n",
       "    <tr>\n",
       "      <th>22</th>\n",
       "      <td>0.679538</td>\n",
       "      <td>0.998898</td>\n",
       "      <td>0.678218</td>\n",
       "    </tr>\n",
       "    <tr>\n",
       "      <th>23</th>\n",
       "      <td>0.681382</td>\n",
       "      <td>0.998898</td>\n",
       "      <td>0.663366</td>\n",
       "    </tr>\n",
       "    <tr>\n",
       "      <th>24</th>\n",
       "      <td>0.687581</td>\n",
       "      <td>0.998898</td>\n",
       "      <td>0.683168</td>\n",
       "    </tr>\n",
       "  </tbody>\n",
       "</table>\n",
       "</div>"
      ],
      "text/plain": [
       "           mean_cv_score  mean_train_score  test_score\n",
       "max_depth                                             \n",
       "1               0.641063          0.645519    0.626238\n",
       "2               0.710505          0.717986    0.668317\n",
       "3               0.709888          0.731625    0.668317\n",
       "4               0.733402          0.764345    0.693069\n",
       "5               0.709278          0.792589    0.705446\n",
       "6               0.716092          0.823174    0.695545\n",
       "7               0.710505          0.857823    0.680693\n",
       "8               0.713611          0.887649    0.693069\n",
       "9               0.705559          0.914582    0.665842\n",
       "10              0.709888          0.937245    0.663366\n",
       "11              0.699981          0.958875    0.663366\n",
       "12              0.706200          0.972928    0.660891\n",
       "13              0.695645          0.981745    0.658416\n",
       "14              0.696868          0.987876    0.675743\n",
       "15              0.689449          0.993387    0.660891\n",
       "16              0.675190          0.995729    0.675743\n",
       "17              0.681409          0.997589    0.650990\n",
       "18              0.687601          0.998278    0.648515\n",
       "19              0.682643          0.998622    0.690594\n",
       "20              0.678901          0.998760    0.670792\n",
       "21              0.681999          0.998829    0.665842\n",
       "22              0.679538          0.998898    0.678218\n",
       "23              0.681382          0.998898    0.663366\n",
       "24              0.687581          0.998898    0.683168"
      ]
     },
     "execution_count": 149,
     "metadata": {},
     "output_type": "execute_result"
    },
    {
     "data": {
      "image/png": "iVBORw0KGgoAAAANSUhEUgAAAjwAAAG9CAYAAAARC6x6AAAAOXRFWHRTb2Z0d2FyZQBNYXRwbG90bGliIHZlcnNpb24zLjUuMiwgaHR0cHM6Ly9tYXRwbG90bGliLm9yZy8qNh9FAAAACXBIWXMAAA9hAAAPYQGoP6dpAACTMklEQVR4nOzdd3gU1RrH8e+mbXoPBEghtNBLqEoHqQJKkyJKUxHEgoqiqOiVK4iCgqCIiqDopYigNEF6k95baAmElgrp2ZQ9948lKyEJpO8meT/Pkye7M7Mz72aT3V/OnDlHo5RSCCGEEEKUYRamLkAIIYQQorhJ4BFCCCFEmSeBRwghhBBlngQeIYQQQpR5EniEEEIIUeZJ4BFCCCFEmSeBRwghhBBlnpWpCyguer2eGzdu4OTkhEajMXU5QgghhMgDpRTx8fFUrlwZC4uia5cps4Hnxo0b+Pr6mroMIYQQQhRAWFgYPj4+Rba/Mht4nJycAMMPzNnZ2cTVCCGEECIv4uLi8PX1NX6OF5UyG3gyT2M5OztL4BFCCCFKmaLujiKdloUQQghR5kngEUIIIUSZJ4FHCCGEEGWeBB4hhBBClHkSeIQQQghR5kngEUIIIUSZl+/AExwczFdffcWIESNo0KABVlZWaDQapk6dWqhCNm/eTM+ePfH09MTOzo7atWszefJkEhISCrVfIYQQQoh8j8PzzTffMHv27CIt4osvvuD1119Ho9HQtm1bKlasyK5du/jkk09YuXIlu3fvxtPTs0iPKYQQQojyI98tPPXr1+fNN9/kl19+4ezZszzzzDOFKuDo0aO88cYbWFpasm7dOnbs2MHy5cu5dOkSnTt3Jjg4mBdffLFQxxBCCCFE+ZbvFp7nnnsuy/3CTuw1bdo0lFKMHDmSHj16GJfb29vzww8/UK1aNVauXMm5c+eoXbt2oY4lhBBCiPLJpJ2WU1NTWbduHQBDhw7Ntt7f35/WrVsDsGrVqhKtTQghhBBlh0kDz/nz50lKSgKgWbNmOW6Tufzo0aMlVpcQQgghyhaTTh4aEhICgKura66zovr6+mbZNjc6nQ6dTme8HxcXV0RVCiGEKPOUMnyh/r2Puu87eVx27z4o3H7NnY0j2Lubuoo8MWngiY+PB8DBwSHXbRwdHYGHB5hp06bx0UcfFV1xQgghQJ8B6SmQrrv7/d7bd7+n5bL83sdkpIE+/e5Xxj23c/rKaf19y5QCpb/7dfc29y/Lbfl9y0TBNR0Jvb80dRV5YtLAU5TeeecdXn/9deP9uLg4Y+uQEEIIID0VkqIgMfLuV9Q93+9bnnwb0pMN4UIUEw1oNIbv8O/tbMvMmKW1qSvIM5MGnszTWImJiblukznwoLOz8wP3pdVq0Wq1RVecEEKUBmnJEHcD4m9CQsR9wSUSkqL/vZ0SW7hjWViBlS1Yae9+t73v/n3fre+ut7QxLLOwAgvLu9/v/bp3mXUO2+RwX2NhCAMaC8MXmqzLsty/f9n922ly+H5XriHkIcuM+8hhmbmHmDLKpIGnatWqANy5c4f4+Pgc+/GEhYVl2VYIIcoFpQwBJe4GxN8wfL/3K/4mxF03tMTkh8YSHDzBweue73dv299z394drO3+DTCWWrAsMycFRDlk0t/ewMBA7O3tSUpK4tChQ3Ts2DHbNocOHQIgKCiopMsTQojio0uAqPN3g8u9Yeb6v8vSkvK2L2t7cKoEjhWzhxjj7bv3bV2hkOOnCVEamTTw2NjY8Pjjj7NixQp+/fXXbIHnypUr7N27F4C+ffuaokQhhCgaqYlwdR+E7oLQ3XD9CKiMhz/Ozg2cqxgCjXPlf7+c7rlt6yKnSYR4iBIJPHPnzmXu3Lm0aNGCn376Kcu6SZMm8dtvv/Hjjz/Sv39/unfvDkBSUhKjR48mIyOD/v37yyjLQojSJS0Zwg4YAk7ILrh+GPRpWbdxrAguPnfDTBVwrpQ93FjbmaZ+IcqYfAeeI0eOMG7cOOP9S5cuAfDtt9+ydu1a4/JVq1ZRqVIlAKKioggODsbb2zvb/oKCgpg5cyavv/46PXv2pH379lSoUIFdu3Zx8+ZNAgMDmT9/fr6fmBBClKh0HVw7aGi9CdkF1w5ARmrWbVx8oWpbCGgLVduAq59pahWiHMp34ImLi2P//v3Zll+7do1r164Z7987CODDTJgwgQYNGjBz5kwOHDhAYmIifn5+vPPOO7zzzju5DkoohBAmk54KN44Ywk3oTkNrTnpK1m2cKt0TcNqCW1U59SSEiWiUUqVgKMf8i4uLw8XFhdjY2Ide0i6EEA+lz4AbRyFkp+E01dV92TsVO1T4N9xUbQse1SXgCJFPxfX5LdcYCiFEbuJvwcUtcPFvuLQNUu5kXW/vYTg1VbUtBLQDz1oScIQwUxJ4hBAiU3oqhO2Hi5sNQSf8ZNb1ti7/tt4EtAWvOnKJtxClhAQeIUT5dufqvwHn8g5Ijb9npQYqN4Eaj0HNLlA5SAbfE6KUkr9cIUT5kpYCV/bcDTmbDYP/3cve0xBwajwG1TsaBusTQpR6EniEEGWbUhB96d+AE7rbMClmJo0l+LaAGp0NIce7kZymEqIMksAjhCibwk/DkZ/g/F9wOzTrOqfKhoBTswsEtAc7V1NUKIQoQRJ4hBBlR1oKnFkNhxYaOh9nsrAG/0f/PVVVoY5cTSVEOSOBRwhR+kVdhMM/wrFf/p09XGMJtR+HRkMMl4xrHU1boxDCpCTwCCFKp/RUOLfWEHRCdv673NkHmo6AJsMMc1MJIQQSeIQQpc3tUDi8GI7+DImRdxdqoFY3aDbKcMrKwtKUFQohzJAEHiGE+ctIhwubDH1zLm4G7s6I4+gNQc9A0LMyEacQ4oEk8AghzFfcDcOVVocXQ/yNf5dX62hozQnsAZbWpqtPCFFqSOARQpgXvR4ubTX0zQneACrDsNzeAxo/beif41HdpCUKIUofCTxCCPOglKFfzs7P4c6Vf5f7tza05tTpDVZa09UnhCjVJPAIIUwv+hKseRVCdxnu27oYLidvOhIq1DZtbUKIMkECjxDCdDLSYd/XsO0Tw3QPVnbQ8V1o/hzY2Ju6OiFEGSKBRwhhGrdOwZ/j4cZRw/2AdtB7DrgHmLYuIUSZJIFHCFGy0nWw8zPY/QXo00HrAt3+axgoUKZ7EEIUEwk8QoiSc3Uf/PkyRJ033K/TG3p+Dk7epq1LCFHmSeARQhQ/XTxs+Q8c+A5Q4FjREHTq9jF1ZUKIckICjxCieF34G9a8BnHXDPebDIOuU8HOzaRlCSHKFwk8QojikRgNG9+BE8sM9139ofdsqN7RtHUJIcolCTxCiKKlFJxaCRvehqQo0FhAq3GGy81tHExdnRCinJLAI4QoOrHXYd3rcP4vw/0KdaHPXPBpatq6hBDlngQeIUTh6fWGua/+ngKp8WBhDe0mQpsJYGVj6uqEEEICjxCikKIuwppX4Moew32f5tDnK6hQx7R1CSHEPSTwCCEKLngDrBgB6SlgbQ+dp0CL58HC0tSVCSFEFhJ4hBAFc24dLB8O+jQIaG9o1XHzN3VVQgiRIwk8Qoj8O7sWVgw3TA1Rvz/0XQCW8nYihDBfFqYuQAhRypxdc0/YGSBhRwhRKkjgEULk3Zk/DX129OnQYCD0/VbCjhCiVJB3KiFE3pz5A1aMBJUBDZ6CvvOlc7IQotSQFh4hxMOdXv1v2Gk4WMKOEKLUkcAjhHiw06vgt1GGsNNoCDz5tYQdIUSpI4FHCJG7Uyvht9F3w85QeGKehB0hRKkkgUcIkbNTK2Hl84aw0/hpeGKuhB0hRKklnZaFENmd/A1+fx6UHhoPMwwqaCH/HwkhSi95BxNCZHVixb9hp8kzEnaEEGWCvIsJIf51YjmsesEQdoKehd5zJOwIIcoEeScTQhgcXwarxtwNO8Oh12wJO0KIMkP68Agh4PhSWPUioKDpCHj8Cwk7QogyRd7RhCjvjv3v37DTbJSEHSFEmSTvakKUZ8d+hdVjMYSd0dBzpoQdIUSZJKe0hCivji6BP8YDCpo/Bz0/B43G1FUJIUSxkH/lhCiPjvx8T9h5XsKOEKLMk8AjRHlz5Gf482VAQYsx0PMzCTtCiDJPAo8Q5cnxZf+GnZYvQo9PJewIIcoFCTxClBenV8Pqu1djNX8euk+XsCOEKDck8AhRHpzfCCtH350uYhj0mCFhRwhRrkjgEaKsu7wdlj0D+nSoP0CmixBClEvyridEWXblH/jfEMjQQe1e0Hc+WFiauiohhChxEniEKKuuH4ZfBkJaEtR4DAYsBEtrU1clhBAmIYFHiLLo1in4uR+kxkPVtjBoCVhpTV2VEEKYjAQeIcqayPPw0xOQcgd8WsCQpWBtZ+qqhBDCpCTwCFGWxFyGn/pAUhRUagRPrwCto6mrEkIIk5PAI0RZEXsNFj8B8TfBqw4MWwV2rqauSgghzIIEHiHKgvhwWNwHYq+Ce3V49g9w8DB1VUIIYTYk8AhR2iVGG/rsxFwCVz8Y/ic4VTR1VUIIYVYk8AhRmiXfgZ+fhMiz4FQZnv0TXHxMXZUQQpgdCTxClFa6ePhlANw6AQ5ehtNY7gGmrkoIIcySBB4hSqPUJMMIytcOgq0rPLMavGqZuiohhDBbEniEKG3SdbBsGITuAq0zPLMKvOubuiohhDBrEniEKE0y0mDFSLi0BaztDePsVAkydVVCCGH2JPAIUVroM2DVGAheB5ZaGPI/8Gtl6qqEEKJUkMAjRGmg18Ofr8CplWBhbZgbq1oHU1clhBClhgQeIcydUrDhLTi2BDQWMOAHqNXV1FUJIUSpIoFHCHO341M4+B2ggSfnQ90nTF2REEKUOhJ4hDBnZ9fA9mmG271mQaNBpq1HCCFKKQk8QpiriLOw6kXD7ZZjodko09YjhBClmAQeIcxRUoxhYMHUBAhoB12nmroiIYQo1STwCGFu9BmwcjTcDjFMBjpgEVhamboqIYQo1STwCGFuNn8Il7YaBhYc/Cs4eJi6IiGEKPUk8AhhTk6sgL1zDLefmAfeDUxbjxBClBGFCjwrVqygQ4cOuLm54eDgQKNGjZgxYwZpaWn53ldSUhLTpk2jcePGODg44OTkRPPmzfnqq6/IyMgoTJlClA43jsGf4w2327wO9fuZtBwhhChLNEopVZAHvvbaa8yePRsrKys6deqEo6MjW7du5c6dO7Rp04ZNmzZhZ2eXp33FxMTQqVMnjh8/jpOTE61atcLS0pJ9+/Zx584dunTpwtq1a7GxsclzfXFxcbi4uBAbG4uzs3NBnqIQJSchEr7rCLFhUKMLDF0GFpamrkoIIUpccX1+F6iFZ/Xq1cyePRtHR0f279/Pxo0bWblyJRcuXKBBgwbs3r2b999/P8/7e/HFFzl+/Dj169fn9OnTbNq0iQ0bNnDu3DlatGjB33//zUcffVSQUoUwfxlpsGK4Iex41ID+30vYEUKIIlagFp4WLVpw8OBBpk6dyuTJk7Os2717N23btkWr1RIeHo6Li8sD93Xjxg18fHxQSrFt2zY6dOiQZf2JEydo1KgRdnZ2hIeH4+TklKcapYVHlBrrJ8KBBWDjBM9vAa9AU1ckhBAmYzYtPNevX+fgwYMADB06NNv6Nm3a4Ovri06nY/369Q/d36FDh1BKYWNjQ7t27bKtb9iwIV5eXiQnJ+dpf0KUKkd+NoQdgH4LJOwIIUQxyXfgOXr0KADu7u4EBATkuE2zZs2ybPsgCQkJALi6umJhkXM5np6eABw+fDi/5QphvsIOwrrXDbc7TobaPU1bjxBClGH5Hs0sJCQEAD8/v1y38fX1zbLtg1SoUAGAiIgIEhIScHR0zLJer9dz5cqVh+5Pp9Oh0+mM9+Pi4h56bCFMJu4mLBsGGalQuxe0fdPUFQkhRJmW7xae+Ph4ABwcHHLdJjO05CV0tGzZEnt7ewC+//77bOt/+uknkpKSHrq/adOm4eLiYvzKDF1CmJ10HSx/BhJugVcd6DsfcmndFEIIUTRM/i7r5OTEG2+8AcA777zDnDlzuHnzJhEREXz//fe8/PLLWFtbA+R6yivzsbGxscavsLCwEqlfiHxRynAa69pBsHWBIb+CNm8d8YUQQhRcvk9pZV4llZiYmOs2mf1y8tq7esqUKURGRjJ//nxeffVVXn31VeO6du3aUadOHb799lvc3d1z3YdWq0Wr1ebpeEKYzMHv4egS0FjAgB/BvZqpKxJCiHIh34GnatWqAA9sQclcl7ntw1haWvLNN98wbtw4/vzzT65evYqjoyMdOnTg8ccfZ9iwYQA0aCDD7ItSLHQ3/DXJcPuxj6BGZ9PWI4QQ5Ui+A0+TJk0AiI6OJiQkJMcrtQ4dOgRAUFBQvvbdoEGDbKFGKcWePXsA6NKlS37LFcI83LkKy58FfTo0GAiPvmzqioQQolzJdx8eHx8fmjdvDsCvv/6abf3u3bsJCwtDq9XSs2fhL7Ndvnw5V69e5ZFHHqFp06aF3p8QJS41CZY+DUnR4N0Qes8BjcbUVQkhRLlSoE7L7777LgDTp0/nyJEjxuXR0dGMGzcOgPHjx2cZZXnVqlXUrl2bzp2zN+PfuHEjx1Nka9eu5YUXXkCr1TJ//vyClCqEaSkFf74Mt06AvScM/hVs7E1dlRBClDv5PqUF8OSTT/LKK68wZ84cWrVqRefOnXFwcGDLli3cuXOH1q1b8/HHH2d5TGxsLMHBwaSkpGTb34EDB+jXrx+NGjUiICAAa2trTpw4wblz53B0dGT16tU0bNiwYM9QCFPa+xWc+g0srOCpn8BVhksQQghTKPBl6bNnz2bZsmU88sgj7N27l/Xr1+Pj48P06dPZunVrnmdKB6hfvz7PPvssSUlJ/P3336xZswalFBMmTODcuXN07969oGUKYToXN8PmKYbb3adD1damrUcIIcqxAk0eWhrI5KHCpKIvwXcdISUWmjwDfb6SfjtCCJEHZjN5qBDiIVITDZ2UU2LBpzk8PlPCjhBCmJgEHiGK2oa3IPIsOHrDUz+DlQyIKYQQpiaBR4iidPI3w0jKaKD/9+BcydQVCSGEQAKPEEUnJgTWTjDcbjcRAtqath4hhBBGEniEKAoZabDyOdDFgW8raP+2qSsSQghxDwk8QhSFrVPh+iHDDOj9vwPLAg1xJYQQophI4BGisC5thT1fGm73+Qpc/UxajhBCiOwk8AhRGAmRsOpFw+2mI6HuE6atRwghRI4k8AhRUHo9rH4REsLBqw50n2bqioQQQuRCAo8QBbXva8P0EVa2MGAhWOd9OhUhhBAlSwKPEAVx4yhs/tBwu9snULGuScsRQgjxYBJ4hMgvXTz8Ngr0aVCnDzQbZeqKhBBCPIQEHiHya92bEHMZnH2gzxyZJ0sIIUoBCTxC5MfxpXBiKWgsDFNH2LmZuiIhhBB5IIFHiLyKvgRrXzfc7vAO+D9i2nqEEELkmQQeIfIiPRV+GwlpieDfBtq+YeqKhBBC5IOMfy9EXmz5CG4eN5zC6rcALCxNXVGJUkqRlpaGXq83dSlCiFLEysoKKyvziBrmUYUQ5uzC3/DPXMPtJ74GlyqmracEZWRkEBUVRXx8PGlpaaYuRwhRCjk4OODp6Ym9vb1J65DAI8SDxN/6d+qIFmOgdk/T1lOCMjIyCAsLQ6fT4eLigqOjI5aWlmjkqjQhRB4opdDpdMTExBAWFkZAQAA2NjYmq0cCjxC50eth1RhIioKKDaDLf0xdUYmKiopCp9Ph5+eHnZ2MIi2EyD87OzucnJwICQkhIiICHx8fk9UinZaFyM2eL+HydrC2vzt1hK2pKyoxSini4+NxcXGRsCOEKBRLS0tcXFxISkpCKWWyOiTwCJGTsIOwdarhdo8Z4FXLtPWUsLS0NNLS0nB0dDR1KUKIMsDOzo6MjAyT9gWUwCPE/VJiYeUoUBlQrx80GWbqikpc5tVYlpbl62o0IUTxyHwvMeWVnhJ4hLiXUrDmNbhzFVz9ofeX5XrqCOmgLIQoCubwXiKBR4h7HV0Cp38HCytDvx1bF1NXJIQQoghI4BEiU2QwbHjLcLvjZPBpZtp6hBBCFBkJPEIApKXAb6MgLQmqdYDWr5m6IiGEEEVIAo8QYJg6IvwU2HtC32/BQv40hBCiLJF3dSGuHYJ93xhuP/kNOHmbth4hhBBFTgKPKN8y0mDNq4CChoOhVldTVySEEKIYSOAR5du+rw2nsuzcodt/TV2NEEKIYiKBR5Rft0Nh2zTD7a5TwcHTpOWI0kej0RjHF1myZAktWrTA0dERLy8vhgwZwtWrVwHDVB1z586lcePGxpmjR4wYQURERK77Pn/+PGPGjKF69erY2tri4uJCu3btWLJkSY7bX7lyhU8//ZROnTrh5+eHVqvF1dWVNm3a8O233+Y44FtoaCgajYaqVauilGLBggU0bdoUBwcHXFxc6Nq1K//8808R/KQgKSmJL7/8kjZt2uDm5oZWq8Xf35/evXvz66+/AoYJa318fNBoNOzbty/Xfb355ptoNBomTJhQoFp0Oh2fffYZTZs2xcnJCRsbG7y9vWnevDlvvfUWMTExBar//u2nT59OUFAQTk5O2NvbU69ePd577z1u376dbft7X4uMjAxmzZpFkyZNcHR0zDaGTX5/N8RdqoyKjY1VgIqNjTV1KcIc6fVK/dxPqSnOSv34uOG+MEpOTlZnzpxRycnJpi7FrAEKUJMmTVJWVlaqU6dOasCAAcrPz08BytfXV8XExKinnnpK2draqu7du6u+ffuqChUqKEA1bNhQ6XS6bPtdvny5srW1VYCqXbu26tu3r+rUqZNycHBQgBo5cmS2x3z88ccKUAEBAapz585q8ODBqn379srGxkYBql+/fkp/3+95SEiIApS/v78aPny4sra2Vp06dVJPPfWUqlWrlgKUVqtV+/btK9TP6erVq6pu3boKUPb29qpLly5q8ODBqm3btsrFxUX5+/sbt33nnXcUoMaMGZPjvtLS0lTFihUVoE6cOJHvWjIyMlTnzp0VoJydnVWPHj3UkCFD1GOPPab8/f0VoI4ePVrg+pVSKjo6WjVu3Nh4jD59+qj+/fsrT09P42sUEhKS5TGZr4Wfn5/q06ePsrGxUZ07d1ZDhgxRDRs2NG5XkN8Nc5Cf95Ti+vyWwCPKp5O/GcLOfzyVijxv6mrMzsPenPR6vUrUpZXKr/s/9AsjM/B4eHioY8eOGZcnJSWpNm3aKEA1aNBAVa9eXYWGhhrXR0ZGqho1aihALVmyJMs+T5w4obRarbK1tVUrV67Msi40NFQ1aNBAAWrx4sVZ1h04cECdPHkyW43Xr19XjRo1UoBavnx5lnWZH7KZoSc4ONi4Lj09XY0aNUoBqmvXrvn/4dyVkZGhmjVrZtxPRERElvXJyclq3bp1xvvnz59XgHJ1dc3x9++PP/5QgGratGmB6tmxY4cCVJMmTVRcXFy29QcPHlRRUVEFrl8ppQYNGqQA1bJlyyz7io+PVz169FCAevTRR7M85t7XwsfHJ8trkamgvxvmwBwCj0YpE05dWozi4uJwcXEhNjYWZ2dnU5cjzEnybZjbAhIjoMM70GGSqSsyOykpKYSEhBAQEICtbfZZ4pNS06n7wUYTVFZ4Z/7TDXsbqyLZV+aphnnz5jFu3Lgs61atWkW/fv0AWLduHT179syyftasWbzxxhuMHDmShQsXGpcPHjyYZcuW8fnnn/PGG29kO+bBgwdp0aIFTZs25dChQ3mqc9OmTXTr1o2BAweyfPly4/LQ0FACAgIA+PPPP+ndu3eWx926dYtKlSqh1WqJj4/H2to6T8e71x9//MGTTz5JpUqVOH/+fJ4mpG3Xrh27du3i119/ZciQIVnW9e3bl9WrVzN37lxeeumlfNezYsUKnnrqKV555RVmz55d5PVfvXqVgIAAlFIcO3aMhg0bZll//fp1atSoQUpKCnv27OHRRx8Fsr4WP/30E88880y2fRfH70ZJedh7yr2K6/O7aP7qhShNNn9kCDuetaBNwfoACHGv+8MMQM2aNQGwsrKia9fsV/9lrr9x44ZxmV6vZ8OGDQAMGjQox2M1a9YMR0dHjh49SkpKSpYPD51Ox6ZNmzh48CARERHodDqUUsTHxwMQHByc4z6trKzo3r17tuXe3t64ublx+/ZtoqOj8fbO/5ANf/31FwBDhw7NU9gBGDlyJLt27WLRokVZAk9kZCTr1q1Dq9UydOjQfNcCEBQUhKWlJQsXLqRWrVr069ePSpUqFVn9O3fuRK/XExQUlC3sAFSpUoVu3brxxx9/sG3bNmPguVf//v2zLSvs74aQwCPKm6v74PCPhtu9vgQrrUnLKa3srC05859upi6jQOysi34GeD8/v2zLMj8cK1WqhJVV9rdaJycnwPCfb6bo6Gji4uIA8PX1fehxo6OjqVKlCgD79u1j0KBBxo7SOcnc9/0qVaqUa+uNs7Mzt2/fzlJnfly5cgWA2rVr5/kxmS0wmzdv5tq1a/j4+ACGjuFpaWkMGjQINze3AtVTvXp1vvjiCyZOnMj48eMZP348/v7+PPLII/Tq1YuBAwdiY2NT4PqvX78OYGytya2Ge7e9V4UKFbC3t8+2vDC/G8JAAo8oP9JTDTOhAzQZBlVbm7Sc0kyj0RTZaaGywOIBI3M/aN397r2Savjw4Q/dXqs1BPakpCSefPJJwsPDGTlyJGPHjqVGjRo4OztjaWnJ+fPnCQwMJLceDPmpsSQ4ODjw1FNPsXDhQn766SfeffddABYtWgQYWoAK4+WXX+app57izz//ZPfu3ezevZulS5eydOlSpkyZwq5dux7Y6lOc7Ozsclxe0N8N8S95xxLlx945EHnWMH1El49NXY0Q2Xh6emJnZ0dycjKff/45np55Gyph586dhIeHExQUlKU/UKYLFy4Udal5ltn6de7cuXw9LrNv06JFi3j33Xc5cuQIJ06cwMfHhy5duhS6rooVK/L888/z/PPPG+sbNWoU//zzD5MmTWLx4sUFqj+zVeXy5cu5bpO5Lj8tMAX93RD/Mq9YL0Rxib4EO2YYbnefBvbupq1HiBxYWloaP8zv7Vz8MJnjxuR0ag0w6fgsmX2D/ve//5GYmJjnx7Vp04ZatWpx4cIF9uzZw48/Gk5FDx8+vFhapGrXrs3bb78NwLFjx4zL81t/u3btsLCw4NixYxw/fjzb+ps3bxr7BXXs2DHP9RX0d0P8SwKPKPuUgnWvQ4YOqnWEBgNNXZEQuZoyZQo2NjZMnDiRxYsX5zhg4KlTp/j999+N9+vUqQPAli1bOHPmTJZtFyxYwLJly4q36Afo06cPTZo04caNGwwcOJDo6Ogs61NSUoydce+Xeepq/vz5xsH9RowYUah6tm7dyvr160lLS8uyXCnF2rVrAfD39y9w/X5+fgwcOBClFGPGjMmyfWJiIi+88AIpKSk8+uijOXZYfpCC/G6IexTpRe5mRMbhEUbHlhrG3Pm4glLRl0xdTakgAw/mDXfHTcnJvYP65WTbtm0KUO3bt8+2bvny5cre3t44JkvXrl3V008/rXr06KF8fHwUoAYNGpTlMU888YQClI2NjeratasaPHiwql27ttJoNGry5Mk51vKwGpVSxsH47h8oLz9CQ0NVYGCgceC+rl27qiFDhqh27drlOHBfpuvXrytLS0vjz7ldu3YFriHTF198YRwQsEOHDmro0KGqb9++xufp4uKSbeDB/NYfFRVlHPvIxcVFPfnkk2rAgAHKy8vroQMPPui1UKpgvxvmwBzG4ZE+PKJsS4qBje8Ybrd/C9yrmbYeIfJg4MCBNG/enDlz5vD333+zZ88eMjIyqFixIjVq1GD8+PEMGDAgy2NWrFjB7Nmz+emnn9i9eze2trY0a9aMOXPmULNmTf77X9PNFefv78+hQ4f4+uuv+e233/jnn39ITU3F29ub9u3b53qJeeXKlenWrRvr168HCt9ZGaB3797Exsaya9cuLly4wL59+7Czs8PX15dJkybx0ksvGa8KK2j9Hh4e7N27lzlz5rBs2TI2bdqEXq8nICCA559/njfffLPAV5kV5HdDGMjAg6Js++MlOLoEvOrAmJ1gZfPwx4h8DRImhBAPYw4DD0ofHlF2he42hB2A3rMl7AghRDkmgUeUTem6f8fcaTYK/FqatBwhhBCmJX14RNm0+wuIvgCOFaHzFFNXI0SZcO7cOaZPn57n7SdNmpSvEZYL4s033yQqKipP27Zp04bnnnuuWOsR5ksCjyh7Is/DrpmG292ng52rScsRoqy4deuWcUC+vBgxYkSxB57ffvvNOP1DXkjgKb8k8IiyRSlYOwEyUqFmV6jX19QVCVFmdOjQIdfpKUwlNDTU1CWIUkL68Iiy5dgvcGU3WNtDz89BozF1RUIIIcyABB5RdiRGwab3DLc7vANu/g/eXgghRLkhgUeUHRsnQ/JtqNgAWo0zdTVCCCHMiAQeUTZc2gYnlgIaw5g7ltI9TQghxL8k8IjSLy3ZMDkoQIsXwKepaesRQghhdiTwiNJv5+cQcxmcKkOn90xdjRBCCDMkgUeUbhFnYc+Xhts9Z4CtzJsmhBAiOwk8ovTS6w3TR+jTIfBxqNPb1BUJIYQwUxJ4ROl1ZDGE7QMbR0PrjhBCCJELCTyidIoPh81358jq9B64+Ji2HiGEEGZNAo8ofZSCP16ClFio1NhwZZYQQuRg+/btaDQaOnToYOpShIlJ4BGlz4Hv4OLfYGULfeeDhaWpKxJCPEDVqlXRaDQy75UwKRmdTZQuEWf/nT6i61SoUMe09QghzFqLFi04e/Ys9vb2pi5FmJgEHlF6pKXAyucgQ2eYCb35c6auSAhh5uzt7aldu7apyxBmQE5pidJjy38g/BQ4eMET82QmdGFyGo0Gzd3fwyVLltCiRQscHR3x8vJiyJAhXL16FQClFHPnzqVx48Y4ODjg6enJiBEjiIiIyHXf58+fZ8yYMVSvXh1bW1tcXFxo164dS5YsyXH7K1eu8Omnn9KpUyf8/PzQarW4urrSpk0bvv32W/R6fbbHhIaGotFoqFq1KkopFixYQNOmTXFwcMDFxYWuXbvyzz//FPjns2jRIjQaDVeuXAEgICDA+DPTaDRs374dyNrPJikpiQ8++IA6depgb29P1apVjfs7cOAAb731Fi1atMDb2xsbGxsqVqxI79692bx5c4415NaHp7ife6YLFy4watQoAgIC0Gq1ODo64u/vz+OPP86PP/6Y42POnz/PuHHjCAwMxN7eHmdnZ+rWrcu4ceM4depUtu3PnTvHyJEj8ff3R6vV4u7uTufOnVm+fHmO+//www/RaDR8+OGHXL16ldGjR+Pr64u1tTUjRozIsu1vv/1G9+7d8fLywsbGhipVqjBs2DDOnDlT6J9NiVNlVGxsrAJUbGysqUsRReHCZqWmOBu+gjeaupoyLzk5WZ05c0YlJyebuhSzBihATZo0SVlZWalOnTqpAQMGKD8/PwUoX19fFRMTo5566illa2urunfvrvr27asqVKigANWwYUOl0+my7Xf58uXK1tZWAap27dqqb9++qlOnTsrBwUEBauTIkdke8/HHHytABQQEqM6dO6vBgwer9u3bKxsbGwWofv36Kb1en+UxISEhClD+/v5q+PDhytraWnXq1Ek99dRTqlatWgpQWq1W7du3r0A/n127dqnhw4cb6+7fv78aPny48evs2bNKKaW2bdumANWyZUvVvHlz5eDgoHr06KEGDRqkHnvsMeP+OnfurCwsLFSDBg1Uz5491cCBA1VQUJDxdfjyyy+z1ZC57/bt25foc1dKqZMnTypnZ2cFqMDAQNWvXz81cOBA9cgjjyhHR0fVqFGjbI/55ZdflFarVYDy8/NT/fv3V3379lWNGjVSGo1GTZkyJcv2a9euNf6uBAYGqsGDB6tOnTopS0tLBahRo0ZlO8aUKVMUoIYOHarc3d2Vt7e36t+/v+rXr5964403lFJKpaWlqaeeesr4c3j00UfVwIEDVaNGjRSg7Ozs1IYNG/L8s8jPe0pxfX5L4BHmLyFKqc9qGsLOujdNXU258NA3J71eKV1C6fy670O/MDI/aD08PNSxY8eMy5OSklSbNm0UoBo0aKCqV6+uQkNDjesjIyNVjRo1FKCWLFmSZZ8nTpxQWq1W2draqpUrV2ZZFxoaqho0aKAAtXjx4izrDhw4oE6ePJmtxuvXrxs/pJYvX55lXeaHfuYHf3BwsHFdenq6GjVqlAJU165d8//DuYe/v78CVEhISI7rM0NJZgi8efNmjtutX79e3bhxI9vyvXv3KmdnZ2Vtba2uXbuW475zCzzF+dxHjhypADV16tRs65KSktSOHTuyLDt06JCytrZWGo1GzZkzR2VkZGRZHxoaqg4dOmS8f+vWLeXi4mI8xr2B9uDBg8rNzU0BasGCBVn2kxl4ADVs2DCVkpKSrb53333XGEIvX76cZd2KFSuUpaWlcnNzU7dv387Tz0ICTzGSwFNG6PVK/TrEEHbmtlAqNcnUFZULD31z0iX82+JW2r50CUX2c8r80Jg3b162db///rtx/bp167KtnzlzZo6tNYMGDVKA+vzzz3M85oEDBxSgmjZtmuc6N27cqAA1cODALMvv/dD/888/sz3u5s2bxv/wU1NT83y8++Un8OzcubNAx3jnnXdyfC3yEniK67n37NlTAerIkSN52v7JJ59UgHr55ZfztH1mq15uvwuff/65AlTNmjWzLM8MPO7u7urOnTvZHhcdHa3s7OyUra1ttgCZady4cQpQX331VZ5qNYfAI52WhXk7/CMErwNLG+j/PVjbmboiIbLp2bNntmU1a9YEwMrKiq5du+a6/saNG8Zler2eDRs2ADBo0KAcj9WsWTMcHR05evQoKSkp2NraGtfpdDo2bdrEwYMHiYiIQKfToZQiPj4egODg4Bz3aWVlRffu3bMt9/b2xs3Njdu3bxMdHY23t3eOjy8qFSpUoG3btg/cJjo6mnXr1nHq1Clu375NWloaYOgrA7k/x9wU53Nv0aIF69evZ+zYsXz00Ue0b98+y+t1r4yMDP7++28AXnghb2OLZfaBGj58eI7rR48ezZtvvsmFCxe4ceMGlStXzrL+sccew8XFJdvjtm3bRnJyMp07d6ZKlSo57rtDhw58/fXX7N27l/Hjx+epXlOTwCPMV+R5+Otdw+3HPgTvBiYtR9zD2h7evfHw7cyRddFfnuzn55dtmaOjIwCVKlXCyir7W62TkxMAKSkpxmXR0dHExcUB4Ovr+9DjRkdHGz+Q9u3bx6BBg4wdpXOSue/7VapUCWtr6xzXOTs7c/v27Sx1Fpd7Oyjn5LvvvmPChAkkJibmuk1uzzE3xfncJ06cyO7du9m8eTPdu3fH2tqaRo0a0a5dOwYPHkzz5s2N20ZHRxufV2BgYJ72f/36dcDQGTwnrq6uuLu7ExMTw7Vr17IFntx+3pcvXwZgy5Ytxk75uYmMjMxTreZAAo8wT+mpsHI0pCdDtY7QcqypKxL30mjAxsHUVZgNC4vcL3h90Lr73XslVW7/td9Lq9UCkJSUxJNPPkl4eDgjR45k7Nix1KhRA2dnZywtLTl//jyBgYEopQpdY3Gys8u9Bffw4cOMGTMGS0tLPv30U3r37o2fnx/29vZoNBoWLFjAmDFjcn2OuSnO525vb8/ff//NwYMH+euvv9i7dy979+7l0KFDzJo1i3HjxjFv3rxiO/7D5Pbzzvw9rFGjBq1bt37gPkrTJf8SeIR52jYVbp0AO3d48hswkzdkIYqTp6cndnZ2JCcn8/nnn+Pp6Zmnx+3cuZPw8HCCgoJYuHBhtvWZp3tKsxUrVqCU4uWXX+att97Ktt6cn2Pz5s2NrTnp6emsXr2aZ599lq+//poBAwbQsWNHPDw8sLe3JykpieDgYOrXr//Q/VapUoVz584ZW2TuFxsbS0xMjHHbvMpsXQwMDGTRokV5fpy5k08RYX4u74A9cwy3+3wFzpVMW48QJcTS0pIuXboA5DqGSk4yP9RyOrUG5Dp2T0mxsbEBDB/2BZX5HP39/bOtS0lJYeXKlQXed0mysrJiwIABdOvWDYBjx44BWV/77777Lk/7yhxbaPHixTmuzwy/NWvWzFfg6dy5MzY2Nmzfvv2BY0WVNhJ4hHlJioFVLwIKmo6AOr1MXZEQJWrKlCnY2NgwceJEFi9enOOAgadOneL333833q9TxzDFypYtW7INCLdgwQKWLVtWvEU/hI+PDwCnT58u8D4yn+PixYuNnbDBEHbGjRtHSEhI4YosBl9//XWOnahv3brFoUOHgKwBbvLkyVhZWTF37ly+/vrrbKfnrly5wuHDh433n3/+eZydnTly5AiffPJJlu2PHj3K1KlTAUNfovyoWLEiL7/8MomJifTu3ZuTJ09m20an0/Hnn39y7ty5fO3blAoVeFasWEGHDh1wc3PDwcGBRo0aMWPGDGOv+fxITExk2rRpNGvWDGdnZ6ytrfH29qZXr178+eefhSlTlBZKwZpXIf4GeNSAbp+YuiIhSlxQUJCxRWbEiBH4+/vTrVs3hg0bRs+ePfH19aVBgwZZWoCaNGnCE088QXx8PE2aNKFbt24MGTKEOnXq8OKLL/Luu++a6ukA0L9/fwCGDRtG//79ee6553juuefydUVV5kjCR48eJSAggL59+zJgwAD8/f357bffePXVV4ur/AJbsGABtWvXplq1avTp04dhw4bRrVs3qlWrxrVr1+jUqRN9+vQxbt+8eXN++OEHLC0teemllwgICGDgwIH079+fJk2aEBAQwJo1a4zbV6xYkV9++QVbW1smT55M3bp1GTp0KI899hgtWrQgJiaGkSNH8vzzz+e79unTpzN06FAOHDhA48aNCQoKYsCAAQwePJg2bdrg4eHBE088UbomhC3o9eyvvvqqApSVlZXq2rWr6tevn3J1dVWAatOmjUpKyvt4KVFRUapu3boKUI6Ojqpr167qqaeeyjKC5iuvvJKv+mQcnlLoyM+GcVI+clfqet7GrRDFQ0ZazpvM96ec3DuSb05yGx/m3sdPmDBB1a9fXzk4OChbW1vl7++vOnTooKZPn64uXryYZfvU1FT12WefqQYNGih7e3vl7u6uunbtqjZt2pRrLQ+rUamHj6GTFxkZGWratGmqXr16xlGBAbVt27Y8/SwyRUZGqnHjxqnq1asrrVarKleurIYNG6YuXLigfvzxRwWo4cOHZ3lMXkZazk1hn/vatWvV2LFjVZMmTZSXl5eysbFRPj4+qkOHDmrx4sW5ju9z+vRpNXr0aBUQEKC0Wq1ycXFRdevWVePHj1enT5/Otv2ZM2fU8OHDlY+Pj7K2tlaurq6qY8eOaunSpTnuP3McnvtHbc7J+vXrVb9+/VSVKlWM+65Tp44aPHiw+vXXX1ViYmKefhbmMA5PgQLPqlWrjOHk8OHDxuWRkZHGUUAzh6fOi1deecU4eFJ0dHSWdevWrVNWVlYKUP/880+e9ymBp5SJuqjU1EqGwLNrlqmrKfck8AghipI5BJ4CndL65BPDqYZJkyYRFBRkXO7p6cnXX38NwNy5c4mNjc3T/rZu3QrA22+/jbu7e5Z1PXv2pGPHjgBFMpGbMEMZafD785CWCFXbwqOvmLoiIYQQZUy+A8/169c5ePAgAEOHDs22vk2bNvj6+qLT6Vi/fn2e9pnbyJP3y+slmqKU2fEpXD8Mti7Qdz5YWJq6IiGEEGVMvsfhOXr0KADu7u65ju7YrFkzwsLCOHr0KEOGDHnoPnv06MGhQ4f49NNP6dy5c5ZWnvXr17Nt2za8vb2zdO4SZcSVvbBrpuF279ng4mPaeoQQuTp37hzTp0/P8/aTJk0qVQPTPUh5fu5lRb4DT+alf7mN9wD/DlqU18sE3377bQ4cOMDGjRvx9/endevWuLq6cvHiRQ4fPkzr1q354YcfcpzzI5NOp0On0xnv53d4cWECyXfg9xdA6aHx01Cvr6krEkI8wK1bt3Id8yUnI0aMKDMf+uX5uZcV+Q48meMfODjkPqx85hwyeQ0dDg4OrFmzhnfffZeZM2eyceNG4zoPDw8ee+yxhw6aNG3aND766KM8HU+YifVvQmwYuFWFHp+auhohxEN06NAh31M3lBXl+bmXFWYx8ODNmzdp3bo1X331FVOnTuXy5cskJCRw4MABmjZtykcffUSbNm2yDDZ1v3feeYfY2FjjV1hYWAk+A5FvJ5bDyRWgsYR+34PWydQVCSGEKMPyHXgyZ/h90Gy1CQkJgGGm2bwYPnw4Bw8e5OOPP+bdd98lICAABwcHmjdvztq1a2nQoAHHjx/n888/z3UfWq0WZ2fnLF/CTN0OhXVvGG53mAS+zR+4uRBCCFFY+Q48mdPJP6gFJXNdblPP3+v69ev8/fffADl2cLa2tmbAgAEAbN68OZ/VCrOTkQ6/jwFdHPi2gjavm7oiIYQQ5UC+A0+TJk0AiI6OzrVTcuYcIfeO0ZObq1evGm/n1iqT2Vk5c/I4UYrtngVh+0DrDP0WgGW+u5EJIYQQ+ZbvwOPj42Oc5v7XX3/Ntn737t2EhYWh1Wrp2bPnQ/d3b2fk/fv357jNvn37AHK9DF6UEmEHYfvdyzofnwlu2Wc9FkIIIYpDgTotZ05EN336dI4cOWJcHh0dzbhx4wAYP358lsvIV61aRe3atencuXOWffn5+RkD1KuvvpptIrIlS5YYZ/rNaaBDUUok34HfnwOVAQ0GQsOnTF2REEKIcqRA5xOefPJJXnnlFebMmUOrVq3o3LkzDg4ObNmyhTt37tC6dWs+/vjjLI+JjY0lODiYlJSUbPtbuHAhHTt25OzZs9SpU4dWrVrh6enJ2bNnOX36NGCYZffpp58uSLnC1JSC1eMMnZVd/aBn7p3PhRBCiOJQ4A4Us2fPpnXr1sybN4+9e/eSlpZG9erVmTRpEhMmTMDGxibP+6pfvz6nTp3iiy++YMOGDRw8eBCdToebmxvdunVj1KhRPPWUtAiUWntmQ/A6sLSBgYvBztXUFQkhhChnNKqMjqQUFxeHi4sLsbGxcom6KYXuhsW9DaMp9/oCmo0ydUUiD1JSUggJCSEgICDPc90JIURu8vOeUlyf32Yx8KAoo+JvwYqRhrDTcDA0HWnqioQQQpRTEnhE8chIM4SdxAioUM/QuqPRmLoqIYQQ5ZQEHlE8tnwEV/eCjRM89RPY2Ju6IiGKRdWqVdFoNNmuMC1vNQhh7iTwiKJ3dg3s/cpw+8mvwbOGaesRQghR7kngEUUr+pLhEnSAR8ZD3T6mrUcIIYRAAo8oSqlJsPxZwzxZfo/AYx+auiIhis2iRYvQaDRcuXIFMIwEr9FojF/bt283bnvjxg1ef/116tSpg729PU5OTjRv3py5c+eSnp6ebd86nY7PPvuMpk2b4uTkhI2NDd7e3jRv3py33nrLOM1OfmrIj82bN9O7d28qVqyItbU1bm5u1KxZk2HDhrFz584cH7N161YGDhyIj48PWq0WLy8vmjdvzpQpU4iOjs62/caNG+nVqxcVKlTAxsaGypUrM2jQIOPURPfr0KGD8Tnt2rWL3r174+XlhYWFBYsWLTJul5yczMyZM2nVqhWurq7Y2toSGBjIW2+9lWMdovyQiYxE0VAK1r8J4afAwQsG/AiW1qauSohiU6NGDYYPH85vv/1GYmIi/fv3x9HR0bje29sbgJ07d/Lkk09y+/ZtqlatSpcuXdDpdBw4cICXX36ZNWvWsHbtWqytDX8ver2exx9/nC1btuDs7Ezbtm1xdXUlMjKSCxcu8NlnnzF06FDc3d3zXEN+LF68mJEjDVdUtmjRgo4dO5KcnMy1a9dYunQpnp6etGvXLstjXnnlFb76ynAau3HjxrRt29Y42Ox//vMfOnbsSIcOHYzbv//++0ydOhWNRsOjjz6Kn58fZ8+eZfny5axcuZIFCxYwalTOQ1isWLGC+fPnU7t2bR577DFiYmLQarWAIVh2796dkydP4u7uTvPmzXFycuLIkSN89tlnrFixgu3bt+PvL9PalEuqjIqNjVWAio2NNXUp5cOhRUpNcVbqQ1elLu8wdTWikJKTk9WZM2dUcnJyjuv1er1KTE0slV96vb5If1b+/v4KUCEhIdnW3bx5U3l4eCiNRqO+/vprlZGRYVwXFRWlOnXqpAD10UcfGZfv2LFDAapJkyYqLi4u2z4PHjyooqKi8lxDfgUEBChA7dq1K9u68PBwdeTIkSzL5syZowDl4eGhtm7dmu0x+/fvV1evXjXe37BhgwKUra2t2rRpU5Ztv//+ewUoa2trderUqSzr2rdvrwAFqHnz5mU7jl6vV61bt1aAGj16dJafXVpamnrjjTcUoDp27Ji3H4QoUg97T7lXcX1+SwuPKLwbx2D9RMPtTu9BQLsHbi5Kv+T0ZFr+2tLUZRTI/qH7sbcumasGv/zyS6Kjoxk/fjxjx47Nss7Dw4OffvqJgIAA5s6dy/vvv49GoyE8PByAtm3b4uTklG2fzZo1K9aaw8PDcXFxoU2bNtnWVahQgQoVKhjvp6enG6cRWrBgAR07dsz2mBYtWmS5//nnhqllxo0bR5cuXbKsGz16NKtXr2bt2rXMnj2bBQsWZNtfp06djHM23mvjxo3s2bOHxo0bM3/+fKys/v14s7KyYsaMGWzcuJFt27Zx6tQp6tev/6AfgyiDpA+PKJzk24Z+Oxk6qNUdWk8wdUVCmI1169YBMGjQoBzXV6lShZo1axpPVwEEBQVhaWnJwoULmTdvHjdv3iyxesEQUGJjY3n22Wc5fPgwer0+120PHz5MZGQknp6e9O3b96H7Tk9PZ8+ePQCMGDEix21Gjx4NwLZt23JcP2DAgByXZ/6s+/fvnyXsZLKwsDCeitu7d+9DaxVlj7TwiILT62HVWLhzBVz9oe98sJAMXR7YWdmxf+h+U5dRIHZWdiV2rMuXLwOG1pqHiYyMpFatWlSvXp0vvviCiRMnMn78eMaPH4+/vz+PPPIIvXr1YuDAgfmaqzC/vv76a3r16sXPP//Mzz//bOxg3alTJ5555hn8/PyM22Z2lg4MDESTh4FFo6OjjRNIBwQE5LhN9erVAbh+/XqO66tWrZrj8syf9fvvv8/777//wDoiIyMfWqsoeyTwiILb8yWc3wCWWsPggnZupq5IlBCNRlNip4VKs8zWkQEDBuDg4PDAbT08PIy3X375ZZ566in+/PNPdu/eze7du1m6dClLly5lypQp7Nq1i0qVKhVLzXXq1CE4OJhNmzaxdetW9u7dy65du9i6dSv/+c9/+OGHHxg2bFixHDsv7OxyDqyZP+s2bdoYQ1Nu6tWrV+R1CfMngUcUTMhO2Go4d0/PGVC5sUnLEcIc+fr6cuHCBd5+++18972pWLEizz//PM8//zwA586dY9SoUfzzzz9MmjSJxYsXF0fJgKHPS8+ePenZsydgmMxx1qxZfPTRR4wZM4a+ffvi4OBgbO05f/48SqmHtvJ4eHig1WrR6XRcvnyZhg0bZtsms6WmSpUq+arZ19cXgCeeeII333wzX48V5YOcfxD5F3cDfhtlmBS00VAIGm7qioQwmczTSzmNp9OjRw8Ali9fXujj1K5dm7fffhuAY8eO5bmGouDs7MyHH36Iq6srSUlJnD9/HjB0oPb09CQyMpLVq1c/dD9WVlbGztD3jp1zr4ULFwLk2AH6QTJ/1itWrEApla/HivJBAo/IH+OkoJFQsT48PlMmBRXlmo+PDwCnT5/Otm7ixIm4uroya9YsZs6cSWpqarZtQkJCWLJkifH+1q1bWb9+PWlpaVm2U0qxdu1agGzjyDyohvxISkpi1qxZOfZx2bVrF3fu3MHS0tJ4PCsrKyZPngzACy+8kOOghAcPHuTatWvG+2+88QYA33zzDVu2bMmy7aJFi/jzzz+xtrbm1VdfzVftTzzxBM2bN+fAgQOMHDkyx+dw+/Zt5s+fX2zBUJi5Ir3I3YzIODzF5K93DePtfOKjVNRFU1cjikl+xswo7+bOnasA5ejoqPr166dGjx6tRo8erc6dO6eUMoyr4+npqQBVoUIF1alTJ/X000+rXr16qerVqytAtWzZ0ri/L774QgHK2dlZdejQQQ0dOlT17dvXONaOi4uLOnr0aL5qyKvbt28rQFlYWKhGjRqpAQMGqCFDhqhHHnlEaTQaBagPPvggy2P0er168cUXjWPkNGnSRA0ePFj17NlTVatWTQFq27ZtWR7z3nvvKUBpNBrVpk0bNXToUBUUFKQAZWlpqX744YdstWWOw3P/vu51/fp11bhxYwUoBwcH9eijj6rBgwerfv36qcaNGytLS0sFyO+1CZjDODwSeETenV5tCDtTnJU686epqxHFSAJP3mVkZKhp06apevXqKVtbW+MH/70fzOHh4er9999XQUFBysnJSdnY2CgfHx/16KOPqilTpqgTJ04Yt7148aL68MMPVefOnZWfn5+ytbVVbm5uqmHDhmrSpEkqLCysQDXkRVpampo/f74aMmSIql27tnJxcVF2dnaqevXqqn///mrLli25PnbDhg3qiSeeUBUrVlTW1tbKy8tLtWjRQn300UcqOjo6x+179uypPDw8lJWVlfL29lYDBw5U+/fvz3H/eQk8SimVkpKi5s+frzp27Gjcd4UKFVTjxo3VSy+9pDZu3Jivn4koGuYQeDRKlc2TnXFxcbi4uBAbG4uzs7Opyyn9oi7Cgg6QGg+Pvgxdp5q6IlGMUlJSCAkJISAgAFtbW1OXI4Qo5fLznlJcn9/Sh0c8XOakoKnx4PcodP7Q1BUJIYQQ+SKBRzyYUrDudYg4DQ4VYOCPYCmjGQghhChd5JNLPNjhRXD8f6CxgAELwSn/sy8LIUxj9erVebpcPFNul4oLURZI4BG5u3EUNrxluN35Awh4+PD4QgjzcezYsXwNUCiBR5RlckpL5CwtBX4fAxmpENgTWr9m6oqEEPn04YcfogxX4+bpS4iyTAKPyNmO6RAVbOi388Q8GVxQCCFEqSaBR2R3/TDsmW243esLsHc3bT1CCCFEIUngEVml62D1OMM8WfUHQJ1epq5ICCGEKDQJPCKrHZ9C5Dlw8IKen5m6GmFi0q9DCFEUzOG9RAKP+Nf1I7D7S8NtOZVVrllZGS7g1Ol0Jq5ECFEWZE6Ga2lpabIaJPAIg3Qd/PESqAyo3x/q9DZ1RcKErKyscHBwICYmhoyMDFOXI4QoxZRSxMbGotVqsba2NlkdMg6PMNgxAyLOgL0n9JBTWQI8PT0JCwsjJCQEFxcX7OzssLS0RCNX7Akh8kApRVpaGrGxsSQkJFClShWT1iOBRxgGGNz9heF2r1ng4GHaeoRZsLe3JyAggIiICG7fvk1UVJSpSxJClEJarZYqVaqYfCJvCTzlXXrq3auyMqBeX6j7hKkrEmbExsYGHx8f439qer3e1CUJIUoRS0tLk57GupcEnvJu52d3T2V5QM/PTV2NMFMajQYbGxtTlyGEEAUmnZbLsxvHYNdMw+3HZ4KDp0nLEUIIIYqLBJ7yKj3136uy6j5pOJ0lhBBClFESeMqrXTMh/JScyhJCCFEuSOApj26egF13Q07Pz8HRy7T1CCGEEMVMAk95k5FmuCpLnw51+sipLCGEEOWCBJ7yZtcsCD8Jdu6GjsoyiJwQQohyQAJPeXLrJOycYbjd8zNwrGDaeoQQQogSIoGnvLj3VFbtXob5soQQQohyQgJPebH7C7h1Auzc4PFZcipLCCFEuSKBpzy4dcowOSgYrspyqmjaeoQQQogSJoGnrMtIgz/GgT5NTmUJIYQotyTwlHV7voSbx8HWVU5lCSGEKLck8JRl4Wdg+6eG2z0/k1NZQgghyi0JPGVVRjqsHms4lRXYExoMNHVFQgghhMlI4Cmr9s6Gm8fA1gV6fSGnsoQQQpRrEnjKooizsH264XaPGeDkbdp6hBBCCBOTwFPWZKQbBhjMSIVa3aHhoALv6vCVGF5fdoxzt+KKsEAhhBCi5FmZugBRxPbOgRtH7p7K+rLAp7JOXLvDsz8cIDE1g50Xovh97KP4edgXba1CCCFECZEWnrIiPRV2fgbbPjHc7/4pOFcq0K4uRiQw4seDJKZmYGWhISpBx7ML9xOVoCvCgoUQQoiSI4GnLLjyD3zbFrZONVyV1WAgNBpcoF1dv5PMMz/sJyYxlUY+Lvz9ent83OwIjU5i5I8HSdClF3HxQgghRPGTwFOaJd+GNa/Cj90h8hzYe0K/76HfdwU6lRWdoOOZH/ZzMzaFGhUc+XFkCwI8HfhpVAvcHWw4eT2WsUsOk5quL4YnI4QQQhQfCTylkVJw8jeY2xwOLzIsC3oWxh+EhgMLFHbiU9IY8eNBLkcmUsXVjp9HG0IOQDUvRxaOaI6dtSW7LkTx1m/H0etVET4hIYQQonhJ4CltbofCkv6wcjQkRoJnLRixHvp8BfbuBdplSloGL/x0mJPXY/FwsOHn0S2o5GKXZZvGvq58MywIKwsNq4/dYNqGs0XwZIQQQoiSIYGntMhIg91fwLxWcGkLWGqh42R4cTdUbV3g3aZn6Hn5f0f553I0jlorFo9qQTUvxxy37RBYgRkDGgLw3a4Qvtt5ucDHFUIIIUqSXJZeGoQdNPTViThtuF+1reGSc88ahdqtUopJv5/k7zPh2FhZ8P3wZtSv4vLAx/QL8iEiXsf0Def47/qzeDlpebJJlULVIYQQQhQ3CTzmLCUWtvwHDv4AKLBzh27/hUZDCj1VhFKKT9af5bfD17C00DBvaBCtqnnk6bFj2lUjIk7Hwj0hvLniOO4ONrSr5VWoeoQQQojiJKe0zJFScHo1zG0BB78HFDQaCuMPQeOhRTIv1tfbL/HdrhAAPu3fkC518z6Tukaj4b3H69CnUWXS9YoXlxzmxLU7ha5JCCGEKC4SeMzNnavw6yBYMRwSboF7dRi+Bvp+Aw55a4F5mF/2X+GzjcEAvPd4HQY09cn3PiwsNHw+sBFtaniSlJrByB8PEhKVWCT1CSGEEEVNAo+5yEiHvXNhXku4sBEsrKHdWzB2LwS0K7LDrDtxk/dWnwJgfMcaPNe2WoH3ZWNlwfxnmlK/ijPRiak8u3A/EfEpRVWqEEIIUWQk8JiD60fgu46waTKkJYHfozB2D3SaDNa2RXaYnecjeW3ZUZSCoS39eKNrrULv01FrxY8jWuDnbk9YTDIjfzxIfEpaEVQrhBBCFB0JPKZ24Dv4vjPcOmGY8LP3HBixDrwCi/QwR67eZszPh0nLUPRqWImPn6iPpgj6AgF4OWn5aVQLPB1tOH0jjheXHEaXnlEk+xZCCCGKggQeU9JnGCb7VHqo39/QKbnpcLAo2pflfHg8I388SHJaBu1qeTHrqcZYWhRN2MlU1dOBH0e0wMHGkj0Xo3lzxYliH435dmIq6RkyzYUQQoiHk8vSTSnsACTHgK0r9F0AlkX/coTFJPHMD/uJTU6jiZ8r84cFYWNVPDm3gY8L859pyqhFB1lz/AZejlre71WnyFqSlFKcvhHHptO32HQmnHO34nHUWtEywJ1HqnvwaHVPans7YVHEYU4IIUTpJ4HHlM5vMHyv2aVYwk5kvGEy0PA4HYEVnfhxRHPsbYr3JW9b04vPBzbi1aXHWLgnhArOWl5sX73A+0vP0HMgNIZNp8P5+0w41+8kZ1mfoEtny7kItpyLAMDN3ppW1Tx4tLoHj1T3pLqXQ5EFLiGEEKWXBB5TCv7L8L1W9yLfdWxyGs8uPEBodBK+7nb8NLoFrvY2RX6cnDzRuAqR8TqmrjvL9A3n8HLU0j8fl74npaaz83wUm87cYuu5CO4k/dsJ2tbagva1vOhWz5v2tby4cSeFfy5HsfdSNAdCYridlMaGU7fYcOoWYOhf9Gh1j7tfnvi62xfpc03L0HPtdjKh0YmERiVyJTqJkKhEwmKSqOxqR98mVehe3xsHrfypCSGEKWmUUmVy2uu4uDhcXFyIjY3F2dnZ1OVkF3MZ5jQBjSW8dRnsXIts18mpGTy7cD8HQ2/j6ajltxcfoaqnQ5HtP68+WX+WBTsvY2mh4fvhzegYWCHXbWMSU9lyNpxNZ8LZdSGSlLR/++a42VvzWJ2KdK3nTZsantjZWOa4j7QMPSeu3eGfS9HsvRTNoSu3SU3P2seniqudIfzU8OCRap54uzz8Krj7Q01oVCKh0UmERidy7XYyGQ/pq2RvY0n3+t4MCPKhVTUPOeUmhBAPUFyf3xJ4TGXfN/DXJFTVNsQM+B0rCwtsrAxfhelQnJahZ8zPh9l6LgInWyuWvfAIdSub5vnr9Yo3Vhxn1dHr2Flb8r8XWtHY19W4PiwmiU1nwtl0+hYHQ2O4Nzf4uNnRrZ43XetWpKm/G1aW+e93lJKWwZGrt9l3NwAdC7tD+n3hpJqng7H/T82Kjly/N9jkMdTYWltQ1cOBqh4O+HvaE+DhgK+7PUeu3GblkWuERicZt61yt9WnX1CVXCdpFUKI8kwCTz6ZfeBZ3AdCdrDG+yVeDs0627mVhcYYfrR3v9tYWmBjZWm8r727TGuduc4CrZUlIVGJ7L4Yha21BT+Pbknzqu4meoIGaRl6Ri8+xM7zkbg72DBzYCOOX7vDptPhnLkZl2XbupWc6VqvIl3relOnklOR971J1KVzMDSGfy5H88+laE5ejyWvv/05hRp/DwcCPB2o6KzNtValFEeu3ua3w9dZe+IG8SnpxnVN/FzpH+RD74aVcbG3Loqn+EDxKWmcuh7H6RuxaK0teaJxZZxti/+4QgiRHxJ48smsA09KLMyoBvp0uqR9wYWMvM9jlRdWFhq+e7YZHWvnfgqpJCXq0hny3T5OXIvNstxCA82rutOtnjdd6lYs8v41DxOblMb+kGhjAAqLScLX3R5/D3uqejpkCTUVnLSFPhWVkpbB5rPhrDx8jZ0XooytRjZWFnSpU5H+TavQrqZXgVqz7heXksap67Gcuh7LyetxnLoem23qD0etFUNb+jGydVUqudgV+phCCFEUJPDkk1kHnlO/w28jSXAMoH7Uf6nqYc+mCe1JzdCTmm740qVn3P2uJzVDjy5Nb1yfuS71vnW6dD1pGXo6165AMxO37NwvKkHHkAX7uBqTRLtaXnStW5HOdSri7lAyHanNTUR8Cn8cvcHKI9c4dyveuNzT0YYnGlehf5BPnk9Fxiancfp6LCfvfp26HpvlNNq9qrjaUa+yMyFRiVyISAAMAblPo8o8364adSqZ2d+KEKLcMcvAs2LFCubNm8fx48dJTU2lRo0aPP3000yYMAFr67w3lVetWpUrV648dLuPPvqIDz74IE/7NOvA8/sLcGIZW9wHMfrGE4xpV413etYxdVXFLj1Dj15RbOMAlVanb8Sy8vB1/jh2nejEVOPyOpWc6R9UhScaV8HLSQsYWqVO3cgabq48INw0qOJCAx8X6ldxoX5lZzwcDfvR6xXbz0ewYOdl9l2OMT6mbU1PxrSrTusaHia5nD8+JY3Y5DR83Eq2tU8IYT7MLvC89tprzJ49GysrKzp16oSjoyNbt27lzp07tGnThk2bNmFnl7dm8jfffJOoqKgc18XExLBmzRoAdu7cSdu2bfO0T7MNPPoM+Kw6JN9mJB+yLaUWK8c+QlN/82qRKWp6peevkL+IT42nV/VeOFiX/FVj5i4tQ8+O4Eh+P3qNzWciSL07irSlhYamfm7cjEsmLCY5x8f6uBnCTf0qLsbveW09O3HtDgt2Xmb9yZvGjuN1KznzQrtqPN6wEtZFcIotN0opgsPj2R4cybZzERy+cpt0vaJVNXde7lSTR6ubJngJIUzHrALP6tWr6du3L46OjuzYsYOgoCAAoqKi6NSpEydPnuSNN97g888/L3SBM2bM4O2336ZWrVoEBwfn+XFmG3iu/AM/difNxoXacXNxc7TnwLudy/SlyofDD/PpgU85G3MWACdrJwYGDuTpOk9Twd48+hmZmztJqaw5cZOVh69xLOxOlnV+7vY0qOJCvSrOhnBT2QW3Ijg1GBaTxA+7Q1h2MIzkNMNcaFVc7RjZuiqDW/jhWERjCcWnpLHnYjQ7zkewPTiSm7EpWdZrNBg7kwf5ufJyp5p0CPSS4CNEOWFWgadFixYcPHiQqVOnMnny5Czrdu/eTdu2bdFqtYSHh+Pi4lKoAmvXrk1wcDDTp0/n7bffzvPjzDbw/P0B7JnNcbcuPHFzJENa+DGtXwNTV1UsrsVfY9bhWfx95W8AHK0d8bDz4Eqc4fSllYUVvar1Ynjd4dRwq2HKUs3apcgEDoTE4OduT/3KLsV+RdftxFR+2X+FRXtDiUownGJzsrXi6Zb+jGxdlYrODx+76F5KKc6HJ7AtOILtwREcCr2dZXgArZUFj1b3oENgBToEemFtacGCnZf534Gr6O6Oo1SvsjMvd6pB17reZfqfAyGEGQWe69ev4+NjGDX38uXLBAQEZNvGz8+PsLAwfv31V4YMGVLg4vbs2UObNm2wsrIiLCwMb2/vPD/WbAPP3BYQFcx7lhNYkticH0c2f+CAfKVRQmoC3538jp/P/EyaPg0LjQX9a/bnpcYv4Wbrxvaw7Sw+vZgjEUeMj2lbpS0j6o2guXdz+U/eTKSkZbD66HUW7LrM5UjDFV7WlhqeaFyFF9pVo1ZFp1wfm6BLZ8/FKLYH59yKE+DpQPtaXnQI9KJVNQ9srbMPJhkRn8IPu0L4ed8VklINLU61KjryUsca9GpYucgnwBVCmAezCTxr166ld+/euLu7Ex0dneM2/fr1Y9WqVUycOJEZM2YUuLjRo0ezcOFC+vTpwx9//JGvx5pl4Lk7urLSWNEo+RsybJw58kEXtFY5jxxc2mToM1h9cTVzjs4hJsXQEbZVpVZMbD6RWm61sm1/PPI4i08vZvOVzSgMv4Z1Peoyot4Iuvh3wcpCpmMwB3q9Ysu5CL7beZkDof92cO4Q6MUL7arxSDUPAM6HJxgDzqErMaRlZG3FeaS6Bx1qedEhsEK+Rv6+nZjKwj0hLNoTSrzOMI5RgKcDYztUp2+TKsXax0gIUfKK6/M7358oISEhgKEVJze+vr5Zti2IxMREli9fDhiCz8PodDp0Op3xflxc3AO2NpHzGwG46tSIuGQHHq9docyEnQM3DzDj4AyCbxv6WVV1rsqbzd6knU+7XFtsGnk1YlaHWVyNu8pPZ37ij4t/cCb6DG/tfIvKDpV5pu4z9KvZD3truWLHlCwsNHSpW5EudSty9OptFuy8zF+nb7E9OJLtwZHU9nYiLjmNGwVoxckLNwcb3ugayHNtq/HzP6H8sDuEkKhE3vrtBLM3X2Bsh+oMbOZTZv6WhBDFI9+BJz7eMGaIg0Pu/6E5OhqGzC9M6Fi+fDkJCQl4e3vTs2fPh24/bdo0PvroowIfr0QEG2ZHX69rBEDXukU74KApXI27ysxDM9kathUAJxsnxjYay+DAwVhb5q2viZ+zH++1eo+XGr/E0uCl/O/s/7iReINPD37KN8e/YVDgIIbUHoKXvVdxPhWRB0383PhmWFOuRCfy/a4QVhwOM44jVJhWnLxwsbNmfKeajGwdwC/7r7BgZwjX7yTz3upTfLX1AmPaVWdIC79c51oTQpRvZnvO4IcffgDg2Wefxcrq4WW+8847vP7668b7cXFxxpYms5ASC1f2ALAsrh7WlhqzGQm5IOJT41lwYgFLzi4hXZ+OpcaSgbUGMq7xONxs3Qq0TzdbN8Y2GsvIeiP589KfLD69mKvxV/nu5HcsOr2IXtV6MaLeCKq5ViviZyPyy9/DgY+frM+ELrXYdPoWFV1seaQQrTj54aC14oV21Xn2kaosOxjG/B2XuBmbwn/WnmHetos817YazzziX2RXlQkhyoZ8vyM4ORk6KiYmJua6TUKCYQTXgp57O3/+PHv2GMLBqFGj8vQYrVaLVqst0PFKxMUtoE/ntl1VQlMq0a66Z6mcxyhdn87vF35n7tG53NbdBqB1ldZMbDaR6q7Vi+QYtla2PBX4FP1r9md72HYWnV7EschjrLq4ilUXV9Hepz3D6w2nWcVm0sHZxNwdbBjcIvfT28XJ1tqS4Y9WZXALX34/cp2vt18kLCaZT/86x/wdlxjVOoARj1bN8aq2tAw9CSnpJOjSiUtJIyElnfi79+NT0ojXpWdflpJOWoaeVtU86NWwcrHM9yaEKD75DjxVq1YFICwsLNdtMtdlbptfCxcuBKBNmzYEBgYWaB9m5/xfAOzQNAVK5+msvTf28tnBz7h45yIAAS4BTGw2kbY+eRsMMr8sLSzp7N+Zzv6dORZxjEWnF7H16lZ2XNvBjms7qO9Rn1ebvkqrSq2K5fiidNBaWTKkhR8Dm/rw5/EbzN12kcuRiXyx+Tzf7bpMQx8XEu4GmLiUdBJ0aaSk6Qt8vCNX7/D19ktU93KgV8PK9G5UiRoVcr9iTQhhHvJ9lda1a9eMp4qK47L0jIwMfH19uXnzJj/++CMjRozI1+MzmdVVWhnp8HkNSL7NU7r3OaDqsP/dzvkez8RUQmJDmHloJjuu7QDARevCuEbjGBg4EGuLkm2lCo0N5eczP/PHpT/QZRg6qQ8OHMyEphOkc7MAIEOv2HDqJnO3XswyT1lO7KwtcbS1wsnWCietleG21hpHWysctVY4295dZmuNo9aK1HQ9G0/fYvv5SFLT/w1Ntb2d6N2oMr0aVsLfQ0YRF6IwzOaydCjegQfXrFlDnz59cHJy4ubNmw/sHP0gZhV47o6urLN2pm78PBr4erD6pdamrSkPEtMSmXt0LkvPLSVdpWOlsWJw7cG82OhFXLSFG1CysKKTo/nm+DcsC14GgJ+TH/9t818aV2hs0rrAMNDekYgjVLCvgK+TGfUjK2f0esXeS9FEJ+pwsrXCUWsILU53A46D1qrAl7THp6Tx95lw1hy/wa4LUVkGUmzo40LvhpV5vGElKrvKLPRC5JdZBZ7cppaIjo6mY8eOOU4tsWrVKt555x2qVKnCli1bct133759Wb16Nc8//zwLFiwowFMyMKvAc3d05b32nRga8xxvdQ9kXAfzHllYl6HjhU0vGAcHbO/TnjeavUGAS/YWPVPae30v7+99n4ikCCw0FoysN5JxjcdhY2maWdjPRp/l04Ofcjj8ME7WTvyv1//wd/Y3SS2iZNxJSmXj6VusPXGTPRejuCf70NTfjd4NK9GzQSUqlJIWXSFMzawCD8Crr77KnDlzsLa2pnPnzjg4OLBlyxbu3LlD69at+fvvv7NMHrpo0SJGjhyJv78/oaGhOe4zIiICHx8f0tLS2LdvHy1btizQkwIzCzx3R1d+Lf1lVqc/wubX21OjgqNpa3oAvdLz1s632Bi6EUdrRz5v/zmtq5hvi1RcahzT909nzWXDJLO13GrxSZtPCHQvuf5fkUmRfHX0K1ZfXG0cRBGgukt1fnn8F5kstZyIStCx4dQt1h6/wYHQGOOcYBoNtAxwp3ejyvSoXynPE7uKnCWlJckp7DKsuD6/CzxE6ezZs1m2bBmPPPIIe/fuZf369fj4+DB9+nS2bt2a55nS7/Xzzz+TlpZGvXr1ChV2zErMZYgKRq+xYmt6Q6p7OZh12AH44vAXbAzdiJWFFV92/NKsww6As40zn7T9hC87fIm7rTvnb59n8LrBfHfiO9L16cV67JT0FL478R29VvVi1cVVKBQ9A3rya89f8bLz4lLsJd7f8z4F/L9ClDKejlqeaeXPsjGPsO+dznzQqy5Bfq4oBfsuxzB51Sma/3czz/ywn+WHwohNTjN1yaXOqgurePR/j/LBng9I08vPT+RdgVt4zJ3ZtPD88zVsfIdguyZ0uz2RsR2q83b32qar5yF+Pfsr0w5MA+CTNp/Qu3pvE1eUP9HJ0Xy872O2XDWcNm3o2ZCpbaYW+ak4pRQbQzfyxeEvuJF4w3isic0nGvsRHYs4xsiNI0nXp/Nq0Ks81+C5Iq1BlB7Xbiex7sRN1p64ycnrscbljlorJvWozdAWfjIpah4kpSXR4/cexqlr2vm04/P2n2NnJX2lyhKzO6Vl7swm8CzuAyE7+FQ9yze67qwa9yhN/Ao2MF9x23J1CxO2TUCheKXJKzzf8HlTl1QgSinWXl7LtP3TiE+Lx9bSlteavsaQ2kOw0BR+3qVTUaeYcXAGRyOOAlDRviITmk6gR0CPbPtfcX4F//nnP2jQMK/zvGK7hF+UHqFRiaw9cYM/jt3gQoRhzLJHqnkwvX+DMnmFV2S8jr2XorDQaGjq71aojtzfnfiOOUfn4GXnRVxqHLoMHY28GjGv8zyTX0hRniilCA6PZ3twJEF+brQIcC/S/UvgySezCDwpsTCjGujT6aCbSZJjVfa909ks/5M7Hnmc0RtHo8vQMaDWAD5o9UGpH1TtVuItPtjzAf/c/AeAFt4t+Lj1x1R2rFyg/YUnhjPn6Bz+vPQnAHZWdoysP5IR9UY88D/Mj/75iN/O/4aTjRNLH1+Kn7NpBuoT5iVDr/jpn1Bm/BVMcloGttYWTOxWmxGPVi3VM8GnZ+g5GnaH7cER7DgfyanrWacYquRiS1N/N+NXnUrOebpaLi41ju4ruxOfGs+0ttOo4liFl7a8RHxqPNVdqjO/y3y8HbyL62mVe/Epaey5GMX24Eh2nI/k5t258wY392V6/4ZFeiwJPPlkFoHn1O/w20gitH60iJ3O0y39+G/fBqap5QGuxl1l2Pph3Nbdpp1PO2Z3nF1mZipXSrEseBmzDs8iOT0ZB2sH3m7+Nk/WeDLPgS45PZlFpxfx46kfSU5PBqBP9T680uQVKjo8fADJ1IxURm4cyYnIE9RwrcEvPX+RDpfC6Gp0EpN+P8HeS9EABPm5MmNAI7Pv63eviLgUtp+PZEdwJLsuRBKXkrXvXP0qzmjQcOZmHBn6rB85dtaWNPJ1oam/G8383Wni54qrffZO3V8d/YoFJxZQ3aU6K/usxNLCkgu3L/Di3y8SkRyBt4M333b5lmouMvVMUVBKce5W/N1JgiM4fOV2luEXMufO69OoMv2CfIr02BJ48sksAs/vL8CJZfyk6cMHyYP5aVQL2tUyrwkwY1JiGLZ+GGHxYdT1qMuP3X4skx/GV+OuMnn3ZI5FHgOgg08Hpjw6BU87z1wfo1d61oes58vDXxKeFA5AY6/GvN3ibep71s/X8SOSIhi0dhBRyVF08e/CzPYzS30Lmig6SimWHgzjv+vOkqBLx8bKglc712RMu2pYFXCsoOKUnqHnyFVDK8724EjO3MzaiuNiZ027Wl50qOVF21qeVHAyXJKflJrO8bBYDl+J4fCV2xy+cjtbOAKoUcGRZv5uBN1tBXJ11NHz954kpScxq8Msuvh3MW57I+EGY/4eQ2hcKK5aV+Z1nkdDr6JtcSgv4lLS2HPh31acW3EpWdYHeDrQvpYXHQK9aFWMc+dJ4Mknkwee+0ZXPmvTgMPvd8HGynzevJLTk3lu43OciDpBFccqLOm55IEBoLTL0Gew+Mxi5h6dS5o+DVetK++1eo9uVbtl2/Z45HFmHJjBiagTAFR2qMyEZhPo5t+twEHlaMRRRm0cRbo+ndeCXmN0g9GFej6i7LlxJ5l3V51ke3AkYGgZmdG/EXUrm3hoDeBWbAo7zhsCzu6LUcTfF1Qa+rjQoZYX7QMr0NjXNU+n5fR6xaXIBGP4OXzlNpejss/T6Fz5L5TLdjxtqjG95UIa+bpm+bCNSYnhpc0vcSr6FHZWdnzR4Quzv7rUHCilOHsznu13X9cj97Xi2Fpb8Gh1TzoEetG+lleWPmbxqfFMPzCdV4NepYJ90U6ELYEnn0weeK7shR97kGzpTP3EeTzeyJc5Q5qUfB25yNBnMGH7BLaFbcPZxpmfe/5cbpqCz98+z+TdkzkXcw6AHgE9mNxyMi5aF24m3OSLI1+wIWQDYOin83yD53mm7jPYWhV+4Ljlwcv5eN/HaNDwzWPfyJuyyEYpxaqj1/lozRlik9OwstAwrmMNxnesUaL/MKVl6Dl85bbxlMb903S42lvTrqbhv/12tbzwdCyayZtjElM5cuU2h67c5siV2xy/eRXrqtPRWKSTdHUEGYm1sbLQUM3LgVoVnajt7UStik74eVoy8/hk9t38ByuNFVPbTOXxao8XSU0Po5QiKiGV0OhEwmKSsLexpJKLHZVcbfF00JpVv83Y5My+OIY+VuFxuizrq3k60D7Qi46BFWgR4J5jK05UchRjN4/lXMw5gioEsaj7oiJtsZbAk08mDzx3R1febNWO5xJeZO7QJvRqWLDOskVNKcW0A9P437n/YWNhw3ddvyOoYpCpyypRaRlpzD8xnx9O/kCGysDLzovH/B/j9wu/o8vQoUHDkzWe5OUmL+NlX3SnIZVSfPTPR6y8sBInGyeWPb4MX2eZfkJkFxGfwvurT7HxtOF0amBFJ2YMaEgjX9diO+at2BTjaao9F6OI1/3biqPRQEMfVzrcPaXR0CdvrTiF9fE/U1l+fhmVtIFUT5/E4St3iIjX5bitnbXCxX8lidaHAOhf9SVebDyCis7aQn8gK6WITNBxJTqJkKhErkQnEhqVRGh0Ileik0jQ5Tzml42lBRVdtFRysaOyiy2VXO9+vxuIKrvY4WpvXej6klLTiU5IJSpBR3RCKjGJqUQlGm5HJ+iITkwlMl7HhYiELP2o7m3F6VCrAn4eD+7SEBYXxgt/v8C1hGu427oz/7H51PGoU6ja7yeBJ59MHnjujq78cup4NmracPj9x3CyLdmJNnOz6NQiZh6eCcDn7T/P8ZROeXEy8iTv7n6X0LhQ47KmFZvyVvO3qOtRt1iOmZqRysi/RnIi6gQ13WqypMeSMtlvShSeUor1J2/xwR+niE5MxUIDz7etxoQutYqk/8TDWnHcHWxoV9OTDoEVaFvTE48iasXJqxsJN3h81eOk69P5oesPtKjUAqUUN2NTCA6P5/yteIJvxRMcHs+FiIS7E7rq0VZci437XgB0UR3Qxj9ObW9nAr2dCKxoaBGqVdEJt/tGvM4MNZlBJjQqMUvASUzNyLVWjQaquNrh62ZPcloGN2OTiYjXkZdPWDtrSyq52FLJ1TZLMKrkYoubvQ23kwwBJjrh3xBjuK8jKiGV6EQdKWn6hx/ormpeDnSoVYEOgV65tuLk5Gz0WcZuHkt0SjQ+jj582+XbYrnqVAJPPpk08MRchjlNyNBY0iR5PkGBVVk0skXJ1pCLv0L+YuLOiQC82exNhtcbbuKKTC8lPYV5x+ZxJOIII+uNpLNf52LvUByeGM6gtYOITommW9VufNbuM+nELHIVk5jKR2tO88cxwyCXAZ4OzBjQkOZV8z/+SWZfnG3ncm7FaeTjavhvP7ACDau4mPR0zJS9U/j9wu+09G7J992+f+C2GXrFlehEzofHc+5mPFtu/Y9Q/W8ApN5phu5mXyDrB3sFJy2B3k44aq24Ep300FBjoYHKrnYEeDrg72FPVQ8Hw5enA77udmitsu4/LUNPeFwKN2NTuHEnmZuxKdy8k8yN2BRuxiZz804K0YmpBfvh5EBrZYGnoxYPRxvcHWzwcNDimXn77vIaXo74uuf/H6yDtw7y8taXSUxLJNAtkPld5hdbn08JPPlk0sBzd3TlE9YN6RM/iWn9GjCkhenHXjkcfpjnNz1Pmj6NobWHMqnFJPmQNaEj4UcYvXE06SqdCU0nMKr+KFOXJMzc5jPhTF59kvA4HRoNDH+kKhO7BeKgzX0YibQMPUeu3GZbHlpx2tXyMpt5vq7EXeGJ1U+QoTL4ucfPxhHM82Pl+ZX8Z99/0Cs9dZwfobHtS1yOSCU4PJ6wmOQcH2OhgSpudlnCTFUPe6p6OuDjlj3UFFZKWga3YlO4cTcA3Yw1BKLQO1e5mL6MFMuLuOh64m/TGU8HWzwctbg72ODpaAg07o42eDoYwoy9jWWxvKdvvrKZt3a+RZo+jWYVmzGn0xycbJyK/DiZiuvzu2wMtmJuzhs6vP6R1BCNBjrXKdoe7AVx+c5lXtn6Cmn6NDr7deat5m9J2DGxoIpBTGoxian7pzL7yGxqu9Xm0SqPmrosYcYeq1uR5gHufLLuLMsOhbFobyibz4bzaf+GtK7x73/b4XH/9sXZfSHnvjgd77biNKjiYpYDHX597GsyVAbtfNoVKOwA9K/VH1dbV97a8RZn4/7BzlbHV0O+wtnGmURdOhciEgi+FUeiLoOqnvb4ezjg62Zfop3Dba0tDaHK03AFVEJqAt+d/I6/En4mzcIwV9gd+2XUrnSFSa0/LvHBFVecX8HUfVPRKz2P+T3G9HbT0VqW7KnNoiItPEXtntGV2+tm4elXh5VjTfshFpUcxdPrnuZG4g0aejXkh64/FMkVR6LwlFJM2TuFVRdX4WzjzNJeS/F1kk7M5mj/zf0sPbeUJ2s8SXvf9qYuh10XIpm08iTX7yRjob1JjZoHqOHYipArNTl737g4bvbWd8dPMU1fnPy6cPsC/f/sj0KxrNeyQvenO3jrIK9sfYWEtARqudVi/mPzi/RihKKQoc9g9cXVzDk6xzhXWKtKrWjh3YIFJxaQkpGCk7UTk1pOone13sX+D6tSim9PfMu8Y/MAGFBrAO+1fA9Li+IZe+deckorn0wWeO6OrnzDyodHE2bwTo/ajGlfveSOf5+ktCRG/DWCszFn8XPy4+eeP+NuW7TznojC0WXoGPnXSE5GnaSWWy1+7vGzdGI2I0opfjrzE7MOz0KvDB1Dn6zxJG83fxtHG9OOhhybrOOFPz/ndPIKNJoMlNKQfO0Z9Il1TXJFVVGZsG0Cm69upot/F2Z1mFUk+wyOCebFzS8SlRxFFccqfNvlW/yd/Ytk34V14OYBZhycQfDtYAD8nf2Z2Gwi7XzaodFoCI0NZfKeyZyINIwL1sm3Ex888gEedh7FUo9e6Zm2fxpLg5cCMKbhGF5q/FKJnRUors9v8xkFr6w4/xcA63SNAehaz3Rzu6Tr03lzx5ucjTmLm9aNbx77RsKOGdJaapnVYRbutu6cv32eD/d+SBn9P6TUSUpL4u2db/P5oc/RKz2NvBqhQcPqi6vp92c/Dtw8YLLarsRd4aVtozmTshSNJgMb5YlGo3DxW8aSsZX446XWTOhSiyZ+bqUq7JyOPs3mq5vRoGFco3FFtt9A90B+6vETfk5+XE+4zrMbnuV09Oki239BXI27yqtbX2X0ptEE3w7GycaJt5q/xao+q2jv294YMKq6VGVx98W8GvQqVhZWbA3bSt8/+rL5yuYiryk1I5W3dr7F0uClaNDwTot3GN9kfJnoAiGBpyhlpMOFTQD8nd6EmhUcCfA0zezHSimm7pvKruu7sLW0ZW7nuTJppRnzdvBmVodZWGms2BC6gcWnF5u6pHIvLD6MZzY8w4bQDVhprJjccjI/9/iZhd0WUsWxCjcTbzJ602imH5hunGOtJOiVnv+d+x8D1wzkeORxHK0d+bj1x+x7dhOtK7cmTel4958JhMWHlVhNRWnu0bkAPF7tcWq41SjSffs6+bK4x2LquNchJiWGUX+N4p8b/xTpMfIiPjWemYdm8sQfT7A1bCuWGksGBw5mXd91PFP3Gawtsw9hYmVhxXMNnmPp40up5VaL27rbTNg+gXd2vUNcalwOR8m/xLRExm0Zx8bQjVhZWDGj3QyG1hlaJPs2BxJ4itK1A5B8m0QLJw6rWnQzYevOdye/Y+WFlVhoLPi03acyt0wp0LRiU95q8RYAXxz5wiRvxMJgz/U9DF47mPO3z+Nu68733b5ncO3BaDQamnk3Y2WflQyoNQCAX87+wlNrnjKebihOtxJvMebvMXyy/xOS05Np6d2S3/v8zpM1nsTawpqZHWYaP8zHbR7HnZQ7xV5TUToacZTd13djqbFkbKOxxXIMTztPFnZbSEvvliSlJzFuyzj+uPgHKekpD39wIaXr01kevJzHf3+cRacXka5Pp3Xl1qzss5LJrSbjZuv20H0Eugfyv8f/x3MNnsNCY8Hay2vp+0df9l7fW6jaopOjGbVxFPtv7sfOyo55nefRPaB7ofZpbqQPT1Ha9D7sncMa1YaXdeP4c3xrGvq4lsyx77Hm0hre3f0uAO+2fJchtYeUeA2iYJRSfLD3A1ZfXI2L1oWljy/Fx6loZyIWuVNKsfDUQuYcnYNe6Wno2ZBZHWZR0aFijtvvuraLKXunEJkciYXGgtH1RzO20dgc/0MvbF1rLq9h+v7pxKfFY2tpy2tNX2NI7SFYaLL+3xqZFMnT65/mZuJNGns15ruu35WaixRGbxzNgVsH6F+zPx8++mGxHis1I5VJuybx95W/AUMLSl33ujSu0Njw5dW4SDs2772xl88OfsbFOxcBCHAJYGKzibT1aVvgfR6PPM7k3ZO5EncFgEGBg3i96ev57gN4Lf4aL25+kStxV4zdH+p51itwXYUlnZbzySSB557RlQ86duKfdzrl6bxnYlqisTNkYR2PPM7LW14mXaUzst5IXm/2epHsV5QcXYaOERtGcCr6FIFugfzc82fsrOxMXVaZl5SWxHt73jN+APav2Z93W76LjeWDx6WJ1cXyyf5PWB+yHoDa7rX5b5v/UsutVpHUFZ0czX/++Q9bw7YC0NCzIf9t81+qulTN9TGX7lzimQ3PEJ8aTxf/Lnze/vNswcjc7Lu5j+c3PY+1hTXr+q6jkmOlYj9mhj6DecfmseriKqKSo7Ktr+JYxRh+GldoTE3Xmvm+SikkNoSZh2ay49oOAFy0LoxrNI6BgQOxtih8ME5OT+bLw1/y67lfAcNpu6mtp+Z5uqDgmGDGbh5LZHIklR0q822Xbx/4u1USJPDkU4kHnszRlbGkScp8nnykLv95ov5DH/bBng9YdXFVkZfTvWp3Pm33qdm/yYmc3Uq8xaC1g4hJiaFHQA8+bftpmeg0aK6uxF3htW2vcfHORawsrHi35bsMrDUwX/vYFLqJj/d9zB3dHawsrBjfeDwj6o0o1GW8m69s5j///IfbuttYWVjxUuOXGFFvBFYWDx9C7eCtg4z5ewxp+jSeqfsMbzV/q8B1FDelFMM2DONE5AmG1h7KOy3fKfHjX0+4zrHIYxyLMHxduHMh2z+i9lb2NPRqaAxBDb0a5joAX6wulvnH57P03FLSVTpWGisG1x7Mi41exEXrUuTPYd/Nfby/531uJd5Cg4YR9UbwUpOXHjhmzuHww7y85WXi0+Kp6VaT+Y/NL/KZzwtCAk8+lXjguTu68kFNfQYmv8uS0S1pU/PBw26fjj7N4LWDi7yUTr6dmNF+RqkdHEoYHLp1iOc3PU+6SpdpQIrRzms7mbRzEvFp8XjZeTGrw6wCD3QXlRzFR3s/Yvu17QA09mrMf9v8N98XDMSlxjFt/zTWXl4LQC23WnzS5hMC3QPztZ/1l9fz9q63AXi7+dsMqzssX48vKTuv7eSlLS9ha2nLhv4bim3KgvxISE3gZNRJQwCKPMbxyOMkpiVm2UaDhhpuNWjs1ZgmFZrQ2Ksx3o7erAhewdfHvyZWFwtAe5/2vNHsDQJcAoq15vjUeD498Cl/XPoDgBquNfikzSc5Tu657eo2Ju6ciC5DR1CFIL7qbBiQ0RxI4MmnEg88i3tDyE4+ThvGCus+HH6/C9aWD25deXHzi+y5vofHqz3Ox49+XGSlFHX/AWE6v579lWkHpmGhsaBVpVZ4O3jjbe9t+H7Pl5zyyj+90vP9ye+Ze3QuCkVjr8bM6jCr0P02lFKsvriaTw9+SmJaInZWdkxoOoFBgYPy1OK69/pe3t/7PhFJEVhoLBhVfxRjG4196Km13Pxw8ge+PPIlGjTM7DCTLv5dCrSf4qJXegatHcS5mHOMrD+S15ua52n4DH0GF+9c5HjkcY5FHONoxFGuJVzLtp3WUosuwzCbew3XGkxsNrHER1DfdnUbH/7zITEpMVhprBjTaAzPNXjO2DK46sIqPvznQ/RKTwffDnzW7jOz6uclgSefSjTw3De6clDjpnwxqPEDH3Ik/AjD/xqOpcaSNU+uwddZRtcV2d07EvODuGhd8Lb3ppJDJSo6VPw3DNl7U8mxEhXsKxRJf4GyIiE1gcm7Jxv7xQwKHMTbzd8u0n8WbiTc4P0973PglmGsnlaVWvHxA6YGSEpLYtbhWSwLXgYYBp+b2npqgVubMiml+O/+/7IseBlaSy3fd/2+0PssSptCN/HGjjdwsHbgr35/4WrrauqS8iwqOYrjEcc5FmkIQGeiz5CmT8NV68r4xuPpX6t/nk4/FofbKbf5eN/Hxj5p9T3q8982/2Vr2FZmH5kNQN8affngkQ9MVmNuJPDkU4kGnlMr4bdRXNH40D55Bt88HUSPBrl3uFNKMWrjKA6FHyqRqxFE6aaU4kjEEa7GXeVW0i3CE8O5lXiLm4k3uZV4i6T0pIfuQ4MGTztPYxBy0bqgoej6BLlqXfF2MASuzGMU5+SChRESG8Kr214lJDYEawtr3mv1Hv1q9iuWY2WOmfPl4S8fODXA0YijTN492Th2zpDaQ3gt6LUiG3E7XZ/OhG0T2H5tO65aV37u8bPJO6aCodWk35/9uBx7mRcbvchLjV8ydUmFosvQERobio+TDw7WphmD7V5KKdaHrOe/+/9LfGo8lhpLMpRhNvjR9UfzatCrZtk3UAJPPpVo4Pn9BTixjG/TH2cmz3D0/S4PnL3YFFcjiLJJKUV8Wjy3Em9l/0oyfA9PDCdVn1ritTlYOxhOvznmcBru7v2SbkbfdnUb7+5+l4S0BCrYV+DLDl/SwKtBsR83NDaUybsncyIq69QAjjaOzDs2j0WnFqFQeDt483Hrj2lVqVWR15CUlsTojaM5FX0KH0cflvRcUmxTE+RV5hAazjbO/NX/L7MNyaVdeGI4U/ZOYc+NPQC81fwtnqn7jImryp0EnnwqscCTkQ6f14Dk2zylex+nwPb8MKJ5rpsrpRi2fhgnok7wdJ2nmdRiUvHVJgSG37mYlBhjALqVeIv41Pgi3X90SrRx3zcTb+Z55Fc3rRveDt6G03B3Q9C9rURe9l5FcipOr/R8e/xbvj7+NQBBFYKY2WFmiXaOTdens+j0IuYdm0e6Ph03rRvutu5cir0EwBPVn+DtFm8X64d+dHI0w9YP41rCNep71OeHbj+YbN62NH0afVb14VrCNV4NepXnGjxnkjrKC6UUW69uxdHGkZaVWpq6nAeSwJNPJRZ4ruyFH3sQr3GkcfI3fNK/MYOa535Fxo6wHYzfOt6srkYQoqglpSVlaWG6t8Up81RcXqZj0KDBy87r31B0T7+kzIDkYefxwM7A8anxvLvrXeOVU0NrD+XN5m+arE9TcEww7+x+hwu3LwDgbuvOh498SEe/jiVy/NDYUJ7Z8Ax3dHfo4NOBLzp+YZI+HL+d/42P/vkId1t3NvTbIBPmCqPi+vw2r55KpVHwBgA2pzdCaSzpXCfnEVnB8F/m3GOGeWKG1BkiYUeUWfbW9lRzqUY1l2o5rldKEZcaZwhESeFZTsVlBqLwpHDS9GlEJEcQkRwB2ceFAwwj5Fa0r0hF+4rZTpvZWtnyyf5PCI0LxcbChg8e+YAnajxRjM/84QLdA1n6+FIWnV5EZFIkYxuPLdFJfau6VOWrTl/x3Kbn2H5tO9MPTGdyy8kl2pdDl6Fj/vH5ADzX4DkJO6JESOAprLuzo2/JCKKZvzuejrmPffP3lb85F3MOB2sHRtUbVVIVCmF2NBoNLloXXLQuuY4to1d6YlJisrQQ3Uy4meXUXGRyJOn6dK4nXOd6wvVcj+ft4M2XHb+knofphsu/l42lDS80fMFkx29coTHT2k7jje1vsCx4GZUdKzOqfsm9J/12/jfCk8KpYF+BpwKfKrHjivJNAk9hRF+CqPOkY8lOfUNeqZd7607mEOYAz9Z9tlRdeimEKVhoLPC088TTzjPXeX3S9elEJkVmCUH3thRFJEXQyKsRUx6dUqKtKKVBF/8uTGw+kRkHZ/DF4S/wtvemZ7WexX7cpLQkvjvxHQBjGo6RAVJFiZHAUxjnNwJwUB9IHA50qZt74Fkfsp6Q2BCcbZzNune8EKWJlYUVlRwryZWOBfRM3We4kXCDJWeX8N6e9/Cy96K5d+4XXRSFpcFLiU6JpopjFfrW6FusxxLiXjLRUmGcv9t/JyOI2t5O+HvkPO5Cmj6Nr48Zrg4ZWX+kXHophDAbE5tPpIt/F9L0aby67VUu3blUbMdKSE1g4amFAIxrPE5GhRclSgJPQaXEGq7QAjbrg+j6gNad1RdXcy3hGu627gytPbSkKhRCiIey0FjwSZtPaOzVmPjUeMZuHktEUkSxHOvnMz8Tq4slwCWAxwMeL5ZjCJEbCTwFdXEz6NO5pCpzRXnTtV7Ow8XrMnR8e/xbAJ5v8LxcjSCEMDu2VrZ81ekrqjpX5WbiTV7a8lK2iTIL607KHX468xNgaN0pzCzyQhSEBJ6CCjZcnfV3RhBVXO2oVznnsQIyr0aoaF+RgYEDS7JCIYTIM1dbV75+7Gvcbd05F3OO17a9xparWzgdfZqYlBgKO2TbotOLSEhLINAtkK7+XYuoaiHyTjotF0RGOlw0TMi2NaMJXepWzHEMiyxXIzSSqxGEEObN18mXeZ3nMWrjKPbd3Me+m/uM67SW2ixjHd0/7lElh0q59k+MSo7i13O/AjC+yfg8zRovRFGTwFMQ1w5A8m1iceCwqsVruVyO/r9z/yM6JRofRx+erPFkydYohBAFUN+zPt92+Zafz/xsHPcoKjkKXYaOq/FXuRp/NdfHGudPywxFd6cM2X9rP8npyTTwbEB7n/Yl+GyE+JcEnoK4O7ry1ozGONrZ0qJq9vE94lPjjVcjjG081mTD2AshRH41qdCEJhWaGO+nZaQZR8S+mXgz2+jYt5JuEauLJTEtkUuxl4zzg91vfJPxZjk7tygfJPAUxD2jK3duUAEry+zNs0vOLCEuNU6uRhBClHrWltb4OPng4+ST6zZJaUmEJ4UbAtF986eFJ4bTzLsZj1R6pASrFiIrCTz5dd/oyp/lcHXWnZQ7LD6zGICXGr8kVyMIIco8e2t7AlwCCHAJMHUpQuRIeo7l193RlQ9kBJJq7US7ml7ZNvnx9I8kpiUS6BZIF/8uJV2hEEIIIe4jLTz55duS45UGsPKKJ21re2Fnk7X1Jio5il/PytUIQgghhDmRwJNfPk15J2UEZ/RxfJbD6Mo/nPyBlIwUGno2lKsRhBBCCDMhzQ/5FBaTxJmbcVhooHOdrIHnVuItlgUvA+RqBCGEEMKcSODJp7/PhAPQvKo77g42WdZ9e+Jb0vRpNKvYjFaVWpmiPCGEEELkQE5p5VNjP1eGtPCliZ9bluVhcWGsvrAagJebvCytO0IIIYQZkcCTT0F+bgTdF3YA5p+YT7pKp3WV1gRVDDJBZUIIIYTIjZzSKgKX71xm7eW1ALzc+GUTVyOEEEKI+0ngKQLzjs1Dr/R08u1EPc96pi5HCCGEEPeRwFNI52LOsenKJjRoeKnJS6YuRwghhBA5kMBTSHOPzgWge0B3arnVMnE1QgghhMiJBJ5COB55nB3XdmCpsWRco3GmLkcIIYQQuZDAUwiZrTt9qvehqktV0xYjhBBCiFxJ4Cmgg7cOsu/mPqwsrBjTaIypyxFCCCHEA0jgKQClFF8d/QqA/jX7U8WxiokrEkIIIcSDSOApgD039nA04ihaSy0vNHzB1OUIIYQQ4iEk8OTTva07gwMHU8G+gokrEkIIIcTDSODJp61hWzkTfQY7KztGNRhl6nKEEEIIkQcyl1Y+xaTEYG9lz9N1nsbd1t3U5QghhBAiDyTw5NPAWgN5zO8xrC2sTV2KEEIIIfJIAk8BuNlmny1dCCGEEOZL+vAIIYQQosyTwCOEEEKIMk8CjxBCCCHKPAk8QgghhCjzJPAIIYQQosyTwCOEEEKIMk8CjxBCCCHKPAk8QgghhCjzJPAIIYQQosyTwCOEEEKIMk8CjxBCCCHKPAk8QgghhCjzJPAIIYQQoswrs7OlK6UAiIuLM3ElQgghhMirzM/tzM/xolJmA098fDwAvr6+Jq5ECCGEEPkVHx+Pi4tLke1Po4o6QpkJvV7PjRs3cHJyIj4+Hl9fX8LCwnB2djZ1aeVWXFycvA5mQF4H8yCvg3mQ18E83Ps6ZH5uV65cGQuLout5U2ZbeCwsLPDx8QFAo9EA4OzsLL/QZkBeB/Mgr4N5kNfBPMjrYB4yX4eibNnJJJ2WhRBCCFHmSeARQgghRJlXLgKPVqtlypQpaLVaU5dSrsnrYB7kdTAP8jqYB3kdzENJvA5lttOyEEIIIUSmctHCI4QQQojyTQKPEEIIIco8CTxCCCGEKPPKdOBZsWIFHTp0wM3NDQcHBxo1asSMGTNIS0szdWnlxogRI9BoNA/8SklJMXWZpV5wcDBfffUVI0aMoEGDBlhZWaHRaJg6depDH7t582Z69uyJp6cndnZ21K5dm8mTJ5OQkFAClZctBXkdPvzww4f+jZw7d64En0Xpl5aWxpYtW5g4cSLNmzfH1dUVa2trvL296dOnD+vWrXvg4+VvomgU9HUorr+JMjvw4Guvvcbs2bOxsrKiU6dOODo6snXrVt5++23WrFnDpk2bsLOzM3WZ5Ubr1q2pUaNGjussLS1LuJqy55tvvmH27Nn5ftwXX3zB66+/jkajoW3btlSsWJFdu3bxySefsHLlSnbv3o2np2cxVFw2FfR1AGjUqBGNGzfOcV1xDMJWlu3YsYMuXboA4O3tTZs2bXBwcODMmTOsWbOGNWvW8MILLzB//nzjwLSZ5G+i6BTmdYBi+JtQZdCqVasUoBwdHdXhw4eNyyMjI1WDBg0UoN544w0TVlh+DB8+XAHqxx9/NHUpZdp3332n3nzzTfXLL7+os2fPqmeeeUYB6uOPP871MUeOHFEajUZZWlqq9evXG5cnJiaqzp07K0D179+/JMovMwryOkyZMkUBasqUKSVXaBm3ZcsW1b9/f7Vz585s65YuXaosLS0VoBYvXpxlnfxNFK2Cvg7F9TdRJgNP8+bNFaCmTp2abd2uXbsUoLRarbpz544JqitfJPCYRubP/UEftAMHDlSAeu6557KtCw0NVRYWFgpQZ8+eLc5Sy7S8vA4SeEre6NGjFaA6d+6cZbn8TZSs3F6H4vqbKHN9eK5fv87BgwcBGDp0aLb1bdq0wdfXF51Ox/r160u6PCHMQmpqqvH8eU5/J/7+/rRu3RqAVatWlWhtQhS3Jk2aABAWFmZcJn8TJS+n16E4lbk+PEePHgXA3d2dgICAHLdp1qwZYWFhHD16lCFDhpRkeeXWtm3bOHnyJPHx8Xh4eNCiRQt69uwpo5uayPnz50lKSgIMfw85adasGbt27TL+TYnideTIESZNmkRMTAwuLi40adKE3r174+TkZOrSypwLFy4AUKlSJeMy+ZsoeTm9Dvcq6r+JMhd4QkJCAPDz88t1G19f3yzbiuL3008/ZVtWqVIlFi5cSPfu3U1QUfmW+bvv6uqa65uH/J2UrMxOnPdycXFhzpw5PPvssyaqquy5desWixYtAqB///7G5fI3UbJyex3uVdR/E2XulFZ8fDwADg4OuW7j6OgIQFxcXInUVJ41atSI2bNn8//27j0oqvKNA/j34MKCy0URvIFA3tApUTTNhJLwkoN4IcXCS4uTmdWIMDpepkycaRpnKjOsfyrzRo4QuIJjKAyDmmPqqGhZM43ZiqKMgqQYogI+vz/87cl1d7mswurx+5lhBt73vOc873l9h8fDed89ffo0ampqcPnyZRQWFmLUqFGoqKjA5MmTsW/fPleH+dThPHl89OnTB5988glKS0tRXV2N6upqHDx4EPHx8bh+/TqMRiN++OEHV4epCQ0NDZg9ezauX7+OQYMG4Z133lHrOCfaT1PjALTdnNDcEx56vKSlpVn97OPjg3HjxmHs2LFISEhAXl4eUlNTcfLkSdcESORic+bMsSmLiorCrl27kJKSgvXr1yMtLQ2JiYnw8PBwQYTasWDBAhQXF6NLly7Iycnh/XSR5sahreaE5p7wWB5F1tbWOjzGsnmUr69vu8REthRFwerVqwEAp06dareX1ugezpMnQ3p6Ojp06IDKykocOXLE1eE80RYtWoQNGzagc+fOKCoqQv/+/a3qOSfaR3Pj0JyHmROaS3jCwsIANP3Wt6XOciy5xsCBA9Xvy8vLXRjJ08fyb//atWvqo/wHcZ64nr+/P7p27QqAc+RhLF68GBkZGejUqRMKCwvV1UH345xoey0Zh+Y8zJzQXMJjuYFXr151+GLZsWPHAABDhw5tt7jI1tWrV9XvuRKlfYWHh6Njx44A/psPD+I8cb3GxkZcv34dAOeIs5YuXYq1a9fCz88PhYWFDldgcU60rZaOQ3MeZk5oLuEJDg7G8OHDAQDbtm2zqT948CAuXLgAvV6PuLi49g6P7rN9+3YA9x4Ph4eHuziap4uHhwcmTpwIwP48KSsrw6FDhwAACQkJ7Rob/Sc/Px83b96EoihO/4J4mi1fvhyffvop/Pz8UFRUpP5usIdzou20Zhya81Bz4pFuY/iYcPTRElVVVfxoiXZUWloqeXl5Ul9fb1Xe2Ngo3333nXh6egoA+fDDD10UoXa1ZIff48ePq9voFxQUqOXcRv/RaW4cysrKZOvWrVJXV2dTZzKZxN/fXwDI7Nmz2zpUzfnggw8EgHTq1EmOHj3aojacE49ea8ehLeeEIiLidKr1GFu0aBEyMjLg7u6OMWPGwGAwoLi4GNeuXUNUVBSKior44aFtbOfOnUhISEDnzp0xdOhQdOvWDdeuXcPp06dx/vx5AEBSUhK2bNkCnY4LBh/GiRMn8N5776k/nz17FlVVVQgODkZQUJBabjKZrDb5uv+DEkePHo2uXbvi559/RkVFBcLDw/lBia3U2nE4efIkIiMj4e3tjcjISAQFBaGurg5//PGHuinbK6+8gvz8fHVJNDUvPz8fU6ZMAXBvs8Bnn33W7nEBAQH47LPPrMo4Jx4dZ8ahTedEq1OkJ0hWVpa8/PLL4uvrK15eXvLcc8/JmjVr5Pbt264O7anw999/S2pqqkRHR0tQUJB4enqKXq+XkJAQmT59uuzevdvVIWpGSUmJAGj2y2w227QtKiqSCRMmiL+/v+j1eunXr5+sWLFCampq2r8jT7jWjkNVVZUsW7ZMYmNjJSQkRAwGg7i7u0uPHj0kPj5etm3bJo2Nja7t1BNo48aNLRqH0NBQu+05Jx4NZ8ahLeeEZp/wEBEREVlo7qVlIiIiogcx4SEiIiLNY8JDREREmseEh4iIiDSPCQ8RERFpHhMeIiIi0jwmPERERKR5THiIiIhI85jwEBERkeYx4SEizUlPT4eiKEhPT3d1KM1SFAWKorg6DCLNY8JDRNRGkpOToSgKNm3a5OpQiJ56THiIiIhI85jwEBERkeYx4SHSiPvfBcnMzMSIESPg7e2NwMBAJCUl4fz58wAAEcFXX32FIUOGwGAwICAgAMnJybhy5YrNOevr65GZmYlZs2ZhwIAB8PX1hZeXF8LDw5GSkoJLly7ZtMnJyYGiKAgMDER5eblN/d69e9GhQwf4+fnhzJkzTve3rq4O6enp6NevH/R6PXr06AGj0aj2synHjx/HrFmzEBISAr1eD39/f7z66qv46aef7B4fFhYGRVFw7tw5mEwmREdHw9fXFz4+PoiJibFpd+7cOSiKgs2bNwMA5s6dq45PU+8W5ebmquc2GAyIiopyGBMRtZIQkSYAEACyfPly0el0EhsbK9OnT5eQkBABIL169ZLq6mqZMWOGeHp6yoQJEyQhIUG6du0qACQiIkJu375tdc4LFy4IAPHz85ORI0dKYmKixMXFSc+ePQWABAYGypkzZ2xiWbhwoQCQ6Ohoqa+vV8vLy8slMDBQAEhWVpbTfa2trZWRI0cKADEYDBIfHy+JiYnSrVs36dKli7z55psCQFatWmXTdt26deLm5iYAZMiQITJ9+nSJjo4WDw8PASCrV6+2aRMaGioAJC0tTQDI888/L0lJSTJixAj1vmdkZKjHV1ZWitFolD59+ggAiYqKEqPRqH6ZTCb1WEv7jz76SBRFkaioKHn99ddl8ODBAkAURZEdO3Y4fa+I6B4mPEQaYfnF2aVLFzl58qRafvPmTYmOjhYAMmjQIOnTp4+cO3dOra+srJS+ffsKAMnMzLQ6Z01NjeTl5dkkQnfu3JEVK1YIAImLi7OJ5fbt22oysGzZMhERqa+vV+N4//33H6qvS5YsEQAyYMAAuXjxolpeW1srU6ZMUe/FgwnPnj17RFEUCQgIkP3791vV/frrrxIcHCwAZN++fVZ1loRHURSbe7R9+3ZRFEV0Op389ttvVnVGo1EAyMaNGx32xRJrp06d5PDhw1Z1q1atEgDSv3//5m4JETWDCQ+RRlh+cX799dc2dTt27FDrd+/ebVP/+eefCwCZO3duq67Zs2dPcXNzk5qaGps6s9ksnTt3FkVRZPfu3bJ06VIBIMOGDZNbt2616jr3u3nzpvj4+AgAKSgosKmvqKgQT09PuwnPCy+8IAAkJyfH7rmzs7MFgEybNs2q3JLwTJ061W67adOmCQB5++23rcpbk/Dc/4TI4tatW+Ln5ycA5Pz58w7PQUTN0z3aP5ARkavFxcXZlPXr1w8AoNPpMH78eIf19t7JAYBTp06huLgYZrMZtbW1uHv3LgCgoaEBd+/exV9//YXIyEirNmFhYdi0aROmTp2KpKQk3LhxA35+fsjOzoZer3e6fydOnMCNGzcQEBCACRMm2NR3794d48ePR35+vlV5VVUVjh49Ci8vL0yaNMnuuWNiYgAAhw4dsltvNBodlufm5mLfvn0t78gD7MWk1+vRu3dvlJaW4uLFi+jVq5fT5yd62jHhIdKYkJAQmzJvb28AQI8ePaDT2U57Hx8fAMCtW7esymtrazFnzhyYTKYmr1lTU2O3fPLkyZg3bx6+/fZbAMA333yD3r17N9+JJlhehA4LC3N4zDPPPGNTZjabISKoq6trNuGqrKxs8XnvL7f3knZL2Rs3APD19QVgOzZE1DpMeIg0xs3N8eLLpursWbFiBUwmEwYMGIA1a9Zg+PDhCAgIgIeHBwBg1KhR+OWXXyAidttfvXoVBQUF6s+HDx/GjBkzWhXDo2J5KuXt7Y1p06a1yTUc3YeWaO3YEFHrMOEhIoeys7MBAFlZWYiIiLCpb2pZuYhgzpw5KC8vx9SpU3HgwAF88cUXiImJweTJk52OKSgoCMC9pd+O2Kuz/DlIURR8//33TiUYZrMZgwcPdni94ODgVp+TiNoH/0tBRA5VV1cDAEJDQ23q9u7di6qqKodt16xZg4KCAgwcOBCZmZnYvHkzFEVBcnIyysrKnI5p2LBh8Pb2RlVVFQoLC23qL1++bLe8Z8+eiIiIwI0bN7Bnzx6nrr1161a75Vu2bAHw3ztAFpYnYQ0NDU5dj4geHSY8ROTQwIEDAQDr16+3Kv/zzz+xYMECh+0OHDiAlStXomPHjvjxxx9hMBgQHx+PxYsX459//sGMGTNQX1/vVExeXl6YP38+ACAtLQ0VFRVqXV1dHd59913U1dXZbfvxxx8DuLcR4K5du2zqRQRHjhyxmzABgMlkwvbt263KcnJykJubC51Oh4ULF1rVWZ74/P777y3sHRG1GZeuESOiRwb/X95sj9lsFgASGhpqt76kpEQAyOjRo63Kc3NzRVEUdQ+fN954Q2JjY8Xd3V1iY2Nl1KhRAkBKSkrUNleuXFE3JnxwOfadO3fUDQNTU1Od7uu///6r7vPj7e0tkyZNksTEROnevXuzGw9++eWXotPpBID07dtXJk6cKDNnzpRx48apmzBa9g6ysCxLT01NFQAyfPhwmTlzprrMHYCsXbvW5lqnTp0SNzc3cXNzk7Fjx8rcuXPlrbfekry8PPWYpsZNRGT06NE295iIWo9PeIjIoddeew379+/HmDFjUFFRgfz8fFy5cgXp6ekoKCiAu7u71fF3797F7NmzcenSJRiNRiQnJ1vVu7u7IysrC/7+/li3bh127tzpVFwGgwElJSVYuXIlunXrhr179+LAgQMYM2YMjh075nA1FQCkpKSgtLQU8+fPh6IoKC4uxs6dO3H27FlERkYiIyMDKSkpdtsuWrQI2dnZ0Ol0yM/Px+nTp/HSSy9h165dSEtLszk+IiICubm5ePHFF3HkyBFs2rQJGzZswIkTJ5zqNxE5TxF5iGUFRERPgbCwMJSVlcFsNje5HJ6IHl98wkNERESax4SHiIiINI/78BCRSy1ZsqTJ5e33i46Oxrx589o4IiLSIiY8RORSOTk5rdqXxxUJT1ObHBLRk4EvLRMREZHm8R0eIiIi0jwmPERERKR5THiIiIhI85jwEBERkeYx4SEiIiLNY8JDREREmseEh4iIiDSPCQ8RERFp3v8AT9LaCiTpDVAAAAAASUVORK5CYII=\n",
      "text/plain": [
       "<Figure size 640x480 with 1 Axes>"
      ]
     },
     "metadata": {},
     "output_type": "display_data"
    }
   ],
   "source": [
    "def get_train_test_score(max_depth,x_train,y_train,cv=5,return_train_score=True,return_test_score=False,x_test=None,y_test=None):\n",
    "    model = DecisionTreeClassifier(max_depth=max_depth)\n",
    "    model.fit(x_train,y_train)\n",
    "    m_score =  cross_validate(model,x_train,y_train,cv=cv,return_train_score=return_train_score)\n",
    "    dic = {}\n",
    "    \n",
    "    dic['max_depth'] = max_depth\n",
    "    dic['mean_cv_score'] = m_score['test_score'].mean()\n",
    "    dic['mean_train_score'] = m_score['train_score'].mean()\n",
    "    dic['test_score'] = model.score(x_test,y_test)\n",
    "    \n",
    "    return dic\n",
    "\n",
    "df_scored = {\n",
    "    'max_depth':[],\n",
    "    'mean_cv_score':[],\n",
    "    'mean_train_score':[],\n",
    "    'test_score':[],\n",
    "}\n",
    "\n",
    "# max_deth_list = rd.sample(range(1,25),10)\n",
    "max_deth_list = range(1,25)\n",
    "\n",
    "for depth in max_deth_list:\n",
    "    ret_scr = get_train_test_score(depth,x_train,y_train,cv=10,return_test_score=True,x_test=x_test,y_test=y_test)\n",
    "    df_scored['max_depth'].append(ret_scr['max_depth'])\n",
    "    df_scored['mean_cv_score'].append(ret_scr['mean_cv_score'])\n",
    "    df_scored['mean_train_score'].append(ret_scr['mean_train_score'])\n",
    "    df_scored['test_score'].append(ret_scr['test_score'])\n",
    "\n",
    "df_scored = pd.DataFrame(df_scored).sort_values(by='max_depth')\n",
    "df_scored.set_index('max_depth',inplace=True)\n",
    "\n",
    "df_scored.plot()\n",
    "df_scored"
   ]
  },
  {
   "cell_type": "code",
   "execution_count": null,
   "metadata": {},
   "outputs": [],
   "source": []
  },
  {
   "cell_type": "markdown",
   "metadata": {},
   "source": []
  },
  {
   "cell_type": "markdown",
   "metadata": {},
   "source": [
    "## Exercise 5: Conceptual questions\n",
    "rubric={points:3}\n",
    "\n",
    "Consider the dataset below, which has $6$ examples and $2$ features:\n",
    "\n",
    "$$ X = \\begin{bmatrix}5 & 2\\\\4 & 3\\\\  2 & 2\\\\ 10 & 10\\\\ 9 & -1\\\\ 9& 9\\end{bmatrix}, \\quad y = \\begin{bmatrix}-1\\\\-1\\\\+1\\\\+1\\\\+1\\\\+1\\end{bmatrix}.$$\n",
    "\n",
    "1. Say we fit a decision stump (depth 1 decision tree) and the first split is on the first feature (left column) being less than 5.5. What would we predict in the \"true\" and \"false\" cases here?\n",
    "2. What training accuracy would the above stump get on this data set?\n",
    "3. Can we obtain 100% accuracy with a single decision stump in this particular example?"
   ]
  },
  {
   "cell_type": "code",
   "execution_count": 150,
   "metadata": {},
   "outputs": [],
   "source": [
    "data = {\n",
    "    \"a\":[5,4,2,10,9,9],\n",
    "    \"b\":[2,3,2,10,-1,9],\n",
    "    \"y\":[-1,-1,1,1,1,1]\n",
    "    \n",
    "}\n",
    "\n",
    "df_data = pd.DataFrame(data)\n",
    "\n"
   ]
  },
  {
   "cell_type": "markdown",
   "metadata": {},
   "source": []
  },
  {
   "cell_type": "code",
   "execution_count": null,
   "metadata": {},
   "outputs": [],
   "source": [
    "# left_column <= 5.5    ->   true   (-1)\n",
    "# left_column > 5.5     ->   false  (+1)\n",
    "# training acuuracy = 3 / 4  = 0.66\n"
   ]
  },
  {
   "cell_type": "code",
   "execution_count": null,
   "metadata": {},
   "outputs": [],
   "source": [
    "# No, we can't obtain 100% accuracy based on given condition.\n"
   ]
  },
  {
   "cell_type": "code",
   "execution_count": 152,
   "metadata": {},
   "outputs": [],
   "source": [
    "# \n",
    "# reason for that is give threshold value is 5.5 , but 3rd record will follow threshold value and model \n",
    "# will give us true(in our case -1) but actual value of that instance is '+1' that's why model can't give us 100% acuuracy\n",
    "# "
   ]
  }
 ],
 "metadata": {
  "anaconda-cloud": {},
  "celltoolbar": "Create Assignment",
  "kernelspec": {
   "display_name": "Python 3 (ipykernel)",
   "language": "python",
   "name": "python3"
  },
  "language_info": {
   "codemirror_mode": {
    "name": "ipython",
    "version": 3
   },
   "file_extension": ".py",
   "mimetype": "text/x-python",
   "name": "python",
   "nbconvert_exporter": "python",
   "pygments_lexer": "ipython3",
   "version": "3.9.13"
  }
 },
 "nbformat": 4,
 "nbformat_minor": 4
}
