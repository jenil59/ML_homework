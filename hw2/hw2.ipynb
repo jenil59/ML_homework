{
 "cells": [
  {
   "cell_type": "markdown",
   "metadata": {},
   "source": [
    "# Applied Machine Learning \n",
    "\n",
    "## Homework 2: Decision trees and machine learning fundamentals \n"
   ]
  },
  {
   "cell_type": "code",
<<<<<<< HEAD
   "execution_count": 4,
=======
   "execution_count": 66,
>>>>>>> 46369d6193687bfa3113b0bb09e9ea33804f2bee
   "metadata": {},
   "outputs": [],
   "source": [
    "import matplotlib.pyplot as plt\n",
    "import numpy as np\n",
    "import pandas as pd\n",
    "import random as rd\n",
    "\n",
    "plt.rcParams[\"font.size\"] = 16\n",
    "\n",
    "from sklearn.model_selection import cross_val_score, cross_validate, train_test_split\n",
    "from sklearn.tree import DecisionTreeClassifier"
   ]
  },
  {
   "cell_type": "markdown",
   "metadata": {},
   "source": [
    "## Introducing the data set\n",
    " \n",
    "For this  assignment you'll be looking at Kaggle's [Spotify Song Attributes](https://www.kaggle.com/geomack/spotifyclassification/) dataset.\n",
    "The dataset contains a number of features of songs from 2017 and a binary variable `target` that represents whether the user liked the song (encoded as 1) or not (encoded as 0). See the documentation of all the features [here](https://developer.spotify.com/documentation/web-api/reference/tracks/get-audio-features/). \n",
    "\n",
    "This dataset is publicly available on Kaggle, and you will have to download it yourself. Follow the steps below to get the data CSV. \n",
    "\n",
    "1. If you do not have an account with [Kaggle](https://www.kaggle.com/), you will first need to create one (it's free).\n",
    "2. Login to your account and [download](https://www.kaggle.com/geomack/spotifyclassification/download) the dataset.\n",
    "3. Unzip the data file if needed, then rename it to `spotify.csv`, and move it to the same directory as this notebook."
   ]
  },
  {
   "cell_type": "markdown",
   "metadata": {},
   "source": [
    "## Exercise 1: Exploratory data analysis"
   ]
  },
  {
   "cell_type": "markdown",
   "metadata": {
    "nbgrader": {
     "grade": false,
     "grade_id": "cell-d4d478b6cdc9bf88",
     "locked": true,
     "schema_version": 3,
     "solution": false
    }
   },
   "source": [
    "#### 1(a) \n",
    "rubric={points:2}\n",
    "\n",
    "Read in the data CSV and store it as a pandas dataframe named `spotify_df`. The first column of the .csv file should be set as the index."
   ]
  },
  {
   "cell_type": "code",
<<<<<<< HEAD
   "execution_count": 5,
=======
   "execution_count": 67,
>>>>>>> 46369d6193687bfa3113b0bb09e9ea33804f2bee
   "metadata": {
    "nbgrader": {
     "grade": true,
     "grade_id": "cell-4f3f14b59fd7e6b8",
     "locked": false,
     "points": 0,
     "schema_version": 3,
     "solution": true,
     "task": false
    }
   },
   "outputs": [],
   "source": [
    "spotify_df = pd.read_csv('data.csv',index_col=0)"
   ]
  },
  {
   "cell_type": "code",
<<<<<<< HEAD
   "execution_count": 6,
   "metadata": {
    "scrolled": true
   },
=======
   "execution_count": 68,
   "metadata": {},
>>>>>>> 46369d6193687bfa3113b0bb09e9ea33804f2bee
   "outputs": [
    {
     "data": {
      "text/html": [
       "<div>\n",
       "<style scoped>\n",
       "    .dataframe tbody tr th:only-of-type {\n",
       "        vertical-align: middle;\n",
       "    }\n",
       "\n",
       "    .dataframe tbody tr th {\n",
       "        vertical-align: top;\n",
       "    }\n",
       "\n",
       "    .dataframe thead th {\n",
       "        text-align: right;\n",
       "    }\n",
       "</style>\n",
       "<table border=\"1\" class=\"dataframe\">\n",
       "  <thead>\n",
       "    <tr style=\"text-align: right;\">\n",
       "      <th></th>\n",
       "      <th>acousticness</th>\n",
       "      <th>danceability</th>\n",
       "      <th>duration_ms</th>\n",
       "      <th>energy</th>\n",
       "      <th>instrumentalness</th>\n",
       "      <th>key</th>\n",
       "      <th>liveness</th>\n",
       "      <th>loudness</th>\n",
       "      <th>mode</th>\n",
       "      <th>speechiness</th>\n",
       "      <th>tempo</th>\n",
       "      <th>time_signature</th>\n",
       "      <th>valence</th>\n",
       "      <th>target</th>\n",
       "      <th>song_title</th>\n",
       "      <th>artist</th>\n",
       "    </tr>\n",
       "  </thead>\n",
       "  <tbody>\n",
       "    <tr>\n",
       "      <th>0</th>\n",
       "      <td>0.0102</td>\n",
       "      <td>0.833</td>\n",
       "      <td>204600</td>\n",
       "      <td>0.434</td>\n",
       "      <td>0.021900</td>\n",
       "      <td>2</td>\n",
       "      <td>0.1650</td>\n",
       "      <td>-8.795</td>\n",
       "      <td>1</td>\n",
       "      <td>0.4310</td>\n",
       "      <td>150.062</td>\n",
       "      <td>4.0</td>\n",
       "      <td>0.286</td>\n",
       "      <td>1</td>\n",
       "      <td>Mask Off</td>\n",
       "      <td>Future</td>\n",
       "    </tr>\n",
       "    <tr>\n",
       "      <th>1</th>\n",
       "      <td>0.1990</td>\n",
       "      <td>0.743</td>\n",
       "      <td>326933</td>\n",
       "      <td>0.359</td>\n",
       "      <td>0.006110</td>\n",
       "      <td>1</td>\n",
       "      <td>0.1370</td>\n",
       "      <td>-10.401</td>\n",
       "      <td>1</td>\n",
       "      <td>0.0794</td>\n",
       "      <td>160.083</td>\n",
       "      <td>4.0</td>\n",
       "      <td>0.588</td>\n",
       "      <td>1</td>\n",
       "      <td>Redbone</td>\n",
       "      <td>Childish Gambino</td>\n",
       "    </tr>\n",
       "    <tr>\n",
       "      <th>2</th>\n",
       "      <td>0.0344</td>\n",
       "      <td>0.838</td>\n",
       "      <td>185707</td>\n",
       "      <td>0.412</td>\n",
       "      <td>0.000234</td>\n",
       "      <td>2</td>\n",
       "      <td>0.1590</td>\n",
       "      <td>-7.148</td>\n",
       "      <td>1</td>\n",
       "      <td>0.2890</td>\n",
       "      <td>75.044</td>\n",
       "      <td>4.0</td>\n",
       "      <td>0.173</td>\n",
       "      <td>1</td>\n",
       "      <td>Xanny Family</td>\n",
       "      <td>Future</td>\n",
       "    </tr>\n",
       "    <tr>\n",
       "      <th>3</th>\n",
       "      <td>0.6040</td>\n",
       "      <td>0.494</td>\n",
       "      <td>199413</td>\n",
       "      <td>0.338</td>\n",
       "      <td>0.510000</td>\n",
       "      <td>5</td>\n",
       "      <td>0.0922</td>\n",
       "      <td>-15.236</td>\n",
       "      <td>1</td>\n",
       "      <td>0.0261</td>\n",
       "      <td>86.468</td>\n",
       "      <td>4.0</td>\n",
       "      <td>0.230</td>\n",
       "      <td>1</td>\n",
       "      <td>Master Of None</td>\n",
       "      <td>Beach House</td>\n",
       "    </tr>\n",
       "    <tr>\n",
       "      <th>4</th>\n",
       "      <td>0.1800</td>\n",
       "      <td>0.678</td>\n",
       "      <td>392893</td>\n",
       "      <td>0.561</td>\n",
       "      <td>0.512000</td>\n",
       "      <td>5</td>\n",
       "      <td>0.4390</td>\n",
       "      <td>-11.648</td>\n",
       "      <td>0</td>\n",
       "      <td>0.0694</td>\n",
       "      <td>174.004</td>\n",
       "      <td>4.0</td>\n",
       "      <td>0.904</td>\n",
       "      <td>1</td>\n",
       "      <td>Parallel Lines</td>\n",
       "      <td>Junior Boys</td>\n",
       "    </tr>\n",
       "  </tbody>\n",
       "</table>\n",
       "</div>"
      ],
      "text/plain": [
       "   acousticness  danceability  duration_ms  energy  instrumentalness  key  \\\n",
       "0        0.0102         0.833       204600   0.434          0.021900    2   \n",
       "1        0.1990         0.743       326933   0.359          0.006110    1   \n",
       "2        0.0344         0.838       185707   0.412          0.000234    2   \n",
       "3        0.6040         0.494       199413   0.338          0.510000    5   \n",
       "4        0.1800         0.678       392893   0.561          0.512000    5   \n",
       "\n",
       "   liveness  loudness  mode  speechiness    tempo  time_signature  valence  \\\n",
       "0    0.1650    -8.795     1       0.4310  150.062             4.0    0.286   \n",
       "1    0.1370   -10.401     1       0.0794  160.083             4.0    0.588   \n",
       "2    0.1590    -7.148     1       0.2890   75.044             4.0    0.173   \n",
       "3    0.0922   -15.236     1       0.0261   86.468             4.0    0.230   \n",
       "4    0.4390   -11.648     0       0.0694  174.004             4.0    0.904   \n",
       "\n",
       "   target      song_title            artist  \n",
       "0       1        Mask Off            Future  \n",
       "1       1         Redbone  Childish Gambino  \n",
       "2       1    Xanny Family            Future  \n",
       "3       1  Master Of None       Beach House  \n",
       "4       1  Parallel Lines       Junior Boys  "
      ]
     },
<<<<<<< HEAD
     "execution_count": 6,
=======
     "execution_count": 68,
>>>>>>> 46369d6193687bfa3113b0bb09e9ea33804f2bee
     "metadata": {},
     "output_type": "execute_result"
    }
   ],
   "source": [
    "spotify_df.head()"
   ]
  },
  {
   "cell_type": "markdown",
   "metadata": {},
   "source": [
    "#### 1(b)\n",
    "rubric={points:2}\n",
    "\n",
    "Run the following line of code to split the data. How many training and test examples do we have?\n",
    "\n",
    "> Note: we are setting the `random_state` so that everyone has the same split on their assignments. This will make it easier for the TAs to grade."
   ]
  },
  {
   "cell_type": "code",
<<<<<<< HEAD
   "execution_count": 7,
=======
   "execution_count": 69,
>>>>>>> 46369d6193687bfa3113b0bb09e9ea33804f2bee
   "metadata": {},
   "outputs": [],
   "source": [
    "df_train, df_test = train_test_split(spotify_df, test_size=0.2, random_state=321)"
   ]
  },
  {
   "cell_type": "markdown",
   "metadata": {},
   "source": [
    "Type *Markdown* and LaTeX:  $\\alpha ^ 2 $"
   ]
  },
  {
   "cell_type": "markdown",
   "metadata": {},
   "source": [
    "#### 1(c)\n",
    "rubric={points:3}\n",
    "\n",
    "- Print out the output of `describe()` **on the training split**. This will compute some summary statistics of the numeric columns.\n",
    "- Which feature has the smallest range? \n",
    "\n",
    "> Hint: You can subtract the min value from the max value of the column to get the range.\n",
    "\n",
    "Note that `describe` returns another DataFrame."
   ]
  },
  {
   "cell_type": "code",
<<<<<<< HEAD
   "execution_count": 8,
=======
   "execution_count": 70,
>>>>>>> 46369d6193687bfa3113b0bb09e9ea33804f2bee
   "metadata": {},
   "outputs": [
    {
     "data": {
      "text/html": [
       "<div>\n",
       "<style scoped>\n",
       "    .dataframe tbody tr th:only-of-type {\n",
       "        vertical-align: middle;\n",
       "    }\n",
       "\n",
       "    .dataframe tbody tr th {\n",
       "        vertical-align: top;\n",
       "    }\n",
       "\n",
       "    .dataframe thead th {\n",
       "        text-align: right;\n",
       "    }\n",
       "</style>\n",
       "<table border=\"1\" class=\"dataframe\">\n",
       "  <thead>\n",
       "    <tr style=\"text-align: right;\">\n",
       "      <th></th>\n",
       "      <th>acousticness</th>\n",
       "      <th>danceability</th>\n",
       "      <th>duration_ms</th>\n",
       "      <th>energy</th>\n",
       "      <th>instrumentalness</th>\n",
       "      <th>key</th>\n",
       "      <th>liveness</th>\n",
       "      <th>loudness</th>\n",
       "      <th>mode</th>\n",
       "      <th>speechiness</th>\n",
       "      <th>tempo</th>\n",
       "      <th>time_signature</th>\n",
       "      <th>valence</th>\n",
       "      <th>target</th>\n",
       "    </tr>\n",
       "  </thead>\n",
       "  <tbody>\n",
       "    <tr>\n",
       "      <th>count</th>\n",
       "      <td>1613.000000</td>\n",
       "      <td>1613.000000</td>\n",
       "      <td>1.613000e+03</td>\n",
       "      <td>1613.000000</td>\n",
       "      <td>1613.000000</td>\n",
       "      <td>1613.000000</td>\n",
       "      <td>1613.000000</td>\n",
       "      <td>1613.000000</td>\n",
       "      <td>1613.000000</td>\n",
       "      <td>1613.000000</td>\n",
       "      <td>1613.000000</td>\n",
       "      <td>1613.000000</td>\n",
       "      <td>1613.000000</td>\n",
       "      <td>1613.000000</td>\n",
       "    </tr>\n",
       "    <tr>\n",
       "      <th>mean</th>\n",
       "      <td>0.185067</td>\n",
       "      <td>0.620076</td>\n",
       "      <td>2.462533e+05</td>\n",
       "      <td>0.681315</td>\n",
       "      <td>0.134317</td>\n",
       "      <td>5.384377</td>\n",
       "      <td>0.191317</td>\n",
       "      <td>-7.095272</td>\n",
       "      <td>0.619343</td>\n",
       "      <td>0.092119</td>\n",
       "      <td>121.310311</td>\n",
       "      <td>3.975201</td>\n",
       "      <td>0.495891</td>\n",
       "      <td>0.512089</td>\n",
       "    </tr>\n",
       "    <tr>\n",
       "      <th>std</th>\n",
       "      <td>0.255838</td>\n",
       "      <td>0.161152</td>\n",
       "      <td>8.056740e+04</td>\n",
       "      <td>0.206964</td>\n",
       "      <td>0.274217</td>\n",
       "      <td>3.653722</td>\n",
       "      <td>0.156071</td>\n",
       "      <td>3.678993</td>\n",
       "      <td>0.485699</td>\n",
       "      <td>0.088007</td>\n",
       "      <td>26.431574</td>\n",
       "      <td>0.247829</td>\n",
       "      <td>0.244267</td>\n",
       "      <td>0.500009</td>\n",
       "    </tr>\n",
       "    <tr>\n",
       "      <th>min</th>\n",
       "      <td>0.000003</td>\n",
       "      <td>0.148000</td>\n",
       "      <td>1.604200e+04</td>\n",
       "      <td>0.015600</td>\n",
       "      <td>0.000000</td>\n",
       "      <td>0.000000</td>\n",
       "      <td>0.018800</td>\n",
       "      <td>-31.082000</td>\n",
       "      <td>0.000000</td>\n",
       "      <td>0.023100</td>\n",
       "      <td>47.859000</td>\n",
       "      <td>1.000000</td>\n",
       "      <td>0.037300</td>\n",
       "      <td>0.000000</td>\n",
       "    </tr>\n",
       "    <tr>\n",
       "      <th>25%</th>\n",
       "      <td>0.010000</td>\n",
       "      <td>0.514000</td>\n",
       "      <td>1.999040e+05</td>\n",
       "      <td>0.564000</td>\n",
       "      <td>0.000000</td>\n",
       "      <td>2.000000</td>\n",
       "      <td>0.092200</td>\n",
       "      <td>-8.388000</td>\n",
       "      <td>0.000000</td>\n",
       "      <td>0.037500</td>\n",
       "      <td>100.221000</td>\n",
       "      <td>4.000000</td>\n",
       "      <td>0.298000</td>\n",
       "      <td>0.000000</td>\n",
       "    </tr>\n",
       "    <tr>\n",
       "      <th>50%</th>\n",
       "      <td>0.062600</td>\n",
       "      <td>0.634000</td>\n",
       "      <td>2.298590e+05</td>\n",
       "      <td>0.712000</td>\n",
       "      <td>0.000088</td>\n",
       "      <td>6.000000</td>\n",
       "      <td>0.125000</td>\n",
       "      <td>-6.298000</td>\n",
       "      <td>1.000000</td>\n",
       "      <td>0.055300</td>\n",
       "      <td>121.241000</td>\n",
       "      <td>4.000000</td>\n",
       "      <td>0.492000</td>\n",
       "      <td>1.000000</td>\n",
       "    </tr>\n",
       "    <tr>\n",
       "      <th>75%</th>\n",
       "      <td>0.260000</td>\n",
       "      <td>0.739000</td>\n",
       "      <td>2.703330e+05</td>\n",
       "      <td>0.841000</td>\n",
       "      <td>0.055900</td>\n",
       "      <td>9.000000</td>\n",
       "      <td>0.250000</td>\n",
       "      <td>-4.833000</td>\n",
       "      <td>1.000000</td>\n",
       "      <td>0.107000</td>\n",
       "      <td>136.894000</td>\n",
       "      <td>4.000000</td>\n",
       "      <td>0.689000</td>\n",
       "      <td>1.000000</td>\n",
       "    </tr>\n",
       "    <tr>\n",
       "      <th>max</th>\n",
       "      <td>0.994000</td>\n",
       "      <td>0.984000</td>\n",
       "      <td>1.004627e+06</td>\n",
       "      <td>0.997000</td>\n",
       "      <td>0.976000</td>\n",
       "      <td>11.000000</td>\n",
       "      <td>0.969000</td>\n",
       "      <td>-0.718000</td>\n",
       "      <td>1.000000</td>\n",
       "      <td>0.622000</td>\n",
       "      <td>219.331000</td>\n",
       "      <td>5.000000</td>\n",
       "      <td>0.974000</td>\n",
       "      <td>1.000000</td>\n",
       "    </tr>\n",
       "  </tbody>\n",
       "</table>\n",
       "</div>"
      ],
      "text/plain": [
       "       acousticness  danceability   duration_ms       energy  \\\n",
       "count   1613.000000   1613.000000  1.613000e+03  1613.000000   \n",
       "mean       0.185067      0.620076  2.462533e+05     0.681315   \n",
       "std        0.255838      0.161152  8.056740e+04     0.206964   \n",
       "min        0.000003      0.148000  1.604200e+04     0.015600   \n",
       "25%        0.010000      0.514000  1.999040e+05     0.564000   \n",
       "50%        0.062600      0.634000  2.298590e+05     0.712000   \n",
       "75%        0.260000      0.739000  2.703330e+05     0.841000   \n",
       "max        0.994000      0.984000  1.004627e+06     0.997000   \n",
       "\n",
       "       instrumentalness          key     liveness     loudness         mode  \\\n",
       "count       1613.000000  1613.000000  1613.000000  1613.000000  1613.000000   \n",
       "mean           0.134317     5.384377     0.191317    -7.095272     0.619343   \n",
       "std            0.274217     3.653722     0.156071     3.678993     0.485699   \n",
       "min            0.000000     0.000000     0.018800   -31.082000     0.000000   \n",
       "25%            0.000000     2.000000     0.092200    -8.388000     0.000000   \n",
       "50%            0.000088     6.000000     0.125000    -6.298000     1.000000   \n",
       "75%            0.055900     9.000000     0.250000    -4.833000     1.000000   \n",
       "max            0.976000    11.000000     0.969000    -0.718000     1.000000   \n",
       "\n",
       "       speechiness        tempo  time_signature      valence       target  \n",
       "count  1613.000000  1613.000000     1613.000000  1613.000000  1613.000000  \n",
       "mean      0.092119   121.310311        3.975201     0.495891     0.512089  \n",
       "std       0.088007    26.431574        0.247829     0.244267     0.500009  \n",
       "min       0.023100    47.859000        1.000000     0.037300     0.000000  \n",
       "25%       0.037500   100.221000        4.000000     0.298000     0.000000  \n",
       "50%       0.055300   121.241000        4.000000     0.492000     1.000000  \n",
       "75%       0.107000   136.894000        4.000000     0.689000     1.000000  \n",
       "max       0.622000   219.331000        5.000000     0.974000     1.000000  "
      ]
     },
<<<<<<< HEAD
     "execution_count": 8,
=======
     "execution_count": 70,
>>>>>>> 46369d6193687bfa3113b0bb09e9ea33804f2bee
     "metadata": {},
     "output_type": "execute_result"
    }
   ],
   "source": [
    "df_train_stat = df_train.describe()\n",
    "df_train_stat"
   ]
  },
  {
   "cell_type": "code",
<<<<<<< HEAD
   "execution_count": 9,
=======
   "execution_count": 71,
>>>>>>> 46369d6193687bfa3113b0bb09e9ea33804f2bee
   "metadata": {},
   "outputs": [
    {
     "data": {
      "text/plain": [
       "'speechiness'"
      ]
     },
<<<<<<< HEAD
     "execution_count": 9,
=======
     "execution_count": 71,
>>>>>>> 46369d6193687bfa3113b0bb09e9ea33804f2bee
     "metadata": {},
     "output_type": "execute_result"
    }
   ],
   "source": [
    "(df_train.max(numeric_only=True) - df_train.min(numeric_only=True)).sort_values().index[0]"
   ]
  },
  {
   "cell_type": "markdown",
   "metadata": {},
   "source": [
    "type *Markdown* and LaTeX: $ \\alpha ^ 2  $"
   ]
  },
  {
   "cell_type": "markdown",
   "metadata": {
    "nbgrader": {
     "grade": false,
     "grade_id": "cell-b33320bcf667584a",
     "locked": true,
     "schema_version": 3,
     "solution": false
    }
   },
   "source": [
    "#### 1(d) \n",
    "rubric={points:5}\n",
    "\n",
    "Let's focus on the following features:\n",
    "\n",
    "- danceability\n",
    "- tempo\n",
    "- energy\n",
    "- valence\n",
    "\n",
    "For each of these features (in order), produce a histogram that shows the distribution of the feature values in the training set, **separated for positive and negative examples**. \n",
    "By \"positive examples\" we mean target = 1 (user liked the song, positive sentiment) and by \"negative examples\" we mean target = 0 (used disliked the song, negative sentiment). As an example, here is what the histogram would look like for a different feature, loudness:\n",
    "\n"
   ]
  },
  {
   "cell_type": "markdown",
   "metadata": {},
   "source": [
    "<img src='loudness.png' width=\"400\">\n",
    "\n",
    "(You don't have to match all the details exactly, such as colour, but your histograms should look something like this, with a reasonable number of bins to see the shape of the distribution.) As shown above, there are two different histograms, one for target = 0 and one for target = 1, and they are overlaid on top of each other. The histogram above shows that extremely quiet songs tend to be disliked (more blue bars than orange on the left) and very loud songs also tend to be disliked (more blue than orange on the far right).\n",
    "\n",
    "To adhere to the [DRY (Don't Repeat Yourself)](https://en.wikipedia.org/wiki/Don%27t_repeat_yourself) principle, make sure you use a `for` loop for your plotting, rather than repeating the plotting code 4 times. For this to work, I used `plt.show()` at the end of your loop, which draws the figure and resets the canvas for your next plot."
   ]
  },
  {
   "cell_type": "markdown",
   "metadata": {},
   "source": [
    "Here is some code that separates out the dataset into positive and negative examples, to help you get started:"
   ]
  },
  {
   "cell_type": "code",
<<<<<<< HEAD
   "execution_count": 10,
=======
   "execution_count": 72,
>>>>>>> 46369d6193687bfa3113b0bb09e9ea33804f2bee
   "metadata": {},
   "outputs": [],
   "source": [
    "negative_examples = df_train.query(\"target == 0\")\n",
    "positive_examples = df_train.query(\"target == 1\")"
   ]
  },
  {
   "cell_type": "code",
<<<<<<< HEAD
   "execution_count": 11,
=======
   "execution_count": 73,
>>>>>>> 46369d6193687bfa3113b0bb09e9ea33804f2bee
   "metadata": {},
   "outputs": [],
   "source": [
    "cols = ['loudness','danceability','tempo','energy','valence']\n"
   ]
  },
  {
   "cell_type": "code",
   "execution_count": null,
   "metadata": {},
   "outputs": [],
   "source": []
  },
  {
   "cell_type": "code",
<<<<<<< HEAD
   "execution_count": 14,
=======
   "execution_count": 74,
>>>>>>> 46369d6193687bfa3113b0bb09e9ea33804f2bee
   "metadata": {},
   "outputs": [
    {
     "data": {
      "image/png": "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\n",
      "text/plain": [
       "<Figure size 640x480 with 1 Axes>"
      ]
     },
     "metadata": {},
     "output_type": "display_data"
    },
    {
     "data": {
      "image/png": "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\n",
      "text/plain": [
       "<Figure size 640x480 with 1 Axes>"
      ]
     },
     "metadata": {},
     "output_type": "display_data"
    },
    {
     "data": {
      "image/png": "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\n",
      "text/plain": [
       "<Figure size 640x480 with 1 Axes>"
      ]
     },
     "metadata": {},
     "output_type": "display_data"
    },
    {
     "data": {
      "image/png": "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\n",
      "text/plain": [
       "<Figure size 640x480 with 1 Axes>"
      ]
     },
     "metadata": {},
     "output_type": "display_data"
    },
    {
     "data": {
      "image/png": "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\n",
      "text/plain": [
       "<Figure size 640x480 with 1 Axes>"
      ]
     },
     "metadata": {},
     "output_type": "display_data"
    }
   ],
   "source": [
    "for i in cols:\n",
    "    plt.hist(negative_examples[i],bins=30)\n",
    "    plt.hist(positive_examples[i],alpha=0.5,bins=30)\n",
    "    plt.title(i)\n",
    "    plt.legend(('negative','positive'))\n",
    "    plt.show()\n",
    "\n",
    "    "
   ]
  },
  {
   "cell_type": "markdown",
   "metadata": {},
   "source": []
  },
  {
   "cell_type": "markdown",
   "metadata": {},
   "source": [
    "#### 1(e)\n",
    "rubric={points:4}\n",
    "\n",
    "Let's say you had to make a decision stump (decision tree with depth 1), _by hand_, to predict the target class. Just from looking at the plots above, describe a reasonable split (feature name and threshold) and what class you would predict in the two cases. For example, in the loudness histogram provided earlier on, it seems that very large values of loudness are generally disliked (more blue on the right side of the histogram), so you might answer something like this: \"A reasonable split would be to predict 0 if loudness > -5 (and predict 1 otherwise).\""
   ]
  },
  {
   "cell_type": "code",
<<<<<<< HEAD
   "execution_count": 132,
=======
   "execution_count": 75,
>>>>>>> 46369d6193687bfa3113b0bb09e9ea33804f2bee
   "metadata": {},
   "outputs": [],
   "source": [
    "# as per graph shown ubove from those graphs we can use dancebility feature for classification \n",
    "\n",
    "# and threshold value should be  ->  0.6 \n",
    "\n",
    "#                                 danceability  < 0.6    -->  negative\n",
    "#                                 danceability  > 0.6    -->  positive\n"
   ]
  },
  {
   "cell_type": "markdown",
   "metadata": {},
   "source": []
  },
  {
   "cell_type": "markdown",
   "metadata": {},
   "source": [
    "#### 1(f)\n",
    "rubric={points:2}\n",
    "\n",
    "Let's say that, for a particular feature, the histograms of that feature are identical for the two target classes. Does that mean the feature is not useful for predicting the target class?\n",
    "\n"
   ]
  },
  {
   "cell_type": "code",
<<<<<<< HEAD
   "execution_count": 133,
=======
   "execution_count": 76,
>>>>>>> 46369d6193687bfa3113b0bb09e9ea33804f2bee
   "metadata": {},
   "outputs": [],
   "source": [
    "# Yes, this selected features from histogram is not useful when we predicting target class because in histogram there are so \n",
    "# many  values are present in favour of '< 0.6' but they belongs to postive class rather then  negative"
   ]
  },
  {
   "cell_type": "markdown",
   "metadata": {
    "nbgrader": {
     "grade": false,
     "grade_id": "cell-86f9e0c649669daf",
     "locked": true,
     "schema_version": 3,
     "solution": false,
     "task": false
    }
   },
   "source": [
    "#### 1(g) \n",
    "rubric={points:2}\n",
    "\n",
    "Note that the dataset includes two free text features labeled `song_title` and `artist`:"
   ]
  },
  {
   "cell_type": "code",
<<<<<<< HEAD
   "execution_count": 134,
=======
   "execution_count": 77,
>>>>>>> 46369d6193687bfa3113b0bb09e9ea33804f2bee
   "metadata": {},
   "outputs": [
    {
     "data": {
      "text/html": [
       "<div>\n",
       "<style scoped>\n",
       "    .dataframe tbody tr th:only-of-type {\n",
       "        vertical-align: middle;\n",
       "    }\n",
       "\n",
       "    .dataframe tbody tr th {\n",
       "        vertical-align: top;\n",
       "    }\n",
       "\n",
       "    .dataframe thead th {\n",
       "        text-align: right;\n",
       "    }\n",
       "</style>\n",
       "<table border=\"1\" class=\"dataframe\">\n",
       "  <thead>\n",
       "    <tr style=\"text-align: right;\">\n",
       "      <th></th>\n",
       "      <th>song_title</th>\n",
       "      <th>artist</th>\n",
       "    </tr>\n",
       "  </thead>\n",
       "  <tbody>\n",
       "    <tr>\n",
       "      <th>260</th>\n",
       "      <td>WTF (Where They From) [feat. Pharrell Williams]</td>\n",
       "      <td>Missy Elliott</td>\n",
       "    </tr>\n",
       "    <tr>\n",
       "      <th>1286</th>\n",
       "      <td>10,000 Reasons (Bless the Lord) [Radio Version]</td>\n",
       "      <td>Matt Redman</td>\n",
       "    </tr>\n",
       "    <tr>\n",
       "      <th>1344</th>\n",
       "      <td>American Dream</td>\n",
       "      <td>Chelsea Grin</td>\n",
       "    </tr>\n",
       "    <tr>\n",
       "      <th>1197</th>\n",
       "      <td>Feel This Moment</td>\n",
       "      <td>Pitbull</td>\n",
       "    </tr>\n",
       "    <tr>\n",
       "      <th>119</th>\n",
       "      <td>Trap Queen</td>\n",
       "      <td>Fetty Wap</td>\n",
       "    </tr>\n",
       "    <tr>\n",
       "      <th>...</th>\n",
       "      <td>...</td>\n",
       "      <td>...</td>\n",
       "    </tr>\n",
       "    <tr>\n",
       "      <th>1833</th>\n",
       "      <td>Ultimate</td>\n",
       "      <td>Lindsay Lohan</td>\n",
       "    </tr>\n",
       "    <tr>\n",
       "      <th>799</th>\n",
       "      <td>18 With A Bullet</td>\n",
       "      <td>Pete Wingfield</td>\n",
       "    </tr>\n",
       "    <tr>\n",
       "      <th>124</th>\n",
       "      <td>Danger and Dread</td>\n",
       "      <td>Brown Bird</td>\n",
       "    </tr>\n",
       "    <tr>\n",
       "      <th>538</th>\n",
       "      <td>Pale Flesh</td>\n",
       "      <td>Crystal Castles</td>\n",
       "    </tr>\n",
       "    <tr>\n",
       "      <th>1012</th>\n",
       "      <td>Bad Boys (feat. Ghetts and J Hus)</td>\n",
       "      <td>Stormzy</td>\n",
       "    </tr>\n",
       "  </tbody>\n",
       "</table>\n",
       "<p>1613 rows × 2 columns</p>\n",
       "</div>"
      ],
      "text/plain": [
       "                                           song_title           artist\n",
       "260   WTF (Where They From) [feat. Pharrell Williams]    Missy Elliott\n",
       "1286  10,000 Reasons (Bless the Lord) [Radio Version]      Matt Redman\n",
       "1344                                   American Dream     Chelsea Grin\n",
       "1197                                 Feel This Moment          Pitbull\n",
       "119                                        Trap Queen        Fetty Wap\n",
       "...                                               ...              ...\n",
       "1833                                         Ultimate    Lindsay Lohan\n",
       "799                                  18 With A Bullet   Pete Wingfield\n",
       "124                                  Danger and Dread       Brown Bird\n",
       "538                                        Pale Flesh  Crystal Castles\n",
       "1012                Bad Boys (feat. Ghetts and J Hus)          Stormzy\n",
       "\n",
       "[1613 rows x 2 columns]"
      ]
     },
<<<<<<< HEAD
     "execution_count": 134,
=======
     "execution_count": 77,
>>>>>>> 46369d6193687bfa3113b0bb09e9ea33804f2bee
     "metadata": {},
     "output_type": "execute_result"
    }
   ],
   "source": [
    "df_train[[\"song_title\", \"artist\"]]"
   ]
  },
  {
   "cell_type": "code",
   "execution_count": null,
   "metadata": {},
   "outputs": [],
   "source": []
  },
  {
   "cell_type": "markdown",
   "metadata": {},
   "source": [
    "- Do you think these features could be useful in predicting whether the user liked the song or not? \n",
    "- Would there be any difficulty in using them in your model?   "
   ]
  },
  {
   "cell_type": "code",
   "execution_count": 90,
   "metadata": {},
   "outputs": [],
   "source": [
    "# these feature are not properly distributed so that we can't use this features\n",
    "# as we can see above the columns values are string values that is one of reason that we can't use those columnsb"
   ]
  },
  {
   "cell_type": "code",
   "execution_count": 91,
   "metadata": {
    "nbgrader": {
     "grade": true,
     "grade_id": "cell-dce517defdc16360",
     "locked": false,
     "points": 0,
     "schema_version": 3,
     "solution": true,
     "task": false
    }
   },
   "outputs": [
    {
     "ename": "ValueError",
     "evalue": "could not convert string to float: 'WTF (Where They From) [feat. Pharrell Williams]'",
     "output_type": "error",
     "traceback": [
      "\u001b[1;31m---------------------------------------------------------------------------\u001b[0m",
      "\u001b[1;31mValueError\u001b[0m                                Traceback (most recent call last)",
      "\u001b[1;32m~\\AppData\\Local\\Temp\\ipykernel_3480\\3742314754.py\u001b[0m in \u001b[0;36m<module>\u001b[1;34m\u001b[0m\n\u001b[1;32m----> 1\u001b[1;33m \u001b[0mDecisionTreeClassifier\u001b[0m\u001b[1;33m(\u001b[0m\u001b[1;33m)\u001b[0m\u001b[1;33m.\u001b[0m\u001b[0mfit\u001b[0m\u001b[1;33m(\u001b[0m\u001b[0mdf_train\u001b[0m\u001b[1;33m.\u001b[0m\u001b[0mdrop\u001b[0m\u001b[1;33m(\u001b[0m\u001b[0mcolumns\u001b[0m\u001b[1;33m=\u001b[0m\u001b[1;33m[\u001b[0m\u001b[1;34m'target'\u001b[0m\u001b[1;33m]\u001b[0m\u001b[1;33m)\u001b[0m\u001b[1;33m,\u001b[0m\u001b[0mdf_train\u001b[0m\u001b[1;33m[\u001b[0m\u001b[1;34m'target'\u001b[0m\u001b[1;33m]\u001b[0m\u001b[1;33m)\u001b[0m\u001b[1;33m\u001b[0m\u001b[1;33m\u001b[0m\u001b[0m\n\u001b[0m\u001b[0;32m      2\u001b[0m \u001b[1;33m\u001b[0m\u001b[0m\n\u001b[0;32m      3\u001b[0m \u001b[1;31m# -> if we use it wiil give us fantastic error\u001b[0m\u001b[1;33m\u001b[0m\u001b[1;33m\u001b[0m\u001b[0m\n",
      "\u001b[1;32m~\\AppData\\Roaming\\Python\\Python39\\site-packages\\sklearn\\tree\\_classes.py\u001b[0m in \u001b[0;36mfit\u001b[1;34m(self, X, y, sample_weight, check_input)\u001b[0m\n\u001b[0;32m    967\u001b[0m         \"\"\"\n\u001b[0;32m    968\u001b[0m \u001b[1;33m\u001b[0m\u001b[0m\n\u001b[1;32m--> 969\u001b[1;33m         super().fit(\n\u001b[0m\u001b[0;32m    970\u001b[0m             \u001b[0mX\u001b[0m\u001b[1;33m,\u001b[0m\u001b[1;33m\u001b[0m\u001b[1;33m\u001b[0m\u001b[0m\n\u001b[0;32m    971\u001b[0m             \u001b[0my\u001b[0m\u001b[1;33m,\u001b[0m\u001b[1;33m\u001b[0m\u001b[1;33m\u001b[0m\u001b[0m\n",
      "\u001b[1;32m~\\AppData\\Roaming\\Python\\Python39\\site-packages\\sklearn\\tree\\_classes.py\u001b[0m in \u001b[0;36mfit\u001b[1;34m(self, X, y, sample_weight, check_input)\u001b[0m\n\u001b[0;32m    170\u001b[0m             \u001b[0mcheck_X_params\u001b[0m \u001b[1;33m=\u001b[0m \u001b[0mdict\u001b[0m\u001b[1;33m(\u001b[0m\u001b[0mdtype\u001b[0m\u001b[1;33m=\u001b[0m\u001b[0mDTYPE\u001b[0m\u001b[1;33m,\u001b[0m \u001b[0maccept_sparse\u001b[0m\u001b[1;33m=\u001b[0m\u001b[1;34m\"csc\"\u001b[0m\u001b[1;33m)\u001b[0m\u001b[1;33m\u001b[0m\u001b[1;33m\u001b[0m\u001b[0m\n\u001b[0;32m    171\u001b[0m             \u001b[0mcheck_y_params\u001b[0m \u001b[1;33m=\u001b[0m \u001b[0mdict\u001b[0m\u001b[1;33m(\u001b[0m\u001b[0mensure_2d\u001b[0m\u001b[1;33m=\u001b[0m\u001b[1;32mFalse\u001b[0m\u001b[1;33m,\u001b[0m \u001b[0mdtype\u001b[0m\u001b[1;33m=\u001b[0m\u001b[1;32mNone\u001b[0m\u001b[1;33m)\u001b[0m\u001b[1;33m\u001b[0m\u001b[1;33m\u001b[0m\u001b[0m\n\u001b[1;32m--> 172\u001b[1;33m             X, y = self._validate_data(\n\u001b[0m\u001b[0;32m    173\u001b[0m                 \u001b[0mX\u001b[0m\u001b[1;33m,\u001b[0m \u001b[0my\u001b[0m\u001b[1;33m,\u001b[0m \u001b[0mvalidate_separately\u001b[0m\u001b[1;33m=\u001b[0m\u001b[1;33m(\u001b[0m\u001b[0mcheck_X_params\u001b[0m\u001b[1;33m,\u001b[0m \u001b[0mcheck_y_params\u001b[0m\u001b[1;33m)\u001b[0m\u001b[1;33m\u001b[0m\u001b[1;33m\u001b[0m\u001b[0m\n\u001b[0;32m    174\u001b[0m             )\n",
      "\u001b[1;32m~\\AppData\\Roaming\\Python\\Python39\\site-packages\\sklearn\\base.py\u001b[0m in \u001b[0;36m_validate_data\u001b[1;34m(self, X, y, reset, validate_separately, **check_params)\u001b[0m\n\u001b[0;32m    589\u001b[0m                 \u001b[1;32mif\u001b[0m \u001b[1;34m\"estimator\"\u001b[0m \u001b[1;32mnot\u001b[0m \u001b[1;32min\u001b[0m \u001b[0mcheck_X_params\u001b[0m\u001b[1;33m:\u001b[0m\u001b[1;33m\u001b[0m\u001b[1;33m\u001b[0m\u001b[0m\n\u001b[0;32m    590\u001b[0m                     \u001b[0mcheck_X_params\u001b[0m \u001b[1;33m=\u001b[0m \u001b[1;33m{\u001b[0m\u001b[1;33m**\u001b[0m\u001b[0mdefault_check_params\u001b[0m\u001b[1;33m,\u001b[0m \u001b[1;33m**\u001b[0m\u001b[0mcheck_X_params\u001b[0m\u001b[1;33m}\u001b[0m\u001b[1;33m\u001b[0m\u001b[1;33m\u001b[0m\u001b[0m\n\u001b[1;32m--> 591\u001b[1;33m                 \u001b[0mX\u001b[0m \u001b[1;33m=\u001b[0m \u001b[0mcheck_array\u001b[0m\u001b[1;33m(\u001b[0m\u001b[0mX\u001b[0m\u001b[1;33m,\u001b[0m \u001b[0minput_name\u001b[0m\u001b[1;33m=\u001b[0m\u001b[1;34m\"X\"\u001b[0m\u001b[1;33m,\u001b[0m \u001b[1;33m**\u001b[0m\u001b[0mcheck_X_params\u001b[0m\u001b[1;33m)\u001b[0m\u001b[1;33m\u001b[0m\u001b[1;33m\u001b[0m\u001b[0m\n\u001b[0m\u001b[0;32m    592\u001b[0m                 \u001b[1;32mif\u001b[0m \u001b[1;34m\"estimator\"\u001b[0m \u001b[1;32mnot\u001b[0m \u001b[1;32min\u001b[0m \u001b[0mcheck_y_params\u001b[0m\u001b[1;33m:\u001b[0m\u001b[1;33m\u001b[0m\u001b[1;33m\u001b[0m\u001b[0m\n\u001b[0;32m    593\u001b[0m                     \u001b[0mcheck_y_params\u001b[0m \u001b[1;33m=\u001b[0m \u001b[1;33m{\u001b[0m\u001b[1;33m**\u001b[0m\u001b[0mdefault_check_params\u001b[0m\u001b[1;33m,\u001b[0m \u001b[1;33m**\u001b[0m\u001b[0mcheck_y_params\u001b[0m\u001b[1;33m}\u001b[0m\u001b[1;33m\u001b[0m\u001b[1;33m\u001b[0m\u001b[0m\n",
      "\u001b[1;32m~\\AppData\\Roaming\\Python\\Python39\\site-packages\\sklearn\\utils\\validation.py\u001b[0m in \u001b[0;36mcheck_array\u001b[1;34m(array, accept_sparse, accept_large_sparse, dtype, order, copy, force_all_finite, ensure_2d, allow_nd, ensure_min_samples, ensure_min_features, estimator, input_name)\u001b[0m\n\u001b[0;32m    854\u001b[0m                     \u001b[0marray\u001b[0m \u001b[1;33m=\u001b[0m \u001b[0marray\u001b[0m\u001b[1;33m.\u001b[0m\u001b[0mastype\u001b[0m\u001b[1;33m(\u001b[0m\u001b[0mdtype\u001b[0m\u001b[1;33m,\u001b[0m \u001b[0mcasting\u001b[0m\u001b[1;33m=\u001b[0m\u001b[1;34m\"unsafe\"\u001b[0m\u001b[1;33m,\u001b[0m \u001b[0mcopy\u001b[0m\u001b[1;33m=\u001b[0m\u001b[1;32mFalse\u001b[0m\u001b[1;33m)\u001b[0m\u001b[1;33m\u001b[0m\u001b[1;33m\u001b[0m\u001b[0m\n\u001b[0;32m    855\u001b[0m                 \u001b[1;32melse\u001b[0m\u001b[1;33m:\u001b[0m\u001b[1;33m\u001b[0m\u001b[1;33m\u001b[0m\u001b[0m\n\u001b[1;32m--> 856\u001b[1;33m                     \u001b[0marray\u001b[0m \u001b[1;33m=\u001b[0m \u001b[0mnp\u001b[0m\u001b[1;33m.\u001b[0m\u001b[0masarray\u001b[0m\u001b[1;33m(\u001b[0m\u001b[0marray\u001b[0m\u001b[1;33m,\u001b[0m \u001b[0morder\u001b[0m\u001b[1;33m=\u001b[0m\u001b[0morder\u001b[0m\u001b[1;33m,\u001b[0m \u001b[0mdtype\u001b[0m\u001b[1;33m=\u001b[0m\u001b[0mdtype\u001b[0m\u001b[1;33m)\u001b[0m\u001b[1;33m\u001b[0m\u001b[1;33m\u001b[0m\u001b[0m\n\u001b[0m\u001b[0;32m    857\u001b[0m             \u001b[1;32mexcept\u001b[0m \u001b[0mComplexWarning\u001b[0m \u001b[1;32mas\u001b[0m \u001b[0mcomplex_warning\u001b[0m\u001b[1;33m:\u001b[0m\u001b[1;33m\u001b[0m\u001b[1;33m\u001b[0m\u001b[0m\n\u001b[0;32m    858\u001b[0m                 raise ValueError(\n",
      "\u001b[1;32m~\\AppData\\Roaming\\Python\\Python39\\site-packages\\pandas\\core\\generic.py\u001b[0m in \u001b[0;36m__array__\u001b[1;34m(self, dtype)\u001b[0m\n\u001b[0;32m   2062\u001b[0m \u001b[1;33m\u001b[0m\u001b[0m\n\u001b[0;32m   2063\u001b[0m     \u001b[1;32mdef\u001b[0m \u001b[0m__array__\u001b[0m\u001b[1;33m(\u001b[0m\u001b[0mself\u001b[0m\u001b[1;33m,\u001b[0m \u001b[0mdtype\u001b[0m\u001b[1;33m:\u001b[0m \u001b[0mnpt\u001b[0m\u001b[1;33m.\u001b[0m\u001b[0mDTypeLike\u001b[0m \u001b[1;33m|\u001b[0m \u001b[1;32mNone\u001b[0m \u001b[1;33m=\u001b[0m \u001b[1;32mNone\u001b[0m\u001b[1;33m)\u001b[0m \u001b[1;33m->\u001b[0m \u001b[0mnp\u001b[0m\u001b[1;33m.\u001b[0m\u001b[0mndarray\u001b[0m\u001b[1;33m:\u001b[0m\u001b[1;33m\u001b[0m\u001b[1;33m\u001b[0m\u001b[0m\n\u001b[1;32m-> 2064\u001b[1;33m         \u001b[1;32mreturn\u001b[0m \u001b[0mnp\u001b[0m\u001b[1;33m.\u001b[0m\u001b[0masarray\u001b[0m\u001b[1;33m(\u001b[0m\u001b[0mself\u001b[0m\u001b[1;33m.\u001b[0m\u001b[0m_values\u001b[0m\u001b[1;33m,\u001b[0m \u001b[0mdtype\u001b[0m\u001b[1;33m=\u001b[0m\u001b[0mdtype\u001b[0m\u001b[1;33m)\u001b[0m\u001b[1;33m\u001b[0m\u001b[1;33m\u001b[0m\u001b[0m\n\u001b[0m\u001b[0;32m   2065\u001b[0m \u001b[1;33m\u001b[0m\u001b[0m\n\u001b[0;32m   2066\u001b[0m     def __array_wrap__(\n",
      "\u001b[1;31mValueError\u001b[0m: could not convert string to float: 'WTF (Where They From) [feat. Pharrell Williams]'"
     ]
    }
   ],
   "source": [
    "DecisionTreeClassifier().fit(df_train.drop(columns=['target']),df_train['target'])\n",
    "\n",
    "# -> if we use it wiil give us fantastic error"
   ]
  },
  {
   "cell_type": "markdown",
   "metadata": {},
   "source": [
    "<br><br>"
   ]
  },
  {
   "cell_type": "markdown",
   "metadata": {
    "nbgrader": {
     "grade": false,
     "grade_id": "cell-1440876fbc49ead5",
     "locked": true,
     "schema_version": 3,
     "solution": false,
     "task": false
    }
   },
   "source": [
    "## Exercise 2: Using sklearn to build a decision tree classifier"
   ]
  },
  {
   "cell_type": "markdown",
   "metadata": {
    "nbgrader": {
     "grade": false,
     "grade_id": "cell-706403e72adade4b",
     "locked": true,
     "schema_version": 3,
     "solution": false
    }
   },
   "source": [
    "#### 2(a) \n",
    "rubric={points:2}\n",
    "\n",
    "- Create `X_train` and `y_train` and `X_test` and `y_test` from `df_train` and `df_test` above. Skip the `song_title` and `artist` features for now. \n",
    "- Fit a `DecisionTreeClassifier` on the train set."
   ]
  },
  {
   "cell_type": "code",
<<<<<<< HEAD
   "execution_count": 135,
=======
   "execution_count": 92,
>>>>>>> 46369d6193687bfa3113b0bb09e9ea33804f2bee
   "metadata": {},
   "outputs": [],
   "source": [
    "# df_train.head()"
   ]
  },
  {
   "cell_type": "code",
<<<<<<< HEAD
   "execution_count": 136,
=======
   "execution_count": 93,
>>>>>>> 46369d6193687bfa3113b0bb09e9ea33804f2bee
   "metadata": {
    "nbgrader": {
     "grade": true,
     "grade_id": "cell-859d4a70667da85d",
     "locked": false,
     "points": 0,
     "schema_version": 3,
     "solution": true,
     "task": false
    }
   },
   "outputs": [
    {
     "data": {
      "text/html": [
       "<style>#sk-container-id-1 {color: black;background-color: white;}#sk-container-id-1 pre{padding: 0;}#sk-container-id-1 div.sk-toggleable {background-color: white;}#sk-container-id-1 label.sk-toggleable__label {cursor: pointer;display: block;width: 100%;margin-bottom: 0;padding: 0.3em;box-sizing: border-box;text-align: center;}#sk-container-id-1 label.sk-toggleable__label-arrow:before {content: \"▸\";float: left;margin-right: 0.25em;color: #696969;}#sk-container-id-1 label.sk-toggleable__label-arrow:hover:before {color: black;}#sk-container-id-1 div.sk-estimator:hover label.sk-toggleable__label-arrow:before {color: black;}#sk-container-id-1 div.sk-toggleable__content {max-height: 0;max-width: 0;overflow: hidden;text-align: left;background-color: #f0f8ff;}#sk-container-id-1 div.sk-toggleable__content pre {margin: 0.2em;color: black;border-radius: 0.25em;background-color: #f0f8ff;}#sk-container-id-1 input.sk-toggleable__control:checked~div.sk-toggleable__content {max-height: 200px;max-width: 100%;overflow: auto;}#sk-container-id-1 input.sk-toggleable__control:checked~label.sk-toggleable__label-arrow:before {content: \"▾\";}#sk-container-id-1 div.sk-estimator input.sk-toggleable__control:checked~label.sk-toggleable__label {background-color: #d4ebff;}#sk-container-id-1 div.sk-label input.sk-toggleable__control:checked~label.sk-toggleable__label {background-color: #d4ebff;}#sk-container-id-1 input.sk-hidden--visually {border: 0;clip: rect(1px 1px 1px 1px);clip: rect(1px, 1px, 1px, 1px);height: 1px;margin: -1px;overflow: hidden;padding: 0;position: absolute;width: 1px;}#sk-container-id-1 div.sk-estimator {font-family: monospace;background-color: #f0f8ff;border: 1px dotted black;border-radius: 0.25em;box-sizing: border-box;margin-bottom: 0.5em;}#sk-container-id-1 div.sk-estimator:hover {background-color: #d4ebff;}#sk-container-id-1 div.sk-parallel-item::after {content: \"\";width: 100%;border-bottom: 1px solid gray;flex-grow: 1;}#sk-container-id-1 div.sk-label:hover label.sk-toggleable__label {background-color: #d4ebff;}#sk-container-id-1 div.sk-serial::before {content: \"\";position: absolute;border-left: 1px solid gray;box-sizing: border-box;top: 0;bottom: 0;left: 50%;z-index: 0;}#sk-container-id-1 div.sk-serial {display: flex;flex-direction: column;align-items: center;background-color: white;padding-right: 0.2em;padding-left: 0.2em;position: relative;}#sk-container-id-1 div.sk-item {position: relative;z-index: 1;}#sk-container-id-1 div.sk-parallel {display: flex;align-items: stretch;justify-content: center;background-color: white;position: relative;}#sk-container-id-1 div.sk-item::before, #sk-container-id-1 div.sk-parallel-item::before {content: \"\";position: absolute;border-left: 1px solid gray;box-sizing: border-box;top: 0;bottom: 0;left: 50%;z-index: -1;}#sk-container-id-1 div.sk-parallel-item {display: flex;flex-direction: column;z-index: 1;position: relative;background-color: white;}#sk-container-id-1 div.sk-parallel-item:first-child::after {align-self: flex-end;width: 50%;}#sk-container-id-1 div.sk-parallel-item:last-child::after {align-self: flex-start;width: 50%;}#sk-container-id-1 div.sk-parallel-item:only-child::after {width: 0;}#sk-container-id-1 div.sk-dashed-wrapped {border: 1px dashed gray;margin: 0 0.4em 0.5em 0.4em;box-sizing: border-box;padding-bottom: 0.4em;background-color: white;}#sk-container-id-1 div.sk-label label {font-family: monospace;font-weight: bold;display: inline-block;line-height: 1.2em;}#sk-container-id-1 div.sk-label-container {text-align: center;}#sk-container-id-1 div.sk-container {/* jupyter's `normalize.less` sets `[hidden] { display: none; }` but bootstrap.min.css set `[hidden] { display: none !important; }` so we also need the `!important` here to be able to override the default hidden behavior on the sphinx rendered scikit-learn.org. See: https://github.com/scikit-learn/scikit-learn/issues/21755 */display: inline-block !important;position: relative;}#sk-container-id-1 div.sk-text-repr-fallback {display: none;}</style><div id=\"sk-container-id-1\" class=\"sk-top-container\"><div class=\"sk-text-repr-fallback\"><pre>DecisionTreeClassifier()</pre><b>In a Jupyter environment, please rerun this cell to show the HTML representation or trust the notebook. <br />On GitHub, the HTML representation is unable to render, please try loading this page with nbviewer.org.</b></div><div class=\"sk-container\" hidden><div class=\"sk-item\"><div class=\"sk-estimator sk-toggleable\"><input class=\"sk-toggleable__control sk-hidden--visually\" id=\"sk-estimator-id-1\" type=\"checkbox\" checked><label for=\"sk-estimator-id-1\" class=\"sk-toggleable__label sk-toggleable__label-arrow\">DecisionTreeClassifier</label><div class=\"sk-toggleable__content\"><pre>DecisionTreeClassifier()</pre></div></div></div></div></div>"
      ],
      "text/plain": [
       "DecisionTreeClassifier()"
      ]
     },
<<<<<<< HEAD
     "execution_count": 136,
=======
     "execution_count": 93,
>>>>>>> 46369d6193687bfa3113b0bb09e9ea33804f2bee
     "metadata": {},
     "output_type": "execute_result"
    }
   ],
   "source": [
    "\n",
    "x_train,y_train = df_train.drop(columns=['song_title','artist','target']),df_train['target']\n",
    "\n",
    "x_test,y_test = df_test.drop(columns=['song_title','artist','target']),df_test['target']\n",
    "\n",
    "tree_model = DecisionTreeClassifier() \n",
    "\n",
    "tree_model.fit(x_train,y_train)"
   ]
  },
  {
   "cell_type": "markdown",
   "metadata": {
    "nbgrader": {
     "grade": false,
     "grade_id": "cell-43ac6f91bc3bd9da",
     "locked": true,
     "schema_version": 3,
     "solution": false
    }
   },
   "source": [
    "#### 2(b)\n",
    "rubric={points:2}\n",
    "\n",
    "Use the `predict` method to predict the class of the first example in your `X_train`. Is the prediction correct? That is, does it match with the corresponding class in `y_train`?  \n",
    "\n",
    "> Hint: you can grab the first example with `X_train.iloc[[0]]`."
   ]
  },
  {
   "cell_type": "code",
<<<<<<< HEAD
   "execution_count": 137,
=======
   "execution_count": 94,
>>>>>>> 46369d6193687bfa3113b0bb09e9ea33804f2bee
   "metadata": {},
   "outputs": [
    {
     "data": {
      "text/plain": [
       "1286    0\n",
       "Name: target, dtype: int64"
      ]
     },
<<<<<<< HEAD
     "execution_count": 137,
=======
     "execution_count": 94,
>>>>>>> 46369d6193687bfa3113b0bb09e9ea33804f2bee
     "metadata": {},
     "output_type": "execute_result"
    }
   ],
   "source": [
    "y_train.iloc[[1]]"
   ]
  },
  {
   "cell_type": "code",
<<<<<<< HEAD
   "execution_count": 138,
=======
   "execution_count": 95,
>>>>>>> 46369d6193687bfa3113b0bb09e9ea33804f2bee
   "metadata": {},
   "outputs": [
    {
     "data": {
      "text/plain": [
       "array([0], dtype=int64)"
      ]
     },
<<<<<<< HEAD
     "execution_count": 138,
=======
     "execution_count": 95,
>>>>>>> 46369d6193687bfa3113b0bb09e9ea33804f2bee
     "metadata": {},
     "output_type": "execute_result"
    }
   ],
   "source": [
    "tree_model.predict(x_train.iloc[[1]])"
   ]
  },
  {
   "cell_type": "markdown",
   "metadata": {},
   "source": []
  },
  {
   "cell_type": "markdown",
   "metadata": {},
   "source": [
    "#### 2(c) \n",
    "rubric={points:2}\n",
    "\n",
    "Use  **`cross_val_score`** function on your training set to compute the 10-fold cross-validation accuracy of your tree. "
   ]
  },
  {
   "cell_type": "code",
<<<<<<< HEAD
   "execution_count": 139,
=======
   "execution_count": 96,
>>>>>>> 46369d6193687bfa3113b0bb09e9ea33804f2bee
   "metadata": {},
   "outputs": [
    {
     "data": {
      "text/html": [
       "<div>\n",
       "<style scoped>\n",
       "    .dataframe tbody tr th:only-of-type {\n",
       "        vertical-align: middle;\n",
       "    }\n",
       "\n",
       "    .dataframe tbody tr th {\n",
       "        vertical-align: top;\n",
       "    }\n",
       "\n",
       "    .dataframe thead th {\n",
       "        text-align: right;\n",
       "    }\n",
       "</style>\n",
       "<table border=\"1\" class=\"dataframe\">\n",
       "  <thead>\n",
       "    <tr style=\"text-align: right;\">\n",
       "      <th></th>\n",
       "      <th>0</th>\n",
       "    </tr>\n",
       "  </thead>\n",
       "  <tbody>\n",
       "    <tr>\n",
       "      <th>0</th>\n",
<<<<<<< HEAD
       "      <td>0.697531</td>\n",
=======
       "      <td>0.691358</td>\n",
>>>>>>> 46369d6193687bfa3113b0bb09e9ea33804f2bee
       "    </tr>\n",
       "    <tr>\n",
       "      <th>1</th>\n",
       "      <td>0.629630</td>\n",
       "    </tr>\n",
       "    <tr>\n",
       "      <th>2</th>\n",
<<<<<<< HEAD
       "      <td>0.660494</td>\n",
       "    </tr>\n",
       "    <tr>\n",
       "      <th>3</th>\n",
       "      <td>0.701863</td>\n",
       "    </tr>\n",
       "    <tr>\n",
       "      <th>4</th>\n",
       "      <td>0.708075</td>\n",
       "    </tr>\n",
       "    <tr>\n",
       "      <th>5</th>\n",
       "      <td>0.621118</td>\n",
=======
       "      <td>0.691358</td>\n",
       "    </tr>\n",
       "    <tr>\n",
       "      <th>3</th>\n",
       "      <td>0.720497</td>\n",
       "    </tr>\n",
       "    <tr>\n",
       "      <th>4</th>\n",
       "      <td>0.732919</td>\n",
       "    </tr>\n",
       "    <tr>\n",
       "      <th>5</th>\n",
       "      <td>0.571429</td>\n",
>>>>>>> 46369d6193687bfa3113b0bb09e9ea33804f2bee
       "    </tr>\n",
       "    <tr>\n",
       "      <th>6</th>\n",
       "      <td>0.689441</td>\n",
       "    </tr>\n",
       "    <tr>\n",
       "      <th>7</th>\n",
       "      <td>0.739130</td>\n",
       "    </tr>\n",
       "    <tr>\n",
       "      <th>8</th>\n",
       "      <td>0.639752</td>\n",
       "    </tr>\n",
       "    <tr>\n",
       "      <th>9</th>\n",
<<<<<<< HEAD
       "      <td>0.708075</td>\n",
=======
       "      <td>0.701863</td>\n",
>>>>>>> 46369d6193687bfa3113b0bb09e9ea33804f2bee
       "    </tr>\n",
       "  </tbody>\n",
       "</table>\n",
       "</div>"
      ],
      "text/plain": [
       "          0\n",
<<<<<<< HEAD
       "0  0.697531\n",
       "1  0.635802\n",
       "2  0.660494\n",
       "3  0.701863\n",
       "4  0.708075\n",
       "5  0.621118\n",
       "6  0.726708\n",
       "7  0.739130\n",
       "8  0.639752\n",
       "9  0.708075"
      ]
     },
     "execution_count": 139,
=======
       "0  0.691358\n",
       "1  0.629630\n",
       "2  0.691358\n",
       "3  0.720497\n",
       "4  0.732919\n",
       "5  0.571429\n",
       "6  0.689441\n",
       "7  0.739130\n",
       "8  0.639752\n",
       "9  0.701863"
      ]
     },
     "execution_count": 96,
>>>>>>> 46369d6193687bfa3113b0bb09e9ea33804f2bee
     "metadata": {},
     "output_type": "execute_result"
    }
   ],
   "source": [
    "score = cross_val_score(tree_model,x_train,y_train,cv=10)\n",
    "\n",
    "pd.DataFrame(score)"
   ]
  },
  {
   "cell_type": "markdown",
   "metadata": {},
   "source": [
    "#### 2(d)\n",
    "rubric={points:2}\n",
    "\n",
    "The above is useful, but we would like to see the training accuracy as well. \n",
    "\n",
    "- Compute the 10-fold cross-validation again but this time using the `cross_validate` function with `return_train_score=True`. \n",
    "- Print out both the cross-validation score and the training score.\n",
    "- Is your cross-validation score exactly the same as what you got in the previous part? Very briefly discuss."
   ]
  },
  {
   "cell_type": "code",
<<<<<<< HEAD
   "execution_count": 140,
=======
   "execution_count": 97,
>>>>>>> 46369d6193687bfa3113b0bb09e9ea33804f2bee
   "metadata": {},
   "outputs": [],
   "source": [
    "scores = cross_validate(tree_model,x_train,y_train,cv=10,return_train_score=True)\n",
    "\n",
    "df_scrs= pd.DataFrame(scores)"
   ]
  },
  {
   "cell_type": "code",
<<<<<<< HEAD
   "execution_count": 141,
=======
   "execution_count": 98,
>>>>>>> 46369d6193687bfa3113b0bb09e9ea33804f2bee
   "metadata": {},
   "outputs": [
    {
     "data": {
      "text/html": [
       "<div>\n",
       "<style scoped>\n",
       "    .dataframe tbody tr th:only-of-type {\n",
       "        vertical-align: middle;\n",
       "    }\n",
       "\n",
       "    .dataframe tbody tr th {\n",
       "        vertical-align: top;\n",
       "    }\n",
       "\n",
       "    .dataframe thead th {\n",
       "        text-align: right;\n",
       "    }\n",
       "</style>\n",
       "<table border=\"1\" class=\"dataframe\">\n",
       "  <thead>\n",
       "    <tr style=\"text-align: right;\">\n",
       "      <th></th>\n",
       "      <th>fit_time</th>\n",
       "      <th>score_time</th>\n",
       "      <th>test_score</th>\n",
       "      <th>train_score</th>\n",
       "    </tr>\n",
       "  </thead>\n",
       "  <tbody>\n",
       "    <tr>\n",
       "      <th>0</th>\n",
<<<<<<< HEAD
       "      <td>0.027027</td>\n",
       "      <td>0.002002</td>\n",
       "      <td>0.679012</td>\n",
=======
       "      <td>0.023530</td>\n",
       "      <td>0.002003</td>\n",
       "      <td>0.716049</td>\n",
>>>>>>> 46369d6193687bfa3113b0bb09e9ea33804f2bee
       "      <td>0.999311</td>\n",
       "    </tr>\n",
       "    <tr>\n",
       "      <th>1</th>\n",
<<<<<<< HEAD
       "      <td>0.027003</td>\n",
       "      <td>0.002999</td>\n",
=======
       "      <td>0.022999</td>\n",
       "      <td>0.002001</td>\n",
>>>>>>> 46369d6193687bfa3113b0bb09e9ea33804f2bee
       "      <td>0.635802</td>\n",
       "      <td>0.998622</td>\n",
       "    </tr>\n",
       "    <tr>\n",
       "      <th>2</th>\n",
<<<<<<< HEAD
       "      <td>0.023998</td>\n",
       "      <td>0.004000</td>\n",
       "      <td>0.666667</td>\n",
=======
       "      <td>0.021001</td>\n",
       "      <td>0.002000</td>\n",
       "      <td>0.641975</td>\n",
>>>>>>> 46369d6193687bfa3113b0bb09e9ea33804f2bee
       "      <td>0.999311</td>\n",
       "    </tr>\n",
       "    <tr>\n",
       "      <th>3</th>\n",
<<<<<<< HEAD
       "      <td>0.027002</td>\n",
       "      <td>0.003000</td>\n",
       "      <td>0.720497</td>\n",
=======
       "      <td>0.021003</td>\n",
       "      <td>0.002000</td>\n",
       "      <td>0.714286</td>\n",
>>>>>>> 46369d6193687bfa3113b0bb09e9ea33804f2bee
       "      <td>0.998623</td>\n",
       "    </tr>\n",
       "    <tr>\n",
       "      <th>4</th>\n",
<<<<<<< HEAD
       "      <td>0.025002</td>\n",
       "      <td>0.004000</td>\n",
       "      <td>0.739130</td>\n",
=======
       "      <td>0.022015</td>\n",
       "      <td>0.002000</td>\n",
       "      <td>0.726708</td>\n",
       "      <td>0.998623</td>\n",
       "    </tr>\n",
       "    <tr>\n",
       "      <th>5</th>\n",
       "      <td>0.021000</td>\n",
       "      <td>0.002001</td>\n",
       "      <td>0.583851</td>\n",
       "      <td>0.998623</td>\n",
       "    </tr>\n",
       "    <tr>\n",
       "      <th>6</th>\n",
       "      <td>0.018000</td>\n",
       "      <td>0.002001</td>\n",
       "      <td>0.732919</td>\n",
>>>>>>> 46369d6193687bfa3113b0bb09e9ea33804f2bee
       "      <td>0.998623</td>\n",
       "    </tr>\n",
       "    <tr>\n",
       "      <th>5</th>\n",
       "      <td>0.025003</td>\n",
       "      <td>0.003000</td>\n",
       "      <td>0.627329</td>\n",
       "      <td>0.998623</td>\n",
       "    </tr>\n",
       "    <tr>\n",
       "      <th>6</th>\n",
       "      <td>0.027001</td>\n",
       "      <td>0.003002</td>\n",
       "      <td>0.751553</td>\n",
       "      <td>0.998623</td>\n",
       "    </tr>\n",
       "    <tr>\n",
       "      <th>7</th>\n",
<<<<<<< HEAD
       "      <td>0.023000</td>\n",
       "      <td>0.003001</td>\n",
       "      <td>0.763975</td>\n",
=======
       "      <td>0.019986</td>\n",
       "      <td>0.002002</td>\n",
       "      <td>0.726708</td>\n",
>>>>>>> 46369d6193687bfa3113b0bb09e9ea33804f2bee
       "      <td>0.999311</td>\n",
       "    </tr>\n",
       "    <tr>\n",
       "      <th>8</th>\n",
<<<<<<< HEAD
       "      <td>0.024000</td>\n",
       "      <td>0.003000</td>\n",
       "      <td>0.645963</td>\n",
=======
       "      <td>0.020014</td>\n",
       "      <td>0.002001</td>\n",
       "      <td>0.639752</td>\n",
>>>>>>> 46369d6193687bfa3113b0bb09e9ea33804f2bee
       "      <td>0.999311</td>\n",
       "    </tr>\n",
       "    <tr>\n",
       "      <th>9</th>\n",
<<<<<<< HEAD
       "      <td>0.027002</td>\n",
       "      <td>0.004001</td>\n",
       "      <td>0.714286</td>\n",
=======
       "      <td>0.021000</td>\n",
       "      <td>0.001003</td>\n",
       "      <td>0.695652</td>\n",
>>>>>>> 46369d6193687bfa3113b0bb09e9ea33804f2bee
       "      <td>0.998623</td>\n",
       "    </tr>\n",
       "  </tbody>\n",
       "</table>\n",
       "</div>"
      ],
      "text/plain": [
       "   fit_time  score_time  test_score  train_score\n",
<<<<<<< HEAD
       "0  0.027027    0.002002    0.679012     0.999311\n",
       "1  0.027003    0.002999    0.635802     0.998622\n",
       "2  0.023998    0.004000    0.666667     0.999311\n",
       "3  0.027002    0.003000    0.720497     0.998623\n",
       "4  0.025002    0.004000    0.739130     0.998623\n",
       "5  0.025003    0.003000    0.627329     0.998623\n",
       "6  0.027001    0.003002    0.751553     0.998623\n",
       "7  0.023000    0.003001    0.763975     0.999311\n",
       "8  0.024000    0.003000    0.645963     0.999311\n",
       "9  0.027002    0.004001    0.714286     0.998623"
      ]
     },
     "execution_count": 141,
=======
       "0  0.023530    0.002003    0.716049     0.999311\n",
       "1  0.022999    0.002001    0.635802     0.998622\n",
       "2  0.021001    0.002000    0.641975     0.999311\n",
       "3  0.021003    0.002000    0.714286     0.998623\n",
       "4  0.022015    0.002000    0.726708     0.998623\n",
       "5  0.021000    0.002001    0.583851     0.998623\n",
       "6  0.018000    0.002001    0.732919     0.998623\n",
       "7  0.019986    0.002002    0.726708     0.999311\n",
       "8  0.020014    0.002001    0.639752     0.999311\n",
       "9  0.021000    0.001003    0.695652     0.998623"
      ]
     },
     "execution_count": 98,
>>>>>>> 46369d6193687bfa3113b0bb09e9ea33804f2bee
     "metadata": {},
     "output_type": "execute_result"
    }
   ],
   "source": [
    "df_scrs"
   ]
  },
  {
   "cell_type": "code",
<<<<<<< HEAD
   "execution_count": 142,
=======
   "execution_count": 99,
>>>>>>> 46369d6193687bfa3113b0bb09e9ea33804f2bee
   "metadata": {},
   "outputs": [
    {
     "data": {
      "text/plain": [
       "0.9988978817686291"
      ]
     },
<<<<<<< HEAD
     "execution_count": 142,
=======
     "execution_count": 99,
>>>>>>> 46369d6193687bfa3113b0bb09e9ea33804f2bee
     "metadata": {},
     "output_type": "execute_result"
    }
   ],
   "source": [
    "df_scrs.train_score.mean()"
   ]
  },
  {
   "cell_type": "code",
<<<<<<< HEAD
   "execution_count": 143,
=======
   "execution_count": 100,
>>>>>>> 46369d6193687bfa3113b0bb09e9ea33804f2bee
   "metadata": {},
   "outputs": [
    {
     "data": {
      "text/plain": [
<<<<<<< HEAD
       "0.6944214400736141"
      ]
     },
     "execution_count": 143,
=======
       "0.6813702936891343"
      ]
     },
     "execution_count": 100,
>>>>>>> 46369d6193687bfa3113b0bb09e9ea33804f2bee
     "metadata": {},
     "output_type": "execute_result"
    }
   ],
   "source": [
    "df_scrs.test_score.mean()"
   ]
  },
  {
   "cell_type": "markdown",
   "metadata": {},
   "source": [
    "#### 2(e)\n",
    "rubric={points:1}\n",
    "\n",
    "Do you see a significant difference between the training score and the cross-validation score? Briefly discuss."
   ]
  },
  {
   "cell_type": "code",
<<<<<<< HEAD
   "execution_count": 144,
=======
   "execution_count": 101,
>>>>>>> 46369d6193687bfa3113b0bb09e9ea33804f2bee
   "metadata": {},
   "outputs": [],
   "source": [
    "# yes three is significant diffrence between training score and validation score\n",
    "\n",
    "# average training score :- 0.99\n",
    "\n",
    "# average validation score :- 0.68"
   ]
  },
  {
   "cell_type": "markdown",
   "metadata": {
    "nbgrader": {
     "grade": true,
     "grade_id": "cell-a89757274fc5586f",
     "locked": false,
     "points": 0,
     "schema_version": 3,
     "solution": true,
     "task": false
    }
   },
   "source": []
  },
  {
   "cell_type": "markdown",
   "metadata": {},
   "source": [
    "#### 2(f)\n",
    "rubric={points:1}\n",
    "\n",
    "Inspect the 10 sub-scores from the 10 folds of cross-validation. How does this inform the trustworthiness of your cross validation score?"
   ]
  },
  {
   "cell_type": "code",
   "execution_count": 104,
   "metadata": {},
   "outputs": [
    {
     "data": {
      "text/plain": [
       "0.9988978817686291"
      ]
     },
     "execution_count": 104,
     "metadata": {},
     "output_type": "execute_result"
    }
   ],
   "source": [
    "#training score\n",
    "df_scrs.train_score.mean()"
   ]
  },
  {
   "cell_type": "code",
   "execution_count": 103,
   "metadata": {},
   "outputs": [
    {
     "data": {
      "text/plain": [
       "0.6813702936891343"
      ]
     },
     "execution_count": 103,
     "metadata": {},
     "output_type": "execute_result"
    }
   ],
   "source": [
    "#validation score\n",
    "df_scrs.test_score.mean()"
   ]
  },
  {
   "cell_type": "code",
   "execution_count": 105,
   "metadata": {
    "nbgrader": {
     "grade": true,
     "grade_id": "cell-a89757274fc5586f",
     "locked": false,
     "points": 0,
     "schema_version": 3,
     "solution": true,
     "task": false
    }
   },
   "outputs": [
    {
     "data": {
      "text/plain": [
       "0.6806930693069307"
      ]
     },
     "execution_count": 105,
     "metadata": {},
     "output_type": "execute_result"
    }
   ],
   "source": [
    "#testing score\n",
    "tree_model.score(x_test,y_test)"
   ]
  },
  {
   "cell_type": "code",
   "execution_count": 108,
   "metadata": {},
   "outputs": [],
   "source": [
    "# here we can see that the testing score looks identical to validation score "
   ]
  },
  {
   "cell_type": "markdown",
   "metadata": {
    "nbgrader": {
     "grade": false,
     "grade_id": "cell-4150979c1845a18c",
     "locked": true,
     "schema_version": 3,
     "solution": false,
     "task": false
    }
   },
   "source": [
    "## Exercise 3: Hyperparameters \n",
    "rubric={points:10}\n",
    "\n",
    "In this exercise, you'll experiment with the `max_depth` hyperparameter of the decision tree classifier. See the [`DecisionTreeClassifier` documentation](https://scikit-learn.org/stable/modules/generated/sklearn.tree.DecisionTreeClassifier.html) for more details.\n",
    "\n",
    "- Explore the `max_depth` hyperparameter. Run 10-fold cross-validation for trees with different values of `max_depth` (at least 10 different values in the range 1 to 25).\n",
    "- For each `max_depth`, get both the train accuracy and the cross-validation accuracy.\n",
    "- Make a plot with `max_depth` on the *x*-axis and the train and cross-validation scores on the *y*-axis. That is, your plot should have two curves, one for train and one for cross-validation. Include a legend to specify which is which.\n",
    "- Discuss how changing the `max_depth` hyperparameter affects the training and cross-validation accuracy. From these results, what depth would you pick as the optimal depth? \n",
    "- Do you think that the depth you chose would generalize to other \"spotify\" datasets (i.e., data on other spotify users)?\n",
    "\n",
    "> Note: generally speaking (for all assignments) you are welcome to copy/paste code directly from the lecture notes, though I ask that you add a small citation (e.g. \"Adapted from lecture 2\") if you do so."
   ]
  },
  {
   "cell_type": "code",
<<<<<<< HEAD
   "execution_count": 145,
=======
   "execution_count": 109,
>>>>>>> 46369d6193687bfa3113b0bb09e9ea33804f2bee
   "metadata": {},
   "outputs": [
    {
     "data": {
      "text/plain": [
       "Index(['fit_time', 'score_time', 'test_score', 'train_score'], dtype='object')"
      ]
     },
<<<<<<< HEAD
     "execution_count": 145,
=======
     "execution_count": 109,
>>>>>>> 46369d6193687bfa3113b0bb09e9ea33804f2bee
     "metadata": {},
     "output_type": "execute_result"
    }
   ],
   "source": [
    "df_scrs.columns"
   ]
  },
  {
   "cell_type": "code",
<<<<<<< HEAD
   "execution_count": 146,
=======
   "execution_count": 110,
>>>>>>> 46369d6193687bfa3113b0bb09e9ea33804f2bee
   "metadata": {},
   "outputs": [
    {
     "data": {
      "text/plain": [
       "5"
      ]
     },
<<<<<<< HEAD
     "execution_count": 146,
=======
     "execution_count": 110,
>>>>>>> 46369d6193687bfa3113b0bb09e9ea33804f2bee
     "metadata": {},
     "output_type": "execute_result"
    }
   ],
   "source": [
    "dsdmodel = DecisionTreeClassifier(max_depth=5)\n",
    "dasdm_score =  cross_validate(dsdmodel,x_train,y_train,cv=10,return_train_score=True)\n",
    "\n",
    "dsdmodel.fit(x_train,y_train).get_depth()"
   ]
  },
  {
   "cell_type": "code",
<<<<<<< HEAD
   "execution_count": 147,
=======
   "execution_count": 111,
>>>>>>> 46369d6193687bfa3113b0bb09e9ea33804f2bee
   "metadata": {},
   "outputs": [
    {
     "name": "stdout",
     "output_type": "stream",
     "text": [
      "   max_depth  mean_cv_score  mean_train_score\n",
<<<<<<< HEAD
      "0          2       0.710505          0.717986\n",
      "4          3       0.709888          0.731625\n",
      "9          4       0.732781          0.764345\n",
      "3          7       0.712990          0.858236\n",
      "8          9       0.712376          0.914582\n",
      "1         10       0.703094          0.937727\n",
      "6         13       0.696887          0.981470\n",
      "2         17       0.686343          0.997520\n",
      "5         18       0.673940          0.998209\n",
      "7         20       0.683230          0.998760\n"
=======
      "3          2       0.710505          0.717986\n",
      "1          3       0.709888          0.731625\n",
      "2          4       0.732781          0.764345\n",
      "5          6       0.716092          0.823312\n",
      "0          8       0.712978          0.887304\n",
      "7         11       0.699988          0.958806\n",
      "9         13       0.696891          0.981056\n",
      "8         17       0.684472          0.997589\n",
      "4         21       0.685745          0.998829\n",
      "6         24       0.682620          0.998898\n"
>>>>>>> 46369d6193687bfa3113b0bb09e9ea33804f2bee
     ]
    },
    {
     "data": {
      "text/plain": [
       "<AxesSubplot:xlabel='max_depth'>"
      ]
     },
<<<<<<< HEAD
     "execution_count": 147,
=======
     "execution_count": 111,
>>>>>>> 46369d6193687bfa3113b0bb09e9ea33804f2bee
     "metadata": {},
     "output_type": "execute_result"
    },
    {
     "data": {
<<<<<<< HEAD
      "image/png": "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\n",
=======
      "image/png": "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\n",
>>>>>>> 46369d6193687bfa3113b0bb09e9ea33804f2bee
      "text/plain": [
       "<Figure size 640x480 with 1 Axes>"
      ]
     },
     "metadata": {},
     "output_type": "display_data"
    }
   ],
   "source": [
    "def get_train_test_score(max_depth,x_train,y_train,cv=5,return_train_score=True):\n",
    "    model = DecisionTreeClassifier(max_depth=max_depth)\n",
    "    m_score =  cross_validate(model,x_train,y_train,cv=cv,return_train_score=return_train_score)\n",
    "    dic = {}\n",
    "    \n",
    "    dic['max_depth'] = max_depth\n",
    "    dic['mean_cv_score'] = m_score['test_score'].mean()\n",
    "    dic['mean_train_score'] = m_score['train_score'].mean()\n",
    "    return dic\n",
    "\n",
    "\n",
    "\n",
    "\n",
    "df_scored = {\n",
    "    'max_depth':[],\n",
    "    'mean_cv_score':[],\n",
    "    'mean_train_score':[],\n",
    "}\n",
    "\n",
    "max_deth_list = rd.sample(range(1,25),10)\n",
    "\n",
    "for depth in max_deth_list:\n",
    "    ret_scr = get_train_test_score(depth,x_train,y_train,cv=10)\n",
    "    df_scored['max_depth'].append(ret_scr['max_depth'])\n",
    "    df_scored['mean_cv_score'].append(ret_scr['mean_cv_score'])\n",
    "    df_scored['mean_train_score'].append(ret_scr['mean_train_score'])\n",
    "\n",
    "df_scored = pd.DataFrame(df_scored).sort_values(by='max_depth')\n",
    "print(df_scored)\n",
    "df_scored.plot(x='max_depth')"
   ]
  },
  {
   "cell_type": "markdown",
   "metadata": {},
   "source": []
  },
  {
   "cell_type": "markdown",
   "metadata": {},
   "source": [
    "## Exercise 4: Test set\n",
    "rubric={points:4}\n",
    "\n",
    "Remember the test set you created way back at the beginning of this assignment? Let's use it now to see if our cross-validation score from the previous exercise is trustworthy. \n",
    "\n",
    "- Select your favorite `max_depth` from the previous part.\n",
    "- Train a decision tree classifier using that `max_depth` on the _entire training set_.\n",
    "- Compute and display the test score. \n",
    "- How does it compare to the cross-validation score from the previous exercise? Briefly discuss. "
   ]
  },
  {
   "cell_type": "code",
<<<<<<< HEAD
   "execution_count": 148,
=======
   "execution_count": 112,
>>>>>>> 46369d6193687bfa3113b0bb09e9ea33804f2bee
   "metadata": {},
   "outputs": [
    {
     "data": {
      "text/plain": [
       "0.6683168316831684"
      ]
     },
<<<<<<< HEAD
     "execution_count": 148,
=======
     "execution_count": 112,
>>>>>>> 46369d6193687bfa3113b0bb09e9ea33804f2bee
     "metadata": {},
     "output_type": "execute_result"
    }
   ],
   "source": [
    "# from previous step i choose max depth 3 \n",
    "\n",
    "model1 = DecisionTreeClassifier(max_depth=3)\n",
    "model1.fit(x_train,y_train)\n",
    "\n",
    "model1.score(x_test,y_test)"
   ]
  },
  {
   "cell_type": "code",
<<<<<<< HEAD
   "execution_count": 149,
=======
   "execution_count": 113,
>>>>>>> 46369d6193687bfa3113b0bb09e9ea33804f2bee
   "metadata": {},
   "outputs": [
    {
     "data": {
      "text/html": [
       "<div>\n",
       "<style scoped>\n",
       "    .dataframe tbody tr th:only-of-type {\n",
       "        vertical-align: middle;\n",
       "    }\n",
       "\n",
       "    .dataframe tbody tr th {\n",
       "        vertical-align: top;\n",
       "    }\n",
       "\n",
       "    .dataframe thead th {\n",
       "        text-align: right;\n",
       "    }\n",
       "</style>\n",
       "<table border=\"1\" class=\"dataframe\">\n",
       "  <thead>\n",
       "    <tr style=\"text-align: right;\">\n",
       "      <th></th>\n",
       "      <th>mean_cv_score</th>\n",
       "      <th>mean_train_score</th>\n",
       "      <th>test_score</th>\n",
       "    </tr>\n",
       "    <tr>\n",
       "      <th>max_depth</th>\n",
       "      <th></th>\n",
       "      <th></th>\n",
       "      <th></th>\n",
       "    </tr>\n",
       "  </thead>\n",
       "  <tbody>\n",
       "    <tr>\n",
       "      <th>1</th>\n",
       "      <td>0.641063</td>\n",
       "      <td>0.645519</td>\n",
       "      <td>0.626238</td>\n",
       "    </tr>\n",
       "    <tr>\n",
       "      <th>2</th>\n",
       "      <td>0.710505</td>\n",
       "      <td>0.717986</td>\n",
       "      <td>0.668317</td>\n",
       "    </tr>\n",
       "    <tr>\n",
       "      <th>3</th>\n",
       "      <td>0.709888</td>\n",
       "      <td>0.731625</td>\n",
       "      <td>0.668317</td>\n",
       "    </tr>\n",
       "    <tr>\n",
       "      <th>4</th>\n",
       "      <td>0.733402</td>\n",
       "      <td>0.764345</td>\n",
       "      <td>0.693069</td>\n",
       "    </tr>\n",
       "    <tr>\n",
       "      <th>5</th>\n",
<<<<<<< HEAD
       "      <td>0.709278</td>\n",
       "      <td>0.792589</td>\n",
=======
       "      <td>0.709275</td>\n",
       "      <td>0.792658</td>\n",
>>>>>>> 46369d6193687bfa3113b0bb09e9ea33804f2bee
       "      <td>0.705446</td>\n",
       "    </tr>\n",
       "    <tr>\n",
       "      <th>6</th>\n",
<<<<<<< HEAD
       "      <td>0.716092</td>\n",
       "      <td>0.823174</td>\n",
=======
       "      <td>0.713615</td>\n",
       "      <td>0.823243</td>\n",
>>>>>>> 46369d6193687bfa3113b0bb09e9ea33804f2bee
       "      <td>0.695545</td>\n",
       "    </tr>\n",
       "    <tr>\n",
       "      <th>7</th>\n",
<<<<<<< HEAD
       "      <td>0.710505</td>\n",
       "      <td>0.857823</td>\n",
       "      <td>0.680693</td>\n",
       "    </tr>\n",
       "    <tr>\n",
       "      <th>8</th>\n",
       "      <td>0.713611</td>\n",
       "      <td>0.887649</td>\n",
       "      <td>0.693069</td>\n",
       "    </tr>\n",
       "    <tr>\n",
       "      <th>9</th>\n",
       "      <td>0.705559</td>\n",
       "      <td>0.914582</td>\n",
       "      <td>0.665842</td>\n",
       "    </tr>\n",
       "    <tr>\n",
       "      <th>10</th>\n",
       "      <td>0.709888</td>\n",
       "      <td>0.937245</td>\n",
       "      <td>0.663366</td>\n",
       "    </tr>\n",
       "    <tr>\n",
       "      <th>11</th>\n",
       "      <td>0.699981</td>\n",
       "      <td>0.958875</td>\n",
       "      <td>0.663366</td>\n",
       "    </tr>\n",
       "    <tr>\n",
       "      <th>12</th>\n",
       "      <td>0.706200</td>\n",
       "      <td>0.972928</td>\n",
       "      <td>0.660891</td>\n",
       "    </tr>\n",
       "    <tr>\n",
       "      <th>13</th>\n",
       "      <td>0.695645</td>\n",
       "      <td>0.981745</td>\n",
       "      <td>0.658416</td>\n",
       "    </tr>\n",
       "    <tr>\n",
       "      <th>14</th>\n",
       "      <td>0.696868</td>\n",
       "      <td>0.987876</td>\n",
       "      <td>0.675743</td>\n",
       "    </tr>\n",
       "    <tr>\n",
       "      <th>15</th>\n",
       "      <td>0.689449</td>\n",
       "      <td>0.993387</td>\n",
       "      <td>0.660891</td>\n",
       "    </tr>\n",
       "    <tr>\n",
       "      <th>16</th>\n",
       "      <td>0.675190</td>\n",
       "      <td>0.995729</td>\n",
       "      <td>0.675743</td>\n",
       "    </tr>\n",
       "    <tr>\n",
       "      <th>17</th>\n",
       "      <td>0.681409</td>\n",
       "      <td>0.997589</td>\n",
       "      <td>0.650990</td>\n",
       "    </tr>\n",
       "    <tr>\n",
       "      <th>18</th>\n",
       "      <td>0.687601</td>\n",
       "      <td>0.998278</td>\n",
       "      <td>0.648515</td>\n",
       "    </tr>\n",
       "    <tr>\n",
       "      <th>19</th>\n",
       "      <td>0.682643</td>\n",
       "      <td>0.998622</td>\n",
       "      <td>0.690594</td>\n",
       "    </tr>\n",
       "    <tr>\n",
       "      <th>20</th>\n",
       "      <td>0.678901</td>\n",
       "      <td>0.998760</td>\n",
       "      <td>0.670792</td>\n",
       "    </tr>\n",
       "    <tr>\n",
       "      <th>21</th>\n",
       "      <td>0.681999</td>\n",
       "      <td>0.998829</td>\n",
       "      <td>0.665842</td>\n",
       "    </tr>\n",
       "    <tr>\n",
       "      <th>22</th>\n",
       "      <td>0.679538</td>\n",
       "      <td>0.998898</td>\n",
       "      <td>0.678218</td>\n",
       "    </tr>\n",
       "    <tr>\n",
       "      <th>23</th>\n",
       "      <td>0.681382</td>\n",
=======
       "      <td>0.709278</td>\n",
       "      <td>0.858098</td>\n",
       "      <td>0.685644</td>\n",
       "    </tr>\n",
       "    <tr>\n",
       "      <th>8</th>\n",
       "      <td>0.716709</td>\n",
       "      <td>0.887442</td>\n",
       "      <td>0.688119</td>\n",
       "    </tr>\n",
       "    <tr>\n",
       "      <th>9</th>\n",
       "      <td>0.708032</td>\n",
       "      <td>0.914789</td>\n",
       "      <td>0.668317</td>\n",
       "    </tr>\n",
       "    <tr>\n",
       "      <th>10</th>\n",
       "      <td>0.704317</td>\n",
       "      <td>0.937589</td>\n",
       "      <td>0.670792</td>\n",
       "    </tr>\n",
       "    <tr>\n",
       "      <th>11</th>\n",
       "      <td>0.696258</td>\n",
       "      <td>0.958806</td>\n",
       "      <td>0.673267</td>\n",
       "    </tr>\n",
       "    <tr>\n",
       "      <th>12</th>\n",
       "      <td>0.703711</td>\n",
       "      <td>0.973134</td>\n",
       "      <td>0.670792</td>\n",
       "    </tr>\n",
       "    <tr>\n",
       "      <th>13</th>\n",
       "      <td>0.695027</td>\n",
       "      <td>0.981814</td>\n",
       "      <td>0.670792</td>\n",
       "    </tr>\n",
       "    <tr>\n",
       "      <th>14</th>\n",
       "      <td>0.695023</td>\n",
       "      <td>0.988702</td>\n",
       "      <td>0.670792</td>\n",
       "    </tr>\n",
       "    <tr>\n",
       "      <th>15</th>\n",
       "      <td>0.688210</td>\n",
       "      <td>0.992904</td>\n",
       "      <td>0.660891</td>\n",
       "    </tr>\n",
       "    <tr>\n",
       "      <th>16</th>\n",
       "      <td>0.684487</td>\n",
       "      <td>0.995798</td>\n",
       "      <td>0.665842</td>\n",
       "    </tr>\n",
       "    <tr>\n",
       "      <th>17</th>\n",
       "      <td>0.688824</td>\n",
       "      <td>0.997589</td>\n",
       "      <td>0.658416</td>\n",
       "    </tr>\n",
       "    <tr>\n",
       "      <th>18</th>\n",
       "      <td>0.695027</td>\n",
       "      <td>0.998278</td>\n",
       "      <td>0.650990</td>\n",
       "    </tr>\n",
       "    <tr>\n",
       "      <th>19</th>\n",
       "      <td>0.685722</td>\n",
       "      <td>0.998622</td>\n",
       "      <td>0.653465</td>\n",
       "    </tr>\n",
       "    <tr>\n",
       "      <th>20</th>\n",
       "      <td>0.684484</td>\n",
       "      <td>0.998760</td>\n",
       "      <td>0.665842</td>\n",
       "    </tr>\n",
       "    <tr>\n",
       "      <th>21</th>\n",
       "      <td>0.686347</td>\n",
       "      <td>0.998829</td>\n",
       "      <td>0.650990</td>\n",
       "    </tr>\n",
       "    <tr>\n",
       "      <th>22</th>\n",
       "      <td>0.686964</td>\n",
       "      <td>0.998898</td>\n",
       "      <td>0.658416</td>\n",
       "    </tr>\n",
       "    <tr>\n",
       "      <th>23</th>\n",
       "      <td>0.689418</td>\n",
>>>>>>> 46369d6193687bfa3113b0bb09e9ea33804f2bee
       "      <td>0.998898</td>\n",
       "      <td>0.663366</td>\n",
       "    </tr>\n",
       "    <tr>\n",
       "      <th>24</th>\n",
<<<<<<< HEAD
       "      <td>0.687581</td>\n",
=======
       "      <td>0.681370</td>\n",
>>>>>>> 46369d6193687bfa3113b0bb09e9ea33804f2bee
       "      <td>0.998898</td>\n",
       "      <td>0.683168</td>\n",
       "    </tr>\n",
       "  </tbody>\n",
       "</table>\n",
       "</div>"
      ],
      "text/plain": [
       "           mean_cv_score  mean_train_score  test_score\n",
       "max_depth                                             \n",
       "1               0.641063          0.645519    0.626238\n",
       "2               0.710505          0.717986    0.668317\n",
       "3               0.709888          0.731625    0.668317\n",
       "4               0.733402          0.764345    0.693069\n",
<<<<<<< HEAD
       "5               0.709278          0.792589    0.705446\n",
       "6               0.716092          0.823174    0.695545\n",
       "7               0.710505          0.857823    0.680693\n",
       "8               0.713611          0.887649    0.693069\n",
       "9               0.705559          0.914582    0.665842\n",
       "10              0.709888          0.937245    0.663366\n",
       "11              0.699981          0.958875    0.663366\n",
       "12              0.706200          0.972928    0.660891\n",
       "13              0.695645          0.981745    0.658416\n",
       "14              0.696868          0.987876    0.675743\n",
       "15              0.689449          0.993387    0.660891\n",
       "16              0.675190          0.995729    0.675743\n",
       "17              0.681409          0.997589    0.650990\n",
       "18              0.687601          0.998278    0.648515\n",
       "19              0.682643          0.998622    0.690594\n",
       "20              0.678901          0.998760    0.670792\n",
       "21              0.681999          0.998829    0.665842\n",
       "22              0.679538          0.998898    0.678218\n",
       "23              0.681382          0.998898    0.663366\n",
       "24              0.687581          0.998898    0.683168"
      ]
     },
     "execution_count": 149,
=======
       "5               0.709275          0.792658    0.705446\n",
       "6               0.713615          0.823243    0.695545\n",
       "7               0.709278          0.858098    0.685644\n",
       "8               0.716709          0.887442    0.688119\n",
       "9               0.708032          0.914789    0.668317\n",
       "10              0.704317          0.937589    0.670792\n",
       "11              0.696258          0.958806    0.673267\n",
       "12              0.703711          0.973134    0.670792\n",
       "13              0.695027          0.981814    0.670792\n",
       "14              0.695023          0.988702    0.670792\n",
       "15              0.688210          0.992904    0.660891\n",
       "16              0.684487          0.995798    0.665842\n",
       "17              0.688824          0.997589    0.658416\n",
       "18              0.695027          0.998278    0.650990\n",
       "19              0.685722          0.998622    0.653465\n",
       "20              0.684484          0.998760    0.665842\n",
       "21              0.686347          0.998829    0.650990\n",
       "22              0.686964          0.998898    0.658416\n",
       "23              0.689418          0.998898    0.663366\n",
       "24              0.681370          0.998898    0.683168"
      ]
     },
     "execution_count": 113,
>>>>>>> 46369d6193687bfa3113b0bb09e9ea33804f2bee
     "metadata": {},
     "output_type": "execute_result"
    },
    {
     "data": {
<<<<<<< HEAD
      "image/png": "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\n",
=======
      "image/png": "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\n",
>>>>>>> 46369d6193687bfa3113b0bb09e9ea33804f2bee
      "text/plain": [
       "<Figure size 640x480 with 1 Axes>"
      ]
     },
     "metadata": {},
     "output_type": "display_data"
    }
   ],
   "source": [
    "def get_train_test_score(max_depth,x_train,y_train,cv=5,return_train_score=True,return_test_score=False,x_test=None,y_test=None):\n",
    "    model = DecisionTreeClassifier(max_depth=max_depth)\n",
    "    model.fit(x_train,y_train)\n",
    "    m_score =  cross_validate(model,x_train,y_train,cv=cv,return_train_score=return_train_score)\n",
    "    dic = {}\n",
    "    \n",
    "    dic['max_depth'] = max_depth\n",
    "    dic['mean_cv_score'] = m_score['test_score'].mean()\n",
    "    dic['mean_train_score'] = m_score['train_score'].mean()\n",
    "    dic['test_score'] = model.score(x_test,y_test)\n",
    "    \n",
    "    return dic\n",
    "\n",
    "df_scored = {\n",
    "    'max_depth':[],\n",
    "    'mean_cv_score':[],\n",
    "    'mean_train_score':[],\n",
    "    'test_score':[],\n",
    "}\n",
    "\n",
    "# max_deth_list = rd.sample(range(1,25),10)\n",
    "max_deth_list = range(1,25)\n",
    "\n",
    "for depth in max_deth_list:\n",
    "    ret_scr = get_train_test_score(depth,x_train,y_train,cv=10,return_test_score=True,x_test=x_test,y_test=y_test)\n",
    "    df_scored['max_depth'].append(ret_scr['max_depth'])\n",
    "    df_scored['mean_cv_score'].append(ret_scr['mean_cv_score'])\n",
    "    df_scored['mean_train_score'].append(ret_scr['mean_train_score'])\n",
    "    df_scored['test_score'].append(ret_scr['test_score'])\n",
    "\n",
    "df_scored = pd.DataFrame(df_scored).sort_values(by='max_depth')\n",
    "df_scored.set_index('max_depth',inplace=True)\n",
    "\n",
    "df_scored.plot()\n",
    "df_scored"
   ]
  },
  {
   "cell_type": "code",
   "execution_count": null,
   "metadata": {},
   "outputs": [],
   "source": []
  },
  {
   "cell_type": "markdown",
   "metadata": {},
   "source": []
  },
  {
   "cell_type": "markdown",
   "metadata": {},
   "source": [
    "## Exercise 5: Conceptual questions\n",
    "rubric={points:3}\n",
    "\n",
    "Consider the dataset below, which has $6$ examples and $2$ features:\n",
    "\n",
    "$$ X = \\begin{bmatrix}5 & 2\\\\4 & 3\\\\  2 & 2\\\\ 10 & 10\\\\ 9 & -1\\\\ 9& 9\\end{bmatrix}, \\quad y = \\begin{bmatrix}-1\\\\-1\\\\+1\\\\+1\\\\+1\\\\+1\\end{bmatrix}.$$\n",
    "\n",
    "1. Say we fit a decision stump (depth 1 decision tree) and the first split is on the first feature (left column) being less than 5.5. What would we predict in the \"true\" and \"false\" cases here?\n",
    "2. What training accuracy would the above stump get on this data set?\n",
    "3. Can we obtain 100% accuracy with a single decision stump in this particular example?"
   ]
  },
  {
   "cell_type": "code",
   "execution_count": 150,
   "metadata": {},
   "outputs": [],
   "source": [
    "# left_column <= 5.5    ->   true   (-1)\n",
    "# left_column > 5.5     ->   false  (+1)"
   ]
  },
  {
   "cell_type": "code",
   "execution_count": 121,
   "metadata": {},
   "outputs": [],
   "source": [
    "\n",
    "# training acuuracy = 3 / 4  = 0.66\n"
   ]
  },
  {
   "cell_type": "code",
   "execution_count": 122,
   "metadata": {},
   "outputs": [],
   "source": [
    "# No, we can't obtain 100% accuracy based on given condition.\n",
    "# \n",
    "# reason for that is give threshold value is 5.5 , but 3rd record will follow threshold value and model \n",
    "# will give us true(in our case -1) but actual value of that instance is '+1' that's why model can't give us 100% acuuracy\n",
    "# "
   ]
  },
  {
   "cell_type": "code",
   "execution_count": 118,
   "metadata": {},
   "outputs": [
    {
     "data": {
      "text/plain": [
       "1.0"
      ]
     },
     "execution_count": 118,
     "metadata": {},
     "output_type": "execute_result"
    }
   ],
   "source": [
    "data = {\n",
    "    \"a\":[5,4,2,10,9,9],\n",
    "    \"b\":[2,3,2,10,-1,9],\n",
    "    \"y\":[-1,-1,1,1,1,1]\n",
    "    \n",
    "}\n",
    "\n",
    "df_data = pd.DataFrame(data)\n",
    "train_df,test_df = train_test_split(df_data,test_size=0.20,random_state=111)\n",
    "x_train,y_train = train_df.drop(columns=['y']),train_df['y']\n",
    "x_test,y_test = test_df.drop(columns=['y']),test_df['y']\n",
    "\n",
    "\n",
    "model = DecisionTreeClassifier(max_depth=1)\n",
    "\n",
    "model.fit(x_train,y_train)\n",
    "\n",
    "model.score(x_train,y_train)"
   ]
  },
  {
   "cell_type": "code",
   "execution_count": 119,
   "metadata": {},
   "outputs": [
    {
     "data": {
      "text/plain": [
       "0.5"
      ]
     },
     "execution_count": 119,
     "metadata": {},
     "output_type": "execute_result"
    }
   ],
   "source": [
    "model.score(x_test,y_test)"
   ]
  },
  {
   "cell_type": "markdown",
   "metadata": {},
   "source": []
  },
  {
   "cell_type": "code",
   "execution_count": null,
   "metadata": {},
   "outputs": [],
   "source": [
    "# left_column <= 5.5    ->   true   (-1)\n",
    "# left_column > 5.5     ->   false  (+1)\n",
    "# training acuuracy = 3 / 4  = 0.66\n"
   ]
  },
  {
   "cell_type": "code",
   "execution_count": null,
   "metadata": {},
   "outputs": [],
   "source": [
    "# No, we can't obtain 100% accuracy based on given condition.\n"
   ]
  },
  {
   "cell_type": "code",
   "execution_count": 152,
   "metadata": {},
   "outputs": [],
   "source": [
    "# \n",
    "# reason for that is give threshold value is 5.5 , but 3rd record will follow threshold value and model \n",
    "# will give us true(in our case -1) but actual value of that instance is '+1' that's why model can't give us 100% acuuracy\n",
    "# "
   ]
  }
 ],
 "metadata": {
  "anaconda-cloud": {},
  "celltoolbar": "Create Assignment",
  "kernelspec": {
   "display_name": "Python 3 (ipykernel)",
   "language": "python",
   "name": "python3"
  },
  "language_info": {
   "codemirror_mode": {
    "name": "ipython",
    "version": 3
   },
   "file_extension": ".py",
   "mimetype": "text/x-python",
   "name": "python",
   "nbconvert_exporter": "python",
   "pygments_lexer": "ipython3",
   "version": "3.9.13"
  }
 },
 "nbformat": 4,
 "nbformat_minor": 4
}
